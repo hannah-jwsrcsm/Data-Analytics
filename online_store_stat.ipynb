{
 "cells": [
  {
   "cell_type": "markdown",
   "metadata": {},
   "source": [
    "# E-Commerce Store Analytics"
   ]
  },
  {
   "cell_type": "markdown",
   "metadata": {},
   "source": [
    "### Problem Statement"
   ]
  },
  {
   "cell_type": "markdown",
   "metadata": {},
   "source": [
    "Analytics for a startup that sells food products.  \n",
    "\n",
    "**Goal:**  \n",
    "* Understand how users behave in the mobile application.  \n",
    "\n",
    "**Objectives:**  \n",
    "* Analyze the sales funnel: determine how users progress toward making a purchase.  \n",
    "  Identify how many users complete a purchase versus how many “get stuck” at earlier stages, and at which specific steps.  \n",
    "* Investigate the results of an A/A/B experiment.  \n",
    "  Designers suggested changing the fonts throughout the app, while managers worried this might confuse users.  \n",
    "  It was agreed to make the decision based on the A/A/B test.  \n",
    "  Users were split into three groups: two control groups (old fonts) and one experimental group (new fonts).  \n",
    "  The task is to determine which font performs better.  \n",
    "\n",
    "**Data Description:**  \n",
    "* **EventName** — event name  \n",
    "* **DeviceIDHash** — unique user identifier  \n",
    "* **EventTimestamp** — event timestamp  \n",
    "* **ExpId** — experiment ID: 246 and 247 = control groups, 248 = experimental group  "
   ]
  },
  {
   "cell_type": "markdown",
   "metadata": {},
   "source": [
    "### Data Loading"
   ]
  },
  {
   "cell_type": "code",
   "execution_count": 12,
   "metadata": {},
   "outputs": [],
   "source": [
    "from scipy import stats as st\n",
    "from math import factorial\n",
    "from scipy.stats import binom\n",
    "from scipy import stats\n",
    "import pandas as pd\n",
    "import matplotlib.pyplot as plt\n",
    "import numpy as np\n",
    "import seaborn as sns\n",
    "from datetime import datetime, timedelta\n",
    "import os\n",
    "from pandas.plotting import register_matplotlib_converters\n",
    "import warnings\n",
    "import datetime as dt\n",
    "import plotly.express as px\n",
    "import math as mth\n",
    "import plotly.graph_objects as go"
   ]
  },
  {
   "cell_type": "code",
   "execution_count": 16,
   "metadata": {},
   "outputs": [],
   "source": [
    "# load datasets with hypotheses and A/B test results\n",
    "pth1 = '/datasets/logs_exp.csv'\n",
    "pth2 = 'https://code.s3.yandex.net/datasets/logs_exp.csv'\n",
    "\n",
    "if os.path.exists(pth1):\n",
    "    df = pd.read_csv(pth1, sep='\\t')\n",
    "else:\n",
    "    df = pd.read_csv(pth2, sep='\\t')"
   ]
  },
  {
   "cell_type": "code",
   "execution_count": 18,
   "metadata": {},
   "outputs": [
    {
     "name": "stdout",
     "output_type": "stream",
     "text": [
      "<class 'pandas.core.frame.DataFrame'>\n",
      "RangeIndex: 244126 entries, 0 to 244125\n",
      "Data columns (total 4 columns):\n",
      " #   Column          Non-Null Count   Dtype \n",
      "---  ------          --------------   ----- \n",
      " 0   EventName       244126 non-null  object\n",
      " 1   DeviceIDHash    244126 non-null  int64 \n",
      " 2   EventTimestamp  244126 non-null  int64 \n",
      " 3   ExpId           244126 non-null  int64 \n",
      "dtypes: int64(3), object(1)\n",
      "memory usage: 7.5+ MB\n"
     ]
    }
   ],
   "source": [
    "# quick look at the data\n",
    "df.info()"
   ]
  },
  {
   "cell_type": "code",
   "execution_count": 19,
   "metadata": {},
   "outputs": [
    {
     "data": {
      "text/html": [
       "<div>\n",
       "<style scoped>\n",
       "    .dataframe tbody tr th:only-of-type {\n",
       "        vertical-align: middle;\n",
       "    }\n",
       "\n",
       "    .dataframe tbody tr th {\n",
       "        vertical-align: top;\n",
       "    }\n",
       "\n",
       "    .dataframe thead th {\n",
       "        text-align: right;\n",
       "    }\n",
       "</style>\n",
       "<table border=\"1\" class=\"dataframe\">\n",
       "  <thead>\n",
       "    <tr style=\"text-align: right;\">\n",
       "      <th></th>\n",
       "      <th>EventName</th>\n",
       "      <th>DeviceIDHash</th>\n",
       "      <th>EventTimestamp</th>\n",
       "      <th>ExpId</th>\n",
       "    </tr>\n",
       "  </thead>\n",
       "  <tbody>\n",
       "    <tr>\n",
       "      <th>0</th>\n",
       "      <td>MainScreenAppear</td>\n",
       "      <td>4575588528974610257</td>\n",
       "      <td>1564029816</td>\n",
       "      <td>246</td>\n",
       "    </tr>\n",
       "    <tr>\n",
       "      <th>1</th>\n",
       "      <td>MainScreenAppear</td>\n",
       "      <td>7416695313311560658</td>\n",
       "      <td>1564053102</td>\n",
       "      <td>246</td>\n",
       "    </tr>\n",
       "    <tr>\n",
       "      <th>2</th>\n",
       "      <td>PaymentScreenSuccessful</td>\n",
       "      <td>3518123091307005509</td>\n",
       "      <td>1564054127</td>\n",
       "      <td>248</td>\n",
       "    </tr>\n",
       "    <tr>\n",
       "      <th>3</th>\n",
       "      <td>CartScreenAppear</td>\n",
       "      <td>3518123091307005509</td>\n",
       "      <td>1564054127</td>\n",
       "      <td>248</td>\n",
       "    </tr>\n",
       "    <tr>\n",
       "      <th>4</th>\n",
       "      <td>PaymentScreenSuccessful</td>\n",
       "      <td>6217807653094995999</td>\n",
       "      <td>1564055322</td>\n",
       "      <td>248</td>\n",
       "    </tr>\n",
       "  </tbody>\n",
       "</table>\n",
       "</div>"
      ],
      "text/plain": [
       "                 EventName         DeviceIDHash  EventTimestamp  ExpId\n",
       "0         MainScreenAppear  4575588528974610257      1564029816    246\n",
       "1         MainScreenAppear  7416695313311560658      1564053102    246\n",
       "2  PaymentScreenSuccessful  3518123091307005509      1564054127    248\n",
       "3         CartScreenAppear  3518123091307005509      1564054127    248\n",
       "4  PaymentScreenSuccessful  6217807653094995999      1564055322    248"
      ]
     },
     "execution_count": 19,
     "metadata": {},
     "output_type": "execute_result"
    }
   ],
   "source": [
    "df.head(5)"
   ]
  },
  {
   "cell_type": "markdown",
   "metadata": {},
   "source": [
    "#### Section Summary:\n",
    "1. The dataset contains 4 columns and 244,126 rows; data types match the values.  \n",
    "2. Column names are not formatted in lowercase snake_case.  "
   ]
  },
  {
   "cell_type": "markdown",
   "metadata": {},
   "source": [
    "### Data Preprocessing"
   ]
  },
  {
   "cell_type": "raw",
   "metadata": {},
   "source": [
    "df.columns = [x.lower() for x in df.columns.values]"
   ]
  },
  {
   "cell_type": "code",
   "execution_count": 21,
   "metadata": {},
   "outputs": [],
   "source": [
    "# bring column names to a consistent format\n",
    "df = (df\n",
    ".rename(columns={'EventName': 'event_name', 'DeviceIDHash': 'user_id', 'EventTimestamp': 'event_timestamp','ExpId': 'group'}) \n",
    ")"
   ]
  },
  {
   "cell_type": "code",
   "execution_count": 22,
   "metadata": {},
   "outputs": [],
   "source": [
    "# rename group IDs to descriptive labels for convenience\n",
    "dict = {246:'A1', 247:'A2', 248:'B'}\n",
    "df['group'] = df['group'].map(dict)"
   ]
  },
  {
   "cell_type": "code",
   "execution_count": 23,
   "metadata": {},
   "outputs": [
    {
     "data": {
      "text/plain": [
       "413"
      ]
     },
     "execution_count": 23,
     "metadata": {},
     "output_type": "execute_result"
    }
   ],
   "source": [
    "# check for duplicates\n",
    "df.duplicated().sum()"
   ]
  },
  {
   "cell_type": "code",
   "execution_count": 24,
   "metadata": {},
   "outputs": [
    {
     "data": {
      "text/plain": [
       "0"
      ]
     },
     "execution_count": 24,
     "metadata": {},
     "output_type": "execute_result"
    }
   ],
   "source": [
    "# remove duplicates\n",
    "df = df.drop_duplicates().reset_index(drop=True);\n",
    "df.duplicated().sum()"
   ]
  },
  {
   "cell_type": "code",
   "execution_count": 25,
   "metadata": {},
   "outputs": [
    {
     "data": {
      "text/plain": [
       "event_name         0\n",
       "user_id            0\n",
       "event_timestamp    0\n",
       "group              0\n",
       "dtype: int64"
      ]
     },
     "execution_count": 25,
     "metadata": {},
     "output_type": "execute_result"
    }
   ],
   "source": [
    "# check for missing values\n",
    "df.isna().sum()"
   ]
  },
  {
   "cell_type": "code",
   "execution_count": 26,
   "metadata": {},
   "outputs": [],
   "source": [
    "# add a column with the date in the required format\n",
    "df['datetime'] = df['event_timestamp'].astype('datetime64[s]')"
   ]
  },
  {
   "cell_type": "code",
   "execution_count": 27,
   "metadata": {},
   "outputs": [],
   "source": [
    "# add a date column\n",
    "df['date'] = df['datetime'].dt.date"
   ]
  },
  {
   "cell_type": "code",
   "execution_count": 28,
   "metadata": {},
   "outputs": [
    {
     "data": {
      "text/html": [
       "<div>\n",
       "<style scoped>\n",
       "    .dataframe tbody tr th:only-of-type {\n",
       "        vertical-align: middle;\n",
       "    }\n",
       "\n",
       "    .dataframe tbody tr th {\n",
       "        vertical-align: top;\n",
       "    }\n",
       "\n",
       "    .dataframe thead th {\n",
       "        text-align: right;\n",
       "    }\n",
       "</style>\n",
       "<table border=\"1\" class=\"dataframe\">\n",
       "  <thead>\n",
       "    <tr style=\"text-align: right;\">\n",
       "      <th></th>\n",
       "      <th>event_name</th>\n",
       "      <th>user_id</th>\n",
       "      <th>event_timestamp</th>\n",
       "      <th>group</th>\n",
       "      <th>datetime</th>\n",
       "      <th>date</th>\n",
       "    </tr>\n",
       "  </thead>\n",
       "  <tbody>\n",
       "    <tr>\n",
       "      <th>0</th>\n",
       "      <td>MainScreenAppear</td>\n",
       "      <td>4575588528974610257</td>\n",
       "      <td>1564029816</td>\n",
       "      <td>A1</td>\n",
       "      <td>2019-07-25 04:43:36</td>\n",
       "      <td>2019-07-25</td>\n",
       "    </tr>\n",
       "    <tr>\n",
       "      <th>1</th>\n",
       "      <td>MainScreenAppear</td>\n",
       "      <td>7416695313311560658</td>\n",
       "      <td>1564053102</td>\n",
       "      <td>A1</td>\n",
       "      <td>2019-07-25 11:11:42</td>\n",
       "      <td>2019-07-25</td>\n",
       "    </tr>\n",
       "    <tr>\n",
       "      <th>2</th>\n",
       "      <td>PaymentScreenSuccessful</td>\n",
       "      <td>3518123091307005509</td>\n",
       "      <td>1564054127</td>\n",
       "      <td>B</td>\n",
       "      <td>2019-07-25 11:28:47</td>\n",
       "      <td>2019-07-25</td>\n",
       "    </tr>\n",
       "    <tr>\n",
       "      <th>3</th>\n",
       "      <td>CartScreenAppear</td>\n",
       "      <td>3518123091307005509</td>\n",
       "      <td>1564054127</td>\n",
       "      <td>B</td>\n",
       "      <td>2019-07-25 11:28:47</td>\n",
       "      <td>2019-07-25</td>\n",
       "    </tr>\n",
       "    <tr>\n",
       "      <th>4</th>\n",
       "      <td>PaymentScreenSuccessful</td>\n",
       "      <td>6217807653094995999</td>\n",
       "      <td>1564055322</td>\n",
       "      <td>B</td>\n",
       "      <td>2019-07-25 11:48:42</td>\n",
       "      <td>2019-07-25</td>\n",
       "    </tr>\n",
       "  </tbody>\n",
       "</table>\n",
       "</div>"
      ],
      "text/plain": [
       "                event_name              user_id  event_timestamp group  \\\n",
       "0         MainScreenAppear  4575588528974610257       1564029816    A1   \n",
       "1         MainScreenAppear  7416695313311560658       1564053102    A1   \n",
       "2  PaymentScreenSuccessful  3518123091307005509       1564054127     B   \n",
       "3         CartScreenAppear  3518123091307005509       1564054127     B   \n",
       "4  PaymentScreenSuccessful  6217807653094995999       1564055322     B   \n",
       "\n",
       "             datetime        date  \n",
       "0 2019-07-25 04:43:36  2019-07-25  \n",
       "1 2019-07-25 11:11:42  2019-07-25  \n",
       "2 2019-07-25 11:28:47  2019-07-25  \n",
       "3 2019-07-25 11:28:47  2019-07-25  \n",
       "4 2019-07-25 11:48:42  2019-07-25  "
      ]
     },
     "execution_count": 28,
     "metadata": {},
     "output_type": "execute_result"
    }
   ],
   "source": [
    "df.head()"
   ]
  },
  {
   "cell_type": "code",
   "execution_count": 29,
   "metadata": {},
   "outputs": [
    {
     "name": "stdout",
     "output_type": "stream",
     "text": [
      "<class 'pandas.core.frame.DataFrame'>\n",
      "RangeIndex: 243713 entries, 0 to 243712\n",
      "Data columns (total 6 columns):\n",
      " #   Column           Non-Null Count   Dtype         \n",
      "---  ------           --------------   -----         \n",
      " 0   event_name       243713 non-null  object        \n",
      " 1   user_id          243713 non-null  int64         \n",
      " 2   event_timestamp  243713 non-null  int64         \n",
      " 3   group            243713 non-null  object        \n",
      " 4   datetime         243713 non-null  datetime64[ns]\n",
      " 5   date             243713 non-null  object        \n",
      "dtypes: datetime64[ns](1), int64(2), object(3)\n",
      "memory usage: 11.2+ MB\n"
     ]
    }
   ],
   "source": [
    "df.info()"
   ]
  },
  {
   "cell_type": "code",
   "execution_count": 30,
   "metadata": {},
   "outputs": [
    {
     "name": "stdout",
     "output_type": "stream",
     "text": [
      "Number of events in the logs: 243713\n"
     ]
    }
   ],
   "source": [
    "print('Number of events in the logs:', len(df))"
   ]
  },
  {
   "cell_type": "markdown",
   "metadata": {},
   "source": [
    "#### Section Summary:\n",
    "1. Column names are not formatted in lowercase snake_case.  \n",
    "2. Fewer than 0.2% duplicate rows were removed.  \n",
    "3. No missing values were found.  \n",
    "4. Two new columns were added: `datetime`, `date`.  \n",
    "5. Number of events in the logs: 243,713.  "
   ]
  },
  {
   "cell_type": "markdown",
   "metadata": {},
   "source": [
    "### Log Analysis"
   ]
  },
  {
   "cell_type": "code",
   "execution_count": 31,
   "metadata": {},
   "outputs": [
    {
     "data": {
      "text/plain": [
       "7551"
      ]
     },
     "execution_count": 31,
     "metadata": {},
     "output_type": "execute_result"
    }
   ],
   "source": [
    "# check the number of unique users\n",
    "df['user_id'].nunique()"
   ]
  },
  {
   "cell_type": "code",
   "execution_count": 32,
   "metadata": {},
   "outputs": [
    {
     "data": {
      "text/plain": [
       "32.27559263673685"
      ]
     },
     "execution_count": 32,
     "metadata": {},
     "output_type": "execute_result"
    }
   ],
   "source": [
    "# check the average number of sessions per user\n",
    "df.groupby('user_id')['event_name'].count().mean()"
   ]
  },
  {
   "cell_type": "code",
   "execution_count": 33,
   "metadata": {},
   "outputs": [
    {
     "name": "stdout",
     "output_type": "stream",
     "text": [
      "Earliest date: 2019-07-25\n",
      "Latest date: 2019-08-07\n",
      "Log data covers a period of: 13 days, 0:00:00\n"
     ]
    }
   ],
   "source": [
    "# check the time period covered by the data\n",
    "print('Earliest date:', df['date'].min())\n",
    "print('Latest date:', df['date'].max())\n",
    "print('Log data covers a period of:', df['date'].max() - df['date'].min())"
   ]
  },
  {
   "cell_type": "code",
   "execution_count": 34,
   "metadata": {},
   "outputs": [],
   "source": [
    "timeline = df.pivot_table(index=['group','date'],values='event_name',aggfunc='count')\n",
    "timeline.columns = ['event_count']\n",
    "timeline = timeline.reset_index()"
   ]
  },
  {
   "cell_type": "code",
   "execution_count": 36,
   "metadata": {},
   "outputs": [
    {
     "data": {
      "image/png": "[encoded data removed]",
      "text/plain": [
       "<Figure size 1200x600 with 1 Axes>"
      ]
     },
     "metadata": {},
     "output_type": "display_data"
    }
   ],
   "source": [
    "fig, ax = plt.subplots(figsize=(12, 6))\n",
    "\n",
    "sns.barplot(\n",
    "    data=timeline, \n",
    "    x='date', \n",
    "    y='event_count', \n",
    "    hue='group', \n",
    "    color='brown', \n",
    "    ax=ax\n",
    ").set(title='Number of events over time by group')\n",
    "\n",
    "ax.set_xticklabels(ax.get_xticklabels(), rotation=45, horizontalalignment='right')\n",
    "ax.set(xlabel='Date', ylabel='Number of events')\n",
    "\n",
    "plt.show()"
   ]
  },
  {
   "cell_type": "markdown",
   "metadata": {},
   "source": [
    "The chart shows a significant increase in the number of events on August 1 — up to 12,000 sessions.  \n",
    "Before that, the number of events per group ranged from single digits to fewer than 1,000.  \n",
    "Between August 1 and 7, the distribution of sessions across groups was roughly equal.  \n",
    "There is a small spike in the experimental group (B — 248) on August 2.  "
   ]
  },
  {
   "cell_type": "code",
   "execution_count": 37,
   "metadata": {},
   "outputs": [
    {
     "data": {
      "text/plain": [
       "datetime.date(2019, 8, 1)"
      ]
     },
     "execution_count": 37,
     "metadata": {},
     "output_type": "execute_result"
    }
   ],
   "source": [
    "# discard July data to avoid distortion\n",
    "data = df.loc[(df['datetime'] >= '2019-08-01')]\n",
    "\n",
    "data['date'].min()"
   ]
  },
  {
   "cell_type": "code",
   "execution_count": 38,
   "metadata": {},
   "outputs": [
    {
     "name": "stdout",
     "output_type": "stream",
     "text": [
      "Share of events remaining after filtering: 98.84 %\n"
     ]
    }
   ],
   "source": [
    "# check the share of events remaining after filtering\n",
    "print('Share of events remaining after filtering:', round(len(data)/len(df)*100, 2), '%')"
   ]
  },
  {
   "cell_type": "code",
   "execution_count": 39,
   "metadata": {},
   "outputs": [
    {
     "name": "stdout",
     "output_type": "stream",
     "text": [
      "Number of events remaining after filtering: 240887\n"
     ]
    }
   ],
   "source": [
    "print('Number of events remaining after filtering:', len(data))"
   ]
  },
  {
   "cell_type": "code",
   "execution_count": 40,
   "metadata": {},
   "outputs": [
    {
     "name": "stdout",
     "output_type": "stream",
     "text": [
      "Share of unique users remaining after filtering: 99.77 %\n"
     ]
    }
   ],
   "source": [
    "print(\n",
    "    'Share of unique users remaining after filtering:',\n",
    "    round(data['user_id'].nunique() / df['user_id'].nunique() * 100, 2),\n",
    "    '%'\n",
    ")"
   ]
  },
  {
   "cell_type": "code",
   "execution_count": 41,
   "metadata": {},
   "outputs": [
    {
     "name": "stdout",
     "output_type": "stream",
     "text": [
      "Number of users remaining after filtering: 7534\n"
     ]
    }
   ],
   "source": [
    "print('Number of users remaining after filtering:', data['user_id'].nunique())"
   ]
  },
  {
   "cell_type": "markdown",
   "metadata": {},
   "source": [
    "#### Section Summary:\n",
    "\n",
    "1. On average, each user accounts for about 32 events.  \n",
    "2. The dataset covers the period from July 26, 2019 to August 7, 2019.  \n",
    "3. Complete daily session data is available starting from August 1.  \n",
    "4. A total of 244,126 events were logged; after date filtering, 98% remained — 240,887 events.  \n",
    "5. There were 7,551 unique users in the logs; after filtering, 99.7% remained — 7,534 unique users.  \n",
    "6. Session distribution across groups is roughly equal for the period August 1–7.  \n",
    "7. The number of sessions per group is approximately the same.  \n",
    "8. There is no user overlap between groups.  "
   ]
  },
  {
   "cell_type": "markdown",
   "metadata": {},
   "source": [
    "### Event Funnel Analysis"
   ]
  },
  {
   "cell_type": "code",
   "execution_count": 42,
   "metadata": {},
   "outputs": [
    {
     "data": {
      "text/html": [
       "<div>\n",
       "<style scoped>\n",
       "    .dataframe tbody tr th:only-of-type {\n",
       "        vertical-align: middle;\n",
       "    }\n",
       "\n",
       "    .dataframe tbody tr th {\n",
       "        vertical-align: top;\n",
       "    }\n",
       "\n",
       "    .dataframe thead th {\n",
       "        text-align: right;\n",
       "    }\n",
       "</style>\n",
       "<table border=\"1\" class=\"dataframe\">\n",
       "  <thead>\n",
       "    <tr style=\"text-align: right;\">\n",
       "      <th></th>\n",
       "      <th>Event name</th>\n",
       "      <th>Number of users</th>\n",
       "      <th>Users at previous step</th>\n",
       "      <th>Share transitioned to step %</th>\n",
       "    </tr>\n",
       "  </thead>\n",
       "  <tbody>\n",
       "    <tr>\n",
       "      <th>1</th>\n",
       "      <td>MainScreenAppear</td>\n",
       "      <td>7419</td>\n",
       "      <td>0.0</td>\n",
       "      <td>inf</td>\n",
       "    </tr>\n",
       "    <tr>\n",
       "      <th>2</th>\n",
       "      <td>OffersScreenAppear</td>\n",
       "      <td>4593</td>\n",
       "      <td>7419.0</td>\n",
       "      <td>61.91</td>\n",
       "    </tr>\n",
       "    <tr>\n",
       "      <th>0</th>\n",
       "      <td>CartScreenAppear</td>\n",
       "      <td>3734</td>\n",
       "      <td>4593.0</td>\n",
       "      <td>81.30</td>\n",
       "    </tr>\n",
       "    <tr>\n",
       "      <th>3</th>\n",
       "      <td>PaymentScreenSuccessful</td>\n",
       "      <td>3539</td>\n",
       "      <td>3734.0</td>\n",
       "      <td>94.78</td>\n",
       "    </tr>\n",
       "    <tr>\n",
       "      <th>4</th>\n",
       "      <td>Tutorial</td>\n",
       "      <td>840</td>\n",
       "      <td>3539.0</td>\n",
       "      <td>23.74</td>\n",
       "    </tr>\n",
       "  </tbody>\n",
       "</table>\n",
       "</div>"
      ],
      "text/plain": [
       "                Event name  Number of users  Users at previous step  \\\n",
       "1         MainScreenAppear             7419                     0.0   \n",
       "2       OffersScreenAppear             4593                  7419.0   \n",
       "0         CartScreenAppear             3734                  4593.0   \n",
       "3  PaymentScreenSuccessful             3539                  3734.0   \n",
       "4                 Tutorial              840                  3539.0   \n",
       "\n",
       "   Share transitioned to step %  \n",
       "1                           inf  \n",
       "2                         61.91  \n",
       "0                         81.30  \n",
       "3                         94.78  \n",
       "4                         23.74  "
      ]
     },
     "execution_count": 42,
     "metadata": {},
     "output_type": "execute_result"
    }
   ],
   "source": [
    "# check which events are present in the logs and how often they occur\n",
    "# counts = data['event_name'].value_counts()\n",
    "# percs = round(data['event_name'].value_counts(normalize=True)*100, 2)\n",
    "\n",
    "stat = (\n",
    "    data.groupby('event_name')['user_id']\n",
    "    .nunique()\n",
    "    .reset_index()\n",
    "    .sort_values(by='user_id', ascending=False)\n",
    ")\n",
    "\n",
    "stat['previous'] = stat['user_id'].shift(1).fillna(0)\n",
    "stat['share of previous'] = round(stat['user_id'] / stat['previous'] * 100, 2)\n",
    "\n",
    "stat.columns = [\n",
    "    'Event name',\n",
    "    'Number of users',\n",
    "    'Users at previous step',\n",
    "    'Share transitioned to step %'\n",
    "]\n",
    "\n",
    "stat"
   ]
  },
  {
   "cell_type": "markdown",
   "metadata": {},
   "source": [
    "* The most frequent event is navigating to the main screen.  \n",
    "* 61% of users move on to the second step from the previous one.  \n",
    "* 49% of users reach the cart step, and 94% of them complete a purchase.  \n",
    "* The lowest transition rate is to the user guide page — about 11% of all users.  "
   ]
  },
  {
   "cell_type": "code",
   "execution_count": 43,
   "metadata": {},
   "outputs": [
    {
     "data": {
      "text/html": [
       "<div>\n",
       "<style scoped>\n",
       "    .dataframe tbody tr th:only-of-type {\n",
       "        vertical-align: middle;\n",
       "    }\n",
       "\n",
       "    .dataframe tbody tr th {\n",
       "        vertical-align: top;\n",
       "    }\n",
       "\n",
       "    .dataframe thead th {\n",
       "        text-align: right;\n",
       "    }\n",
       "</style>\n",
       "<table border=\"1\" class=\"dataframe\">\n",
       "  <thead>\n",
       "    <tr style=\"text-align: right;\">\n",
       "      <th></th>\n",
       "      <th>event_name</th>\n",
       "      <th>user_id</th>\n",
       "    </tr>\n",
       "  </thead>\n",
       "  <tbody>\n",
       "    <tr>\n",
       "      <th>1</th>\n",
       "      <td>MainScreenAppear</td>\n",
       "      <td>7419</td>\n",
       "    </tr>\n",
       "    <tr>\n",
       "      <th>2</th>\n",
       "      <td>OffersScreenAppear</td>\n",
       "      <td>4593</td>\n",
       "    </tr>\n",
       "    <tr>\n",
       "      <th>0</th>\n",
       "      <td>CartScreenAppear</td>\n",
       "      <td>3734</td>\n",
       "    </tr>\n",
       "    <tr>\n",
       "      <th>3</th>\n",
       "      <td>PaymentScreenSuccessful</td>\n",
       "      <td>3539</td>\n",
       "    </tr>\n",
       "  </tbody>\n",
       "</table>\n",
       "</div>"
      ],
      "text/plain": [
       "                event_name  user_id\n",
       "1         MainScreenAppear     7419\n",
       "2       OffersScreenAppear     4593\n",
       "0         CartScreenAppear     3734\n",
       "3  PaymentScreenSuccessful     3539"
      ]
     },
     "execution_count": 43,
     "metadata": {},
     "output_type": "execute_result"
    }
   ],
   "source": [
    "funnel_stat = (data\n",
    "               .query('event_name != \"Tutorial\"')\n",
    "               .pivot_table(index='event_name',values='user_id', aggfunc=lambda x: x.nunique())\n",
    "               .reset_index()\n",
    "               .sort_values(by='user_id',ascending=False)\n",
    "              )\n",
    "funnel_stat"
   ]
  },
  {
   "cell_type": "code",
   "execution_count": 45,
   "metadata": {},
   "outputs": [
    {
     "data": {
      "application/vnd.plotly.v1+json": {
       "config": {
        "plotlyServerURL": "https://plot.ly"
       },
       "data": [
        {
         "marker": {
          "color": [
           "rgb(103,0,31)",
           "rgb(178,24,43)",
           "rgb(214,96,77)",
           "rgb(244,165,130)",
           "rgb(253,219,199)",
           "rgb(247,247,247)",
           "rgb(209,229,240)",
           "rgb(146,197,222)",
           "rgb(67,147,195)",
           "rgb(33,102,172)",
           "rgb(5,48,97)"
          ],
          "line": {
           "color": "azure",
           "width": [
            4,
            2,
            2,
            3,
            1,
            1
           ]
          }
         },
         "opacity": 0.65,
         "textfont": {
          "color": "white"
         },
         "textinfo": "value+percent previous",
         "textposition": "inside",
         "type": "funnel",
         "x": [
          7419,
          4593,
          3734,
          3539
         ],
         "y": [
          "MainScreenAppear",
          "OffersScreenAppear",
          "CartScreenAppear",
          "PaymentScreenSuccessful"
         ]
        }
       ],
       "layout": {
        "template": {
         "data": {
          "bar": [
           {
            "error_x": {
             "color": "#2a3f5f"
            },
            "error_y": {
             "color": "#2a3f5f"
            },
            "marker": {
             "line": {
              "color": "#E5ECF6",
              "width": 0.5
             },
             "pattern": {
              "fillmode": "overlay",
              "size": 10,
              "solidity": 0.2
             }
            },
            "type": "bar"
           }
          ],
          "barpolar": [
           {
            "marker": {
             "line": {
              "color": "#E5ECF6",
              "width": 0.5
             },
             "pattern": {
              "fillmode": "overlay",
              "size": 10,
              "solidity": 0.2
             }
            },
            "type": "barpolar"
           }
          ],
          "carpet": [
           {
            "aaxis": {
             "endlinecolor": "#2a3f5f",
             "gridcolor": "white",
             "linecolor": "white",
             "minorgridcolor": "white",
             "startlinecolor": "#2a3f5f"
            },
            "baxis": {
             "endlinecolor": "#2a3f5f",
             "gridcolor": "white",
             "linecolor": "white",
             "minorgridcolor": "white",
             "startlinecolor": "#2a3f5f"
            },
            "type": "carpet"
           }
          ],
          "choropleth": [
           {
            "colorbar": {
             "outlinewidth": 0,
             "ticks": ""
            },
            "type": "choropleth"
           }
          ],
          "contour": [
           {
            "colorbar": {
             "outlinewidth": 0,
             "ticks": ""
            },
            "colorscale": [
             [
              0,
              "#0d0887"
             ],
             [
              0.1111111111111111,
              "#46039f"
             ],
             [
              0.2222222222222222,
              "#7201a8"
             ],
             [
              0.3333333333333333,
              "#9c179e"
             ],
             [
              0.4444444444444444,
              "#bd3786"
             ],
             [
              0.5555555555555556,
              "#d8576b"
             ],
             [
              0.6666666666666666,
              "#ed7953"
             ],
             [
              0.7777777777777778,
              "#fb9f3a"
             ],
             [
              0.8888888888888888,
              "#fdca26"
             ],
             [
              1,
              "#f0f921"
             ]
            ],
            "type": "contour"
           }
          ],
          "contourcarpet": [
           {
            "colorbar": {
             "outlinewidth": 0,
             "ticks": ""
            },
            "type": "contourcarpet"
           }
          ],
          "heatmap": [
           {
            "colorbar": {
             "outlinewidth": 0,
             "ticks": ""
            },
            "colorscale": [
             [
              0,
              "#0d0887"
             ],
             [
              0.1111111111111111,
              "#46039f"
             ],
             [
              0.2222222222222222,
              "#7201a8"
             ],
             [
              0.3333333333333333,
              "#9c179e"
             ],
             [
              0.4444444444444444,
              "#bd3786"
             ],
             [
              0.5555555555555556,
              "#d8576b"
             ],
             [
              0.6666666666666666,
              "#ed7953"
             ],
             [
              0.7777777777777778,
              "#fb9f3a"
             ],
             [
              0.8888888888888888,
              "#fdca26"
             ],
             [
              1,
              "#f0f921"
             ]
            ],
            "type": "heatmap"
           }
          ],
          "heatmapgl": [
           {
            "colorbar": {
             "outlinewidth": 0,
             "ticks": ""
            },
            "colorscale": [
             [
              0,
              "#0d0887"
             ],
             [
              0.1111111111111111,
              "#46039f"
             ],
             [
              0.2222222222222222,
              "#7201a8"
             ],
             [
              0.3333333333333333,
              "#9c179e"
             ],
             [
              0.4444444444444444,
              "#bd3786"
             ],
             [
              0.5555555555555556,
              "#d8576b"
             ],
             [
              0.6666666666666666,
              "#ed7953"
             ],
             [
              0.7777777777777778,
              "#fb9f3a"
             ],
             [
              0.8888888888888888,
              "#fdca26"
             ],
             [
              1,
              "#f0f921"
             ]
            ],
            "type": "heatmapgl"
           }
          ],
          "histogram": [
           {
            "marker": {
             "pattern": {
              "fillmode": "overlay",
              "size": 10,
              "solidity": 0.2
             }
            },
            "type": "histogram"
           }
          ],
          "histogram2d": [
           {
            "colorbar": {
             "outlinewidth": 0,
             "ticks": ""
            },
            "colorscale": [
             [
              0,
              "#0d0887"
             ],
             [
              0.1111111111111111,
              "#46039f"
             ],
             [
              0.2222222222222222,
              "#7201a8"
             ],
             [
              0.3333333333333333,
              "#9c179e"
             ],
             [
              0.4444444444444444,
              "#bd3786"
             ],
             [
              0.5555555555555556,
              "#d8576b"
             ],
             [
              0.6666666666666666,
              "#ed7953"
             ],
             [
              0.7777777777777778,
              "#fb9f3a"
             ],
             [
              0.8888888888888888,
              "#fdca26"
             ],
             [
              1,
              "#f0f921"
             ]
            ],
            "type": "histogram2d"
           }
          ],
          "histogram2dcontour": [
           {
            "colorbar": {
             "outlinewidth": 0,
             "ticks": ""
            },
            "colorscale": [
             [
              0,
              "#0d0887"
             ],
             [
              0.1111111111111111,
              "#46039f"
             ],
             [
              0.2222222222222222,
              "#7201a8"
             ],
             [
              0.3333333333333333,
              "#9c179e"
             ],
             [
              0.4444444444444444,
              "#bd3786"
             ],
             [
              0.5555555555555556,
              "#d8576b"
             ],
             [
              0.6666666666666666,
              "#ed7953"
             ],
             [
              0.7777777777777778,
              "#fb9f3a"
             ],
             [
              0.8888888888888888,
              "#fdca26"
             ],
             [
              1,
              "#f0f921"
             ]
            ],
            "type": "histogram2dcontour"
           }
          ],
          "mesh3d": [
           {
            "colorbar": {
             "outlinewidth": 0,
             "ticks": ""
            },
            "type": "mesh3d"
           }
          ],
          "parcoords": [
           {
            "line": {
             "colorbar": {
              "outlinewidth": 0,
              "ticks": ""
             }
            },
            "type": "parcoords"
           }
          ],
          "pie": [
           {
            "automargin": true,
            "type": "pie"
           }
          ],
          "scatter": [
           {
            "fillpattern": {
             "fillmode": "overlay",
             "size": 10,
             "solidity": 0.2
            },
            "type": "scatter"
           }
          ],
          "scatter3d": [
           {
            "line": {
             "colorbar": {
              "outlinewidth": 0,
              "ticks": ""
             }
            },
            "marker": {
             "colorbar": {
              "outlinewidth": 0,
              "ticks": ""
             }
            },
            "type": "scatter3d"
           }
          ],
          "scattercarpet": [
           {
            "marker": {
             "colorbar": {
              "outlinewidth": 0,
              "ticks": ""
             }
            },
            "type": "scattercarpet"
           }
          ],
          "scattergeo": [
           {
            "marker": {
             "colorbar": {
              "outlinewidth": 0,
              "ticks": ""
             }
            },
            "type": "scattergeo"
           }
          ],
          "scattergl": [
           {
            "marker": {
             "colorbar": {
              "outlinewidth": 0,
              "ticks": ""
             }
            },
            "type": "scattergl"
           }
          ],
          "scattermapbox": [
           {
            "marker": {
             "colorbar": {
              "outlinewidth": 0,
              "ticks": ""
             }
            },
            "type": "scattermapbox"
           }
          ],
          "scatterpolar": [
           {
            "marker": {
             "colorbar": {
              "outlinewidth": 0,
              "ticks": ""
             }
            },
            "type": "scatterpolar"
           }
          ],
          "scatterpolargl": [
           {
            "marker": {
             "colorbar": {
              "outlinewidth": 0,
              "ticks": ""
             }
            },
            "type": "scatterpolargl"
           }
          ],
          "scatterternary": [
           {
            "marker": {
             "colorbar": {
              "outlinewidth": 0,
              "ticks": ""
             }
            },
            "type": "scatterternary"
           }
          ],
          "surface": [
           {
            "colorbar": {
             "outlinewidth": 0,
             "ticks": ""
            },
            "colorscale": [
             [
              0,
              "#0d0887"
             ],
             [
              0.1111111111111111,
              "#46039f"
             ],
             [
              0.2222222222222222,
              "#7201a8"
             ],
             [
              0.3333333333333333,
              "#9c179e"
             ],
             [
              0.4444444444444444,
              "#bd3786"
             ],
             [
              0.5555555555555556,
              "#d8576b"
             ],
             [
              0.6666666666666666,
              "#ed7953"
             ],
             [
              0.7777777777777778,
              "#fb9f3a"
             ],
             [
              0.8888888888888888,
              "#fdca26"
             ],
             [
              1,
              "#f0f921"
             ]
            ],
            "type": "surface"
           }
          ],
          "table": [
           {
            "cells": {
             "fill": {
              "color": "#EBF0F8"
             },
             "line": {
              "color": "white"
             }
            },
            "header": {
             "fill": {
              "color": "#C8D4E3"
             },
             "line": {
              "color": "white"
             }
            },
            "type": "table"
           }
          ]
         },
         "layout": {
          "annotationdefaults": {
           "arrowcolor": "#2a3f5f",
           "arrowhead": 0,
           "arrowwidth": 1
          },
          "autotypenumbers": "strict",
          "coloraxis": {
           "colorbar": {
            "outlinewidth": 0,
            "ticks": ""
           }
          },
          "colorscale": {
           "diverging": [
            [
             0,
             "#8e0152"
            ],
            [
             0.1,
             "#c51b7d"
            ],
            [
             0.2,
             "#de77ae"
            ],
            [
             0.3,
             "#f1b6da"
            ],
            [
             0.4,
             "#fde0ef"
            ],
            [
             0.5,
             "#f7f7f7"
            ],
            [
             0.6,
             "#e6f5d0"
            ],
            [
             0.7,
             "#b8e186"
            ],
            [
             0.8,
             "#7fbc41"
            ],
            [
             0.9,
             "#4d9221"
            ],
            [
             1,
             "#276419"
            ]
           ],
           "sequential": [
            [
             0,
             "#0d0887"
            ],
            [
             0.1111111111111111,
             "#46039f"
            ],
            [
             0.2222222222222222,
             "#7201a8"
            ],
            [
             0.3333333333333333,
             "#9c179e"
            ],
            [
             0.4444444444444444,
             "#bd3786"
            ],
            [
             0.5555555555555556,
             "#d8576b"
            ],
            [
             0.6666666666666666,
             "#ed7953"
            ],
            [
             0.7777777777777778,
             "#fb9f3a"
            ],
            [
             0.8888888888888888,
             "#fdca26"
            ],
            [
             1,
             "#f0f921"
            ]
           ],
           "sequentialminus": [
            [
             0,
             "#0d0887"
            ],
            [
             0.1111111111111111,
             "#46039f"
            ],
            [
             0.2222222222222222,
             "#7201a8"
            ],
            [
             0.3333333333333333,
             "#9c179e"
            ],
            [
             0.4444444444444444,
             "#bd3786"
            ],
            [
             0.5555555555555556,
             "#d8576b"
            ],
            [
             0.6666666666666666,
             "#ed7953"
            ],
            [
             0.7777777777777778,
             "#fb9f3a"
            ],
            [
             0.8888888888888888,
             "#fdca26"
            ],
            [
             1,
             "#f0f921"
            ]
           ]
          },
          "colorway": [
           "#636efa",
           "#EF553B",
           "#00cc96",
           "#ab63fa",
           "#FFA15A",
           "#19d3f3",
           "#FF6692",
           "#B6E880",
           "#FF97FF",
           "#FECB52"
          ],
          "font": {
           "color": "#2a3f5f"
          },
          "geo": {
           "bgcolor": "white",
           "lakecolor": "white",
           "landcolor": "#E5ECF6",
           "showlakes": true,
           "showland": true,
           "subunitcolor": "white"
          },
          "hoverlabel": {
           "align": "left"
          },
          "hovermode": "closest",
          "mapbox": {
           "style": "light"
          },
          "paper_bgcolor": "white",
          "plot_bgcolor": "#E5ECF6",
          "polar": {
           "angularaxis": {
            "gridcolor": "white",
            "linecolor": "white",
            "ticks": ""
           },
           "bgcolor": "#E5ECF6",
           "radialaxis": {
            "gridcolor": "white",
            "linecolor": "white",
            "ticks": ""
           }
          },
          "scene": {
           "xaxis": {
            "backgroundcolor": "#E5ECF6",
            "gridcolor": "white",
            "gridwidth": 2,
            "linecolor": "white",
            "showbackground": true,
            "ticks": "",
            "zerolinecolor": "white"
           },
           "yaxis": {
            "backgroundcolor": "#E5ECF6",
            "gridcolor": "white",
            "gridwidth": 2,
            "linecolor": "white",
            "showbackground": true,
            "ticks": "",
            "zerolinecolor": "white"
           },
           "zaxis": {
            "backgroundcolor": "#E5ECF6",
            "gridcolor": "white",
            "gridwidth": 2,
            "linecolor": "white",
            "showbackground": true,
            "ticks": "",
            "zerolinecolor": "white"
           }
          },
          "shapedefaults": {
           "line": {
            "color": "#2a3f5f"
           }
          },
          "ternary": {
           "aaxis": {
            "gridcolor": "white",
            "linecolor": "white",
            "ticks": ""
           },
           "baxis": {
            "gridcolor": "white",
            "linecolor": "white",
            "ticks": ""
           },
           "bgcolor": "#E5ECF6",
           "caxis": {
            "gridcolor": "white",
            "linecolor": "white",
            "ticks": ""
           }
          },
          "title": {
           "x": 0.05
          },
          "xaxis": {
           "automargin": true,
           "gridcolor": "white",
           "linecolor": "white",
           "ticks": "",
           "title": {
            "standoff": 15
           },
           "zerolinecolor": "white",
           "zerolinewidth": 2
          },
          "yaxis": {
           "automargin": true,
           "gridcolor": "white",
           "linecolor": "white",
           "ticks": "",
           "title": {
            "standoff": 15
           },
           "zerolinecolor": "white",
           "zerolinewidth": 2
          }
         }
        },
        "title": {
         "text": "Event Funnel",
         "x": 0.54,
         "xanchor": "center",
         "y": 0.9,
         "yanchor": "top"
        }
       }
      },
      "text/html": [
       "<div>                            <div id=\"dcd38818-33da-4ced-851a-edad2807cb47\" class=\"plotly-graph-div\" style=\"height:525px; width:100%;\"></div>            <script type=\"text/javascript\">                require([\"plotly\"], function(Plotly) {                    window.PLOTLYENV=window.PLOTLYENV || {};                                    if (document.getElementById(\"dcd38818-33da-4ced-851a-edad2807cb47\")) {                    Plotly.newPlot(                        \"dcd38818-33da-4ced-851a-edad2807cb47\",                        [{\"marker\":{\"color\":[\"rgb(103,0,31)\",\"rgb(178,24,43)\",\"rgb(214,96,77)\",\"rgb(244,165,130)\",\"rgb(253,219,199)\",\"rgb(247,247,247)\",\"rgb(209,229,240)\",\"rgb(146,197,222)\",\"rgb(67,147,195)\",\"rgb(33,102,172)\",\"rgb(5,48,97)\"],\"line\":{\"color\":\"azure\",\"width\":[4,2,2,3,1,1]}},\"opacity\":0.65,\"textinfo\":\"value+percent previous\",\"textposition\":\"inside\",\"x\":[7419,4593,3734,3539],\"y\":[\"MainScreenAppear\",\"OffersScreenAppear\",\"CartScreenAppear\",\"PaymentScreenSuccessful\"],\"type\":\"funnel\",\"textfont\":{\"color\":\"white\"}}],                        {\"template\":{\"data\":{\"histogram2dcontour\":[{\"type\":\"histogram2dcontour\",\"colorbar\":{\"outlinewidth\":0,\"ticks\":\"\"},\"colorscale\":[[0.0,\"#0d0887\"],[0.1111111111111111,\"#46039f\"],[0.2222222222222222,\"#7201a8\"],[0.3333333333333333,\"#9c179e\"],[0.4444444444444444,\"#bd3786\"],[0.5555555555555556,\"#d8576b\"],[0.6666666666666666,\"#ed7953\"],[0.7777777777777778,\"#fb9f3a\"],[0.8888888888888888,\"#fdca26\"],[1.0,\"#f0f921\"]]}],\"choropleth\":[{\"type\":\"choropleth\",\"colorbar\":{\"outlinewidth\":0,\"ticks\":\"\"}}],\"histogram2d\":[{\"type\":\"histogram2d\",\"colorbar\":{\"outlinewidth\":0,\"ticks\":\"\"},\"colorscale\":[[0.0,\"#0d0887\"],[0.1111111111111111,\"#46039f\"],[0.2222222222222222,\"#7201a8\"],[0.3333333333333333,\"#9c179e\"],[0.4444444444444444,\"#bd3786\"],[0.5555555555555556,\"#d8576b\"],[0.6666666666666666,\"#ed7953\"],[0.7777777777777778,\"#fb9f3a\"],[0.8888888888888888,\"#fdca26\"],[1.0,\"#f0f921\"]]}],\"heatmap\":[{\"type\":\"heatmap\",\"colorbar\":{\"outlinewidth\":0,\"ticks\":\"\"},\"colorscale\":[[0.0,\"#0d0887\"],[0.1111111111111111,\"#46039f\"],[0.2222222222222222,\"#7201a8\"],[0.3333333333333333,\"#9c179e\"],[0.4444444444444444,\"#bd3786\"],[0.5555555555555556,\"#d8576b\"],[0.6666666666666666,\"#ed7953\"],[0.7777777777777778,\"#fb9f3a\"],[0.8888888888888888,\"#fdca26\"],[1.0,\"#f0f921\"]]}],\"heatmapgl\":[{\"type\":\"heatmapgl\",\"colorbar\":{\"outlinewidth\":0,\"ticks\":\"\"},\"colorscale\":[[0.0,\"#0d0887\"],[0.1111111111111111,\"#46039f\"],[0.2222222222222222,\"#7201a8\"],[0.3333333333333333,\"#9c179e\"],[0.4444444444444444,\"#bd3786\"],[0.5555555555555556,\"#d8576b\"],[0.6666666666666666,\"#ed7953\"],[0.7777777777777778,\"#fb9f3a\"],[0.8888888888888888,\"#fdca26\"],[1.0,\"#f0f921\"]]}],\"contourcarpet\":[{\"type\":\"contourcarpet\",\"colorbar\":{\"outlinewidth\":0,\"ticks\":\"\"}}],\"contour\":[{\"type\":\"contour\",\"colorbar\":{\"outlinewidth\":0,\"ticks\":\"\"},\"colorscale\":[[0.0,\"#0d0887\"],[0.1111111111111111,\"#46039f\"],[0.2222222222222222,\"#7201a8\"],[0.3333333333333333,\"#9c179e\"],[0.4444444444444444,\"#bd3786\"],[0.5555555555555556,\"#d8576b\"],[0.6666666666666666,\"#ed7953\"],[0.7777777777777778,\"#fb9f3a\"],[0.8888888888888888,\"#fdca26\"],[1.0,\"#f0f921\"]]}],\"surface\":[{\"type\":\"surface\",\"colorbar\":{\"outlinewidth\":0,\"ticks\":\"\"},\"colorscale\":[[0.0,\"#0d0887\"],[0.1111111111111111,\"#46039f\"],[0.2222222222222222,\"#7201a8\"],[0.3333333333333333,\"#9c179e\"],[0.4444444444444444,\"#bd3786\"],[0.5555555555555556,\"#d8576b\"],[0.6666666666666666,\"#ed7953\"],[0.7777777777777778,\"#fb9f3a\"],[0.8888888888888888,\"#fdca26\"],[1.0,\"#f0f921\"]]}],\"mesh3d\":[{\"type\":\"mesh3d\",\"colorbar\":{\"outlinewidth\":0,\"ticks\":\"\"}}],\"scatter\":[{\"fillpattern\":{\"fillmode\":\"overlay\",\"size\":10,\"solidity\":0.2},\"type\":\"scatter\"}],\"parcoords\":[{\"type\":\"parcoords\",\"line\":{\"colorbar\":{\"outlinewidth\":0,\"ticks\":\"\"}}}],\"scatterpolargl\":[{\"type\":\"scatterpolargl\",\"marker\":{\"colorbar\":{\"outlinewidth\":0,\"ticks\":\"\"}}}],\"bar\":[{\"error_x\":{\"color\":\"#2a3f5f\"},\"error_y\":{\"color\":\"#2a3f5f\"},\"marker\":{\"line\":{\"color\":\"#E5ECF6\",\"width\":0.5},\"pattern\":{\"fillmode\":\"overlay\",\"size\":10,\"solidity\":0.2}},\"type\":\"bar\"}],\"scattergeo\":[{\"type\":\"scattergeo\",\"marker\":{\"colorbar\":{\"outlinewidth\":0,\"ticks\":\"\"}}}],\"scatterpolar\":[{\"type\":\"scatterpolar\",\"marker\":{\"colorbar\":{\"outlinewidth\":0,\"ticks\":\"\"}}}],\"histogram\":[{\"marker\":{\"pattern\":{\"fillmode\":\"overlay\",\"size\":10,\"solidity\":0.2}},\"type\":\"histogram\"}],\"scattergl\":[{\"type\":\"scattergl\",\"marker\":{\"colorbar\":{\"outlinewidth\":0,\"ticks\":\"\"}}}],\"scatter3d\":[{\"type\":\"scatter3d\",\"line\":{\"colorbar\":{\"outlinewidth\":0,\"ticks\":\"\"}},\"marker\":{\"colorbar\":{\"outlinewidth\":0,\"ticks\":\"\"}}}],\"scattermapbox\":[{\"type\":\"scattermapbox\",\"marker\":{\"colorbar\":{\"outlinewidth\":0,\"ticks\":\"\"}}}],\"scatterternary\":[{\"type\":\"scatterternary\",\"marker\":{\"colorbar\":{\"outlinewidth\":0,\"ticks\":\"\"}}}],\"scattercarpet\":[{\"type\":\"scattercarpet\",\"marker\":{\"colorbar\":{\"outlinewidth\":0,\"ticks\":\"\"}}}],\"carpet\":[{\"aaxis\":{\"endlinecolor\":\"#2a3f5f\",\"gridcolor\":\"white\",\"linecolor\":\"white\",\"minorgridcolor\":\"white\",\"startlinecolor\":\"#2a3f5f\"},\"baxis\":{\"endlinecolor\":\"#2a3f5f\",\"gridcolor\":\"white\",\"linecolor\":\"white\",\"minorgridcolor\":\"white\",\"startlinecolor\":\"#2a3f5f\"},\"type\":\"carpet\"}],\"table\":[{\"cells\":{\"fill\":{\"color\":\"#EBF0F8\"},\"line\":{\"color\":\"white\"}},\"header\":{\"fill\":{\"color\":\"#C8D4E3\"},\"line\":{\"color\":\"white\"}},\"type\":\"table\"}],\"barpolar\":[{\"marker\":{\"line\":{\"color\":\"#E5ECF6\",\"width\":0.5},\"pattern\":{\"fillmode\":\"overlay\",\"size\":10,\"solidity\":0.2}},\"type\":\"barpolar\"}],\"pie\":[{\"automargin\":true,\"type\":\"pie\"}]},\"layout\":{\"autotypenumbers\":\"strict\",\"colorway\":[\"#636efa\",\"#EF553B\",\"#00cc96\",\"#ab63fa\",\"#FFA15A\",\"#19d3f3\",\"#FF6692\",\"#B6E880\",\"#FF97FF\",\"#FECB52\"],\"font\":{\"color\":\"#2a3f5f\"},\"hovermode\":\"closest\",\"hoverlabel\":{\"align\":\"left\"},\"paper_bgcolor\":\"white\",\"plot_bgcolor\":\"#E5ECF6\",\"polar\":{\"bgcolor\":\"#E5ECF6\",\"angularaxis\":{\"gridcolor\":\"white\",\"linecolor\":\"white\",\"ticks\":\"\"},\"radialaxis\":{\"gridcolor\":\"white\",\"linecolor\":\"white\",\"ticks\":\"\"}},\"ternary\":{\"bgcolor\":\"#E5ECF6\",\"aaxis\":{\"gridcolor\":\"white\",\"linecolor\":\"white\",\"ticks\":\"\"},\"baxis\":{\"gridcolor\":\"white\",\"linecolor\":\"white\",\"ticks\":\"\"},\"caxis\":{\"gridcolor\":\"white\",\"linecolor\":\"white\",\"ticks\":\"\"}},\"coloraxis\":{\"colorbar\":{\"outlinewidth\":0,\"ticks\":\"\"}},\"colorscale\":{\"sequential\":[[0.0,\"#0d0887\"],[0.1111111111111111,\"#46039f\"],[0.2222222222222222,\"#7201a8\"],[0.3333333333333333,\"#9c179e\"],[0.4444444444444444,\"#bd3786\"],[0.5555555555555556,\"#d8576b\"],[0.6666666666666666,\"#ed7953\"],[0.7777777777777778,\"#fb9f3a\"],[0.8888888888888888,\"#fdca26\"],[1.0,\"#f0f921\"]],\"sequentialminus\":[[0.0,\"#0d0887\"],[0.1111111111111111,\"#46039f\"],[0.2222222222222222,\"#7201a8\"],[0.3333333333333333,\"#9c179e\"],[0.4444444444444444,\"#bd3786\"],[0.5555555555555556,\"#d8576b\"],[0.6666666666666666,\"#ed7953\"],[0.7777777777777778,\"#fb9f3a\"],[0.8888888888888888,\"#fdca26\"],[1.0,\"#f0f921\"]],\"diverging\":[[0,\"#8e0152\"],[0.1,\"#c51b7d\"],[0.2,\"#de77ae\"],[0.3,\"#f1b6da\"],[0.4,\"#fde0ef\"],[0.5,\"#f7f7f7\"],[0.6,\"#e6f5d0\"],[0.7,\"#b8e186\"],[0.8,\"#7fbc41\"],[0.9,\"#4d9221\"],[1,\"#276419\"]]},\"xaxis\":{\"gridcolor\":\"white\",\"linecolor\":\"white\",\"ticks\":\"\",\"title\":{\"standoff\":15},\"zerolinecolor\":\"white\",\"automargin\":true,\"zerolinewidth\":2},\"yaxis\":{\"gridcolor\":\"white\",\"linecolor\":\"white\",\"ticks\":\"\",\"title\":{\"standoff\":15},\"zerolinecolor\":\"white\",\"automargin\":true,\"zerolinewidth\":2},\"scene\":{\"xaxis\":{\"backgroundcolor\":\"#E5ECF6\",\"gridcolor\":\"white\",\"linecolor\":\"white\",\"showbackground\":true,\"ticks\":\"\",\"zerolinecolor\":\"white\",\"gridwidth\":2},\"yaxis\":{\"backgroundcolor\":\"#E5ECF6\",\"gridcolor\":\"white\",\"linecolor\":\"white\",\"showbackground\":true,\"ticks\":\"\",\"zerolinecolor\":\"white\",\"gridwidth\":2},\"zaxis\":{\"backgroundcolor\":\"#E5ECF6\",\"gridcolor\":\"white\",\"linecolor\":\"white\",\"showbackground\":true,\"ticks\":\"\",\"zerolinecolor\":\"white\",\"gridwidth\":2}},\"shapedefaults\":{\"line\":{\"color\":\"#2a3f5f\"}},\"annotationdefaults\":{\"arrowcolor\":\"#2a3f5f\",\"arrowhead\":0,\"arrowwidth\":1},\"geo\":{\"bgcolor\":\"white\",\"landcolor\":\"#E5ECF6\",\"subunitcolor\":\"white\",\"showland\":true,\"showlakes\":true,\"lakecolor\":\"white\"},\"title\":{\"x\":0.05},\"mapbox\":{\"style\":\"light\"}}},\"title\":{\"text\":\"Event Funnel\",\"y\":0.9,\"x\":0.54,\"xanchor\":\"center\",\"yanchor\":\"top\"}},                        {\"responsive\": true}                    ).then(function(){\n",
       "                            \n",
       "var gd = document.getElementById('dcd38818-33da-4ced-851a-edad2807cb47');\n",
       "var x = new MutationObserver(function (mutations, observer) {{\n",
       "        var display = window.getComputedStyle(gd).display;\n",
       "        if (!display || display === 'none') {{\n",
       "            console.log([gd, 'removed!']);\n",
       "            Plotly.purge(gd);\n",
       "            observer.disconnect();\n",
       "        }}\n",
       "}});\n",
       "\n",
       "// Listen for the removal of the full notebook cells\n",
       "var notebookContainer = gd.closest('#notebook-container');\n",
       "if (notebookContainer) {{\n",
       "    x.observe(notebookContainer, {childList: true});\n",
       "}}\n",
       "\n",
       "// Listen for the clearing of the current output cell\n",
       "var outputEl = gd.closest('.output');\n",
       "if (outputEl) {{\n",
       "    x.observe(outputEl, {childList: true});\n",
       "}}\n",
       "\n",
       "                        })                };                });            </script>        </div>"
      ]
     },
     "metadata": {},
     "output_type": "display_data"
    }
   ],
   "source": [
    "fig = go.Figure(go.Funnel(\n",
    "    x = funnel_stat['user_id'],\n",
    "    y = funnel_stat['event_name'], \n",
    "    textposition = \"inside\",\n",
    "    textinfo = \"value+percent previous\",\n",
    "    opacity = 0.65, marker = {\"color\": px.colors.sequential.RdBu,\n",
    "    \"line\": {\"width\": [4, 2, 2, 3, 1, 1], \"color\": \"azure\"}}\n",
    "    ))\n",
    "fig.update_traces(textfont_color='white')\n",
    "fig.update_layout(\n",
    "    title={\n",
    "        'text': \"Event Funnel\",\n",
    "        'y':0.9,\n",
    "        'x':0.54,\n",
    "        'xanchor': 'center',\n",
    "        'yanchor': 'top'}) \n",
    "fig.show()"
   ]
  },
  {
   "cell_type": "code",
   "execution_count": 46,
   "metadata": {},
   "outputs": [
    {
     "name": "stdout",
     "output_type": "stream",
     "text": [
      "Conversion rate of all users is 46.97 %\n"
     ]
    }
   ],
   "source": [
    "print(\n",
    "    'Conversion rate of all users is',\n",
    "    round(\n",
    "        data.query('event_name == \"PaymentScreenSuccessful\"')['user_id'].nunique()\n",
    "        / data['user_id'].nunique() * 100,\n",
    "        2\n",
    "    ),\n",
    "    '%'\n",
    ")"
   ]
  },
  {
   "cell_type": "code",
   "execution_count": 47,
   "metadata": {},
   "outputs": [
    {
     "data": {
      "text/plain": [
       "7534"
      ]
     },
     "execution_count": 47,
     "metadata": {},
     "output_type": "execute_result"
    }
   ],
   "source": [
    "data['user_id'].nunique()"
   ]
  },
  {
   "cell_type": "code",
   "execution_count": 48,
   "metadata": {},
   "outputs": [
    {
     "name": "stdout",
     "output_type": "stream",
     "text": [
      "Average number of unique daily users: 3676\n"
     ]
    }
   ],
   "source": [
    "dau_total = (\n",
    "    data.groupby('date').agg({'user_id': 'nunique'}).mean()\n",
    ")\n",
    "\n",
    "print('Average number of unique daily users:', int(dau_total))"
   ]
  },
  {
   "cell_type": "markdown",
   "metadata": {},
   "source": [
    "#### Section Summary:\n",
    "\n",
    "1. Proposed funnel sequence:  \n",
    "   * Navigate to main screen — 100%  \n",
    "   * Navigate to product page  \n",
    "   * Navigate to cart  \n",
    "   * Payment  \n",
    "\n",
    "2. 30% of users drop off at the product page step.  \n",
    "3. Users likely face difficulties navigating to or interacting with the product offers page.  \n",
    "4. Conversion from the cart stage is 80%.  \n",
    "5. Fewer than 1% of users view the app guide; this step will not be included in the funnel calculation.  \n",
    "6. Average number of unique daily users: 3,676.  \n",
    "7. Overall user conversion rate: 46.97%.  "
   ]
  },
  {
   "cell_type": "markdown",
   "metadata": {},
   "source": [
    "### A/A/B Test Analysis"
   ]
  },
  {
   "cell_type": "code",
   "execution_count": 49,
   "metadata": {},
   "outputs": [
    {
     "data": {
      "text/html": [
       "<div>\n",
       "<style scoped>\n",
       "    .dataframe tbody tr th:only-of-type {\n",
       "        vertical-align: middle;\n",
       "    }\n",
       "\n",
       "    .dataframe tbody tr th {\n",
       "        vertical-align: top;\n",
       "    }\n",
       "\n",
       "    .dataframe thead tr th {\n",
       "        text-align: left;\n",
       "    }\n",
       "\n",
       "    .dataframe thead tr:last-of-type th {\n",
       "        text-align: right;\n",
       "    }\n",
       "</style>\n",
       "<table border=\"1\" class=\"dataframe\">\n",
       "  <thead>\n",
       "    <tr>\n",
       "      <th></th>\n",
       "      <th colspan=\"2\" halign=\"left\">user_id</th>\n",
       "    </tr>\n",
       "    <tr>\n",
       "      <th></th>\n",
       "      <th>count</th>\n",
       "      <th>nunique</th>\n",
       "    </tr>\n",
       "    <tr>\n",
       "      <th>group</th>\n",
       "      <th></th>\n",
       "      <th></th>\n",
       "    </tr>\n",
       "  </thead>\n",
       "  <tbody>\n",
       "    <tr>\n",
       "      <th>A1</th>\n",
       "      <td>79302</td>\n",
       "      <td>2484</td>\n",
       "    </tr>\n",
       "    <tr>\n",
       "      <th>A2</th>\n",
       "      <td>77022</td>\n",
       "      <td>2513</td>\n",
       "    </tr>\n",
       "    <tr>\n",
       "      <th>B</th>\n",
       "      <td>84563</td>\n",
       "      <td>2537</td>\n",
       "    </tr>\n",
       "  </tbody>\n",
       "</table>\n",
       "</div>"
      ],
      "text/plain": [
       "      user_id        \n",
       "        count nunique\n",
       "group                \n",
       "A1      79302    2484\n",
       "A2      77022    2513\n",
       "B       84563    2537"
      ]
     },
     "execution_count": 49,
     "metadata": {},
     "output_type": "execute_result"
    }
   ],
   "source": [
    "# check the number of users in each group\n",
    "data.groupby('group').agg({'user_id': ['count', 'nunique']})"
   ]
  },
  {
   "cell_type": "markdown",
   "metadata": {},
   "source": [
    "The A/A groups differ by 1.2%.  "
   ]
  },
  {
   "cell_type": "code",
   "execution_count": 53,
   "metadata": {},
   "outputs": [
    {
     "data": {
      "text/plain": [
       "group    1\n",
       "dtype: int64"
      ]
     },
     "execution_count": 53,
     "metadata": {},
     "output_type": "execute_result"
    }
   ],
   "source": [
    "# check for user overlaps across groups\n",
    "data.groupby('user_id').agg({'group':'nunique'}).nunique()"
   ]
  },
  {
   "cell_type": "markdown",
   "metadata": {},
   "source": [
    "There are two control groups for the A/A experiment to verify the correctness of all mechanisms and calculations.  \n",
    "Check whether statistical tests detect any differences between samples 246 and 247.  "
   ]
  },
  {
   "cell_type": "markdown",
   "metadata": {},
   "source": [
    "Create a pivot table for test analysis.  "
   ]
  },
  {
   "cell_type": "code",
   "execution_count": 54,
   "metadata": {},
   "outputs": [],
   "source": [
    "stat_data = (data.query('event_name != \"Tutorial\"')\n",
    "            .pivot_table(index=['event_name'], values='user_id', columns='group'\n",
    "                               , aggfunc=lambda x: x.nunique()).reset_index().sort_values(by='A1',ascending=False)\n",
    "                 )\n",
    "\n",
    "stat_data['total'] = data['user_id'].nunique() #stat_data.iloc[:,1:5].sum(axis=1)\n",
    "stat_data[['shareA1','shareA2','shareB']] = stat_data.iloc[:,1:4].div(stat_data.total, axis=0)\n",
    "#stat_data.iloc[:,1:4]"
   ]
  },
  {
   "cell_type": "markdown",
   "metadata": {},
   "source": [
    "Using the most frequent event as an example, let’s examine the distribution across groups:  "
   ]
  },
  {
   "cell_type": "code",
   "execution_count": 55,
   "metadata": {},
   "outputs": [
    {
     "data": {
      "text/html": [
       "<div>\n",
       "<style scoped>\n",
       "    .dataframe tbody tr th:only-of-type {\n",
       "        vertical-align: middle;\n",
       "    }\n",
       "\n",
       "    .dataframe tbody tr th {\n",
       "        vertical-align: top;\n",
       "    }\n",
       "\n",
       "    .dataframe thead th {\n",
       "        text-align: right;\n",
       "    }\n",
       "</style>\n",
       "<table border=\"1\" class=\"dataframe\">\n",
       "  <thead>\n",
       "    <tr style=\"text-align: right;\">\n",
       "      <th>group</th>\n",
       "      <th>event_name</th>\n",
       "      <th>A1</th>\n",
       "      <th>A2</th>\n",
       "      <th>B</th>\n",
       "      <th>total</th>\n",
       "      <th>shareA1</th>\n",
       "      <th>shareA2</th>\n",
       "      <th>shareB</th>\n",
       "    </tr>\n",
       "  </thead>\n",
       "  <tbody>\n",
       "    <tr>\n",
       "      <th>1</th>\n",
       "      <td>MainScreenAppear</td>\n",
       "      <td>2450</td>\n",
       "      <td>2476</td>\n",
       "      <td>2493</td>\n",
       "      <td>7534</td>\n",
       "      <td>0.325192</td>\n",
       "      <td>0.328643</td>\n",
       "      <td>0.3309</td>\n",
       "    </tr>\n",
       "  </tbody>\n",
       "</table>\n",
       "</div>"
      ],
      "text/plain": [
       "group        event_name    A1    A2     B  total   shareA1   shareA2  shareB\n",
       "1      MainScreenAppear  2450  2476  2493   7534  0.325192  0.328643  0.3309"
      ]
     },
     "execution_count": 55,
     "metadata": {},
     "output_type": "execute_result"
    }
   ],
   "source": [
    "sample = stat_data.query('event_name == \"MainScreenAppear\"')\n",
    "sample"
   ]
  },
  {
   "cell_type": "markdown",
   "metadata": {},
   "source": [
    "Null hypothesis: there is no statistical difference between the proportions of groups A and A1.  \n",
    "\n",
    "Alternative hypothesis: there is a statistical difference between the proportions of groups A and A1.  "
   ]
  },
  {
   "cell_type": "code",
   "execution_count": 56,
   "metadata": {},
   "outputs": [],
   "source": [
    "def z_test(group1, group2, event, df, pivot, alpha=0.05):\n",
    "\n",
    "    successes1 = pivot[pivot.event_name == event][group1].iloc[0]\n",
    "    successes2 = pivot[pivot.event_name == event][group2].iloc[0]\n",
    "    \n",
    "    trials1 = df[df.group == group1]['user_id'].nunique()\n",
    "    trials2 = df[df.group == group2]['user_id'].nunique()\n",
    "    \n",
    "    # proportion of successes in the first group\n",
    "    p1 = successes1 / trials1\n",
    "\n",
    "    # proportion of successes in the second group\n",
    "    p2 = successes2 / trials2\n",
    "    \n",
    "    print(successes1, successes2, trials1, trials2)\n",
    "\n",
    "    # combined proportion of successes\n",
    "    p_combined = (successes1 + successes2) / (trials1 + trials2)\n",
    "\n",
    "    # difference in proportions\n",
    "    difference = p1 - p2 \n",
    "\n",
    "    # z-statistic\n",
    "    z_value = difference / mth.sqrt(p_combined * (1 - p_combined) * (1/trials1 + 1/trials2))\n",
    "\n",
    "    # standard normal distribution (mean 0, std 1)\n",
    "    distr = st.norm(0, 1)  \n",
    "\n",
    "    p_value = (1 - distr.cdf(abs(z_value))) * 2\n",
    "\n",
    "    print('p-value:', p_value)\n",
    "\n",
    "    if p_value < alpha:\n",
    "        print('Reject the null hypothesis: significant difference between proportions')\n",
    "    else:\n",
    "        print('Failed to reject the null hypothesis: no significant difference between proportions')"
   ]
  },
  {
   "cell_type": "code",
   "execution_count": 57,
   "metadata": {},
   "outputs": [
    {
     "name": "stdout",
     "output_type": "stream",
     "text": [
      "2450 2476 2484 2513\n",
      "p-value: 0.7570597232046099\n",
      "Failed to reject the null hypothesis: no significant difference between proportions\n"
     ]
    }
   ],
   "source": [
    "z_test('A1', 'A2', 'MainScreenAppear', data, stat_data, alpha=0.05)"
   ]
  },
  {
   "cell_type": "markdown",
   "metadata": {},
   "source": [
    "The statistical test showed that there is no statistically significant difference between the groups, and the null hypothesis is not rejected.  \n",
    "Next, we will check the remaining events.  "
   ]
  },
  {
   "cell_type": "code",
   "execution_count": 58,
   "metadata": {},
   "outputs": [
    {
     "name": "stdout",
     "output_type": "stream",
     "text": [
      "2450 2476 2484 2513\n",
      "p-value: 0.7570597232046099\n",
      "Failed to reject the null hypothesis: no significant difference between proportions\n",
      "1542 1520 2484 2513\n",
      "p-value: 0.2480954578522181\n",
      "Failed to reject the null hypothesis: no significant difference between proportions\n",
      "1266 1238 2484 2513\n",
      "p-value: 0.22883372237997213\n",
      "Failed to reject the null hypothesis: no significant difference between proportions\n",
      "1200 1158 2484 2513\n",
      "p-value: 0.11456679313141849\n",
      "Failed to reject the null hypothesis: no significant difference between proportions\n"
     ]
    }
   ],
   "source": [
    "for i in stat_data.event_name.unique():\n",
    "    z_test('A1', 'A2', i, data, stat_data ,alpha=0.05)"
   ]
  },
  {
   "cell_type": "markdown",
   "metadata": {},
   "source": [
    "For the remaining events, the test also showed no statistically significant difference between groups 246 (A1) and 247 (A2).  \n",
    "The A/A test can therefore be considered successful, and the groups are split correctly.  \n",
    "\n",
    "Now let’s move on to the A/B test.  "
   ]
  },
  {
   "cell_type": "markdown",
   "metadata": {},
   "source": [
    "Null hypothesis: there is no statistical difference between the proportions of groups A1 and B.  \n",
    "Alternative hypothesis: there is a statistical difference between the proportions of groups A1 and B.  \n",
    "\n",
    "Let’s test this across all events at once.  "
   ]
  },
  {
   "cell_type": "code",
   "execution_count": 59,
   "metadata": {},
   "outputs": [
    {
     "name": "stdout",
     "output_type": "stream",
     "text": [
      "2450 2493 2484 2537\n",
      "p-value: 0.2949721933554552\n",
      "Failed to reject the null hypothesis: no significant difference between proportions\n",
      "1542 1531 2484 2537\n",
      "p-value: 0.20836205402738917\n",
      "Failed to reject the null hypothesis: no significant difference between proportions\n",
      "1266 1230 2484 2537\n",
      "p-value: 0.07842923237520116\n",
      "Failed to reject the null hypothesis: no significant difference between proportions\n",
      "1200 1181 2484 2537\n",
      "p-value: 0.2122553275697796\n",
      "Failed to reject the null hypothesis: no significant difference between proportions\n"
     ]
    }
   ],
   "source": [
    "for i in stat_data.event_name.unique():\n",
    "    z_test('A1', 'B', i, data, stat_data, alpha=0.05)"
   ]
  },
  {
   "cell_type": "markdown",
   "metadata": {},
   "source": [
    "The statistical test showed that there is no statistically significant difference between groups 246 (A1) and 248 (B), and the null hypothesis is not rejected.  \n",
    "\n",
    "Next, let’s compare the second control group with the experimental group.  "
   ]
  },
  {
   "cell_type": "code",
   "execution_count": 60,
   "metadata": {},
   "outputs": [
    {
     "name": "stdout",
     "output_type": "stream",
     "text": [
      "2476 2493 2513 2537\n",
      "p-value: 0.4587053616621515\n",
      "Failed to reject the null hypothesis: no significant difference between proportions\n",
      "1520 1531 2513 2537\n",
      "p-value: 0.9197817830592261\n",
      "Failed to reject the null hypothesis: no significant difference between proportions\n",
      "1238 1230 2513 2537\n",
      "p-value: 0.5786197879539783\n",
      "Failed to reject the null hypothesis: no significant difference between proportions\n",
      "1158 1181 2513 2537\n",
      "p-value: 0.7373415053803964\n",
      "Failed to reject the null hypothesis: no significant difference between proportions\n"
     ]
    }
   ],
   "source": [
    "for i in stat_data.event_name.unique():\n",
    "    z_test('A2', 'B', i, data, stat_data, alpha=0.05)"
   ]
  },
  {
   "cell_type": "markdown",
   "metadata": {},
   "source": [
    "The statistical test again showed that there is no statistically significant difference between groups 247 (A2) and 248 (B), and the null hypothesis is not rejected.  "
   ]
  },
  {
   "cell_type": "markdown",
   "metadata": {},
   "source": [
    "Let’s compare the results with the combined control group.  "
   ]
  },
  {
   "cell_type": "code",
   "execution_count": 61,
   "metadata": {},
   "outputs": [],
   "source": [
    "# create a dataset from the original one with groups A1 and A2 combined into a single group\n",
    "for_combined_test = data.query('event_name != \"Tutorial\"').reset_index(drop=True)\n",
    "\n",
    "def comb(row):\n",
    "    if 'A1' in row:\n",
    "        return 'combined'\n",
    "    elif 'A2' in row:\n",
    "        return 'combined'\n",
    "    else:\n",
    "        return row\n",
    "\n",
    "for_combined_test['group'] = for_combined_test['group'].apply(comb)\n",
    "# for_combined_test['group'].unique()\n",
    "\n",
    "# create a second pivot table with the combined groups\n",
    "stat_data_comb = (\n",
    "    for_combined_test.query('event_name != \"Tutorial\"')\n",
    "    .pivot_table(\n",
    "        index=['event_name'],\n",
    "        values='user_id',\n",
    "        columns='group',\n",
    "        aggfunc=lambda x: x.nunique()\n",
    "    )\n",
    "    .reset_index()\n",
    ")"
   ]
  },
  {
   "cell_type": "code",
   "execution_count": 62,
   "metadata": {},
   "outputs": [
    {
     "name": "stdout",
     "output_type": "stream",
     "text": [
      "2476 2493 2513 2537\n",
      "p-value: 0.4587053616621515\n",
      "Failed to reject the null hypothesis: no significant difference between proportions\n",
      "1520 1531 2513 2537\n",
      "p-value: 0.9197817830592261\n",
      "Failed to reject the null hypothesis: no significant difference between proportions\n",
      "1238 1230 2513 2537\n",
      "p-value: 0.5786197879539783\n",
      "Failed to reject the null hypothesis: no significant difference between proportions\n",
      "1158 1181 2513 2537\n",
      "p-value: 0.7373415053803964\n",
      "Failed to reject the null hypothesis: no significant difference between proportions\n"
     ]
    }
   ],
   "source": [
    "for i in stat_data.event_name.unique():\n",
    "    z_test('A2', 'B', i, data, stat_data, alpha=0.05)"
   ]
  },
  {
   "cell_type": "markdown",
   "metadata": {},
   "source": [
    "When comparing the metrics of group 248 (B) with the combined control groups 246 (A1) and 247 (A2), no statistically significant differences were found for any of the events.  "
   ]
  },
  {
   "cell_type": "markdown",
   "metadata": {},
   "source": [
    "However, with a significance level of 0.1, there is a 10% chance of incorrectly rejecting the null hypothesis when it is actually true.  \n",
    "To account for this, we apply the Bonferroni correction.  \n",
    "The significance level for each of the *m* comparisons is divided by *m*, relative to the significance level required for a single comparison.  \n",
    "Thus, we divide the current significance level by the number of hypotheses.  "
   ]
  },
  {
   "cell_type": "code",
   "execution_count": 63,
   "metadata": {},
   "outputs": [
    {
     "name": "stdout",
     "output_type": "stream",
     "text": [
      "2450 2476 2484 2513\n",
      "p-value: 0.7570597232046099\n",
      "Failed to reject the null hypothesis: no significant difference between proportions\n",
      "1542 1520 2484 2513\n",
      "p-value: 0.2480954578522181\n",
      "Failed to reject the null hypothesis: no significant difference between proportions\n",
      "1266 1238 2484 2513\n",
      "p-value: 0.22883372237997213\n",
      "Failed to reject the null hypothesis: no significant difference between proportions\n",
      "1200 1158 2484 2513\n",
      "p-value: 0.11456679313141849\n",
      "Failed to reject the null hypothesis: no significant difference between proportions\n",
      "2450 2493 2484 2537\n",
      "p-value: 0.2949721933554552\n",
      "Failed to reject the null hypothesis: no significant difference between proportions\n",
      "1542 1531 2484 2537\n",
      "p-value: 0.20836205402738917\n",
      "Failed to reject the null hypothesis: no significant difference between proportions\n",
      "1266 1230 2484 2537\n",
      "p-value: 0.07842923237520116\n",
      "Failed to reject the null hypothesis: no significant difference between proportions\n",
      "1200 1181 2484 2537\n",
      "p-value: 0.2122553275697796\n",
      "Failed to reject the null hypothesis: no significant difference between proportions\n"
     ]
    }
   ],
   "source": [
    "for i in stat_data.event_name.unique():\n",
    "    z_test('A1', 'A2', i, data, stat_data , alpha=0.05/12)\n",
    "    \n",
    "for i in stat_data.event_name.unique():\n",
    "    z_test('A1', 'B', i, data, stat_data, alpha=0.05/12)"
   ]
  },
  {
   "cell_type": "code",
   "execution_count": 64,
   "metadata": {},
   "outputs": [
    {
     "name": "stdout",
     "output_type": "stream",
     "text": [
      "4926 2493 4995 2535\n",
      "p-value: 0.3486684291093256\n",
      "Failed to reject the null hypothesis: no significant difference between proportions\n",
      "3062 1531 4995 2535\n",
      "p-value: 0.44582745409482394\n",
      "Failed to reject the null hypothesis: no significant difference between proportions\n",
      "2504 1230 4995 2535\n",
      "p-value: 0.18683558686831558\n",
      "Failed to reject the null hypothesis: no significant difference between proportions\n",
      "2358 1181 4995 2535\n",
      "p-value: 0.6107918742187335\n",
      "Failed to reject the null hypothesis: no significant difference between proportions\n"
     ]
    }
   ],
   "source": [
    "for i in for_combined_test.event_name.unique():\n",
    "    z_test('combined', 'B', i, for_combined_test, stat_data_comb, alpha=0.05/12)   "
   ]
  },
  {
   "cell_type": "markdown",
   "metadata": {},
   "source": [
    "After applying the Bonferroni correction, the test results did not change.  "
   ]
  },
  {
   "cell_type": "markdown",
   "metadata": {},
   "source": [
    "#### Section Summary:\n",
    "\n",
    "1. A total of 16 hypotheses were tested in the A/A/B experiments.  \n",
    "2. The A/A test was successful; the groups were formed correctly. Four null hypotheses were not rejected.  \n",
    "3. All 12 hypotheses of equal proportions in the A/B tests (A1/B, A2/B, A/B) were not rejected.  \n",
    "   The test can therefore be considered unsuccessful: the group with the changed font shows no statistical difference in user proportions at any step.  \n",
    "   The font change had no impact on user behavior in any event.  \n",
    "4. All tests were checked for Type I and Type II errors using the Bonferroni correction.  \n",
    "   This did not affect the results — all hypotheses were not rejected.  "
   ]
  },
  {
   "cell_type": "markdown",
   "metadata": {},
   "source": [
    "### Conclusions:  \n",
    "\n",
    "1. A total of 16 hypotheses were tested in the A/A/B experiments. None of the hypotheses were rejected.  \n",
    "2. The A/A test was successful; the groups were formed correctly.  \n",
    "3. The A/B test can be considered unsuccessful: the group with the changed font shows no statistical difference in user proportions at any step. The font change had no impact on user behavior in any event.  \n",
    "4. All tests were checked for Type I and Type II errors using the Bonferroni correction. This did not affect the results.  \n",
    "5. There was no overlap of unique users between groups. The number of sessions per group was approximately the same.  \n",
    "6. On average, each user accounted for about 32 events.  \n",
    "7. The dataset covers the period from July 26, 2019 to August 7, 2019. For this study, the data from July 26 to July 31 was excluded due to insufficient volume.  \n",
    "8. Proposed funnel sequence:  \n",
    "   * Navigate to main screen  \n",
    "   * Navigate to product page — 61.91% of users proceed from the previous step  \n",
    "   * Navigate to cart — 81.30% of users proceed from the previous step  \n",
    "   * Payment — 94.78% of users proceed from the previous step  \n",
    "9. The exact funnel position of the \"Tutorial\" event was not identified, but it should be noted that this event occurs the least — about 11% of all users.  \n",
    "10. The largest user drop-off occurs at the \"OffersScreenAppear\" event. Users may be experiencing difficulties navigating to or interacting with the product offers page, or they may lack sufficient triggers to proceed.  \n",
    "11. The average number of unique daily users is 3,676.  \n",
    "12. Overall user conversion rate: 46.97%.  "
   ]
  }
 ],
 "metadata": {
  "ExecuteTimeLog": [
   {
    "duration": 1616,
    "start_time": "2023-09-19T06:56:18.649Z"
   },
   {
    "duration": 815,
    "start_time": "2023-09-19T06:56:20.269Z"
   },
   {
    "duration": 25,
    "start_time": "2023-09-19T06:56:31.468Z"
   },
   {
    "duration": 11,
    "start_time": "2023-09-19T06:58:44.048Z"
   },
   {
    "duration": 219,
    "start_time": "2023-09-19T07:01:14.826Z"
   },
   {
    "duration": 26,
    "start_time": "2023-09-19T07:01:15.250Z"
   },
   {
    "duration": 9,
    "start_time": "2023-09-19T07:01:17.926Z"
   },
   {
    "duration": 3,
    "start_time": "2023-09-19T07:01:46.758Z"
   },
   {
    "duration": 9,
    "start_time": "2023-09-19T07:01:47.542Z"
   },
   {
    "duration": 3,
    "start_time": "2023-09-19T07:07:30.776Z"
   },
   {
    "duration": 7,
    "start_time": "2023-09-19T07:08:25.968Z"
   },
   {
    "duration": 9,
    "start_time": "2023-09-19T07:08:27.957Z"
   },
   {
    "duration": 4,
    "start_time": "2023-09-19T07:10:01.092Z"
   },
   {
    "duration": 7,
    "start_time": "2023-09-19T07:10:40.433Z"
   },
   {
    "duration": 8,
    "start_time": "2023-09-19T07:11:02.173Z"
   },
   {
    "duration": 65,
    "start_time": "2023-09-19T07:11:23.371Z"
   },
   {
    "duration": 4,
    "start_time": "2023-09-19T07:11:49.762Z"
   },
   {
    "duration": 67,
    "start_time": "2023-09-19T07:13:27.293Z"
   },
   {
    "duration": 133,
    "start_time": "2023-09-19T07:13:35.539Z"
   },
   {
    "duration": 6,
    "start_time": "2023-09-19T07:13:57.131Z"
   },
   {
    "duration": 59,
    "start_time": "2023-09-19T07:13:57.498Z"
   },
   {
    "duration": 128,
    "start_time": "2023-09-19T07:13:58.414Z"
   },
   {
    "duration": 19,
    "start_time": "2023-09-19T07:14:49.965Z"
   },
   {
    "duration": 133,
    "start_time": "2023-09-19T07:15:37.366Z"
   },
   {
    "duration": 17,
    "start_time": "2023-09-19T07:15:38.322Z"
   },
   {
    "duration": 5,
    "start_time": "2023-09-19T07:20:02.000Z"
   },
   {
    "duration": 81,
    "start_time": "2023-09-19T07:20:02.373Z"
   },
   {
    "duration": 173,
    "start_time": "2023-09-19T07:20:02.685Z"
   },
   {
    "duration": 29,
    "start_time": "2023-09-19T07:20:03.371Z"
   },
   {
    "duration": 77,
    "start_time": "2023-09-19T07:20:15.633Z"
   },
   {
    "duration": 6,
    "start_time": "2023-09-19T07:20:19.542Z"
   },
   {
    "duration": 9,
    "start_time": "2023-09-19T07:20:36.610Z"
   },
   {
    "duration": 7,
    "start_time": "2023-09-19T07:20:54.197Z"
   },
   {
    "duration": 8,
    "start_time": "2023-09-19T07:20:56.625Z"
   },
   {
    "duration": 4,
    "start_time": "2023-09-19T07:21:12.557Z"
   },
   {
    "duration": 191,
    "start_time": "2023-09-19T07:21:12.755Z"
   },
   {
    "duration": 22,
    "start_time": "2023-09-19T07:21:12.948Z"
   },
   {
    "duration": 8,
    "start_time": "2023-09-19T07:21:13.086Z"
   },
   {
    "duration": 9,
    "start_time": "2023-09-19T07:21:15.228Z"
   },
   {
    "duration": 64,
    "start_time": "2023-09-19T07:21:16.483Z"
   },
   {
    "duration": 135,
    "start_time": "2023-09-19T07:21:16.753Z"
   },
   {
    "duration": 24,
    "start_time": "2023-09-19T07:21:17.470Z"
   },
   {
    "duration": 133,
    "start_time": "2023-09-19T08:08:55.044Z"
   },
   {
    "duration": 10,
    "start_time": "2023-09-19T08:09:07.529Z"
   },
   {
    "duration": 13,
    "start_time": "2023-09-19T08:11:08.328Z"
   },
   {
    "duration": 10,
    "start_time": "2023-09-19T08:11:13.736Z"
   },
   {
    "duration": 14,
    "start_time": "2023-09-19T08:11:19.832Z"
   },
   {
    "duration": 4,
    "start_time": "2023-09-19T08:11:54.679Z"
   },
   {
    "duration": 11,
    "start_time": "2023-09-19T08:12:02.760Z"
   },
   {
    "duration": 23,
    "start_time": "2023-09-19T08:12:15.575Z"
   },
   {
    "duration": 10,
    "start_time": "2023-09-19T08:12:15.987Z"
   },
   {
    "duration": 23,
    "start_time": "2023-09-19T08:12:33.431Z"
   },
   {
    "duration": 11,
    "start_time": "2023-09-19T08:12:36.201Z"
   },
   {
    "duration": 10,
    "start_time": "2023-09-19T08:13:17.854Z"
   },
   {
    "duration": 9,
    "start_time": "2023-09-19T08:13:52.172Z"
   },
   {
    "duration": 16,
    "start_time": "2023-09-19T08:16:31.297Z"
   },
   {
    "duration": 47,
    "start_time": "2023-09-19T08:17:20.162Z"
   },
   {
    "duration": 22,
    "start_time": "2023-09-19T08:17:27.698Z"
   },
   {
    "duration": 79,
    "start_time": "2023-09-19T08:17:27.723Z"
   },
   {
    "duration": 4,
    "start_time": "2023-09-19T08:17:40.012Z"
   },
   {
    "duration": 218,
    "start_time": "2023-09-19T08:17:40.018Z"
   },
   {
    "duration": 25,
    "start_time": "2023-09-19T08:17:40.238Z"
   },
   {
    "duration": 11,
    "start_time": "2023-09-19T08:17:40.266Z"
   },
   {
    "duration": 30,
    "start_time": "2023-09-19T08:17:40.279Z"
   },
   {
    "duration": 66,
    "start_time": "2023-09-19T08:17:40.312Z"
   },
   {
    "duration": 141,
    "start_time": "2023-09-19T08:17:40.380Z"
   },
   {
    "duration": 18,
    "start_time": "2023-09-19T08:17:40.523Z"
   },
   {
    "duration": 25,
    "start_time": "2023-09-19T08:17:40.543Z"
   },
   {
    "duration": 19,
    "start_time": "2023-09-19T08:17:50.050Z"
   },
   {
    "duration": 12,
    "start_time": "2023-09-19T08:17:51.291Z"
   },
   {
    "duration": 12,
    "start_time": "2023-09-19T08:17:57.902Z"
   },
   {
    "duration": 10,
    "start_time": "2023-09-19T08:17:58.675Z"
   },
   {
    "duration": 17,
    "start_time": "2023-09-19T08:18:04.195Z"
   },
   {
    "duration": 11,
    "start_time": "2023-09-19T08:18:06.032Z"
   },
   {
    "duration": 11,
    "start_time": "2023-09-19T08:19:06.653Z"
   },
   {
    "duration": 80,
    "start_time": "2023-09-19T08:19:46.625Z"
   },
   {
    "duration": 11,
    "start_time": "2023-09-19T08:19:48.443Z"
   },
   {
    "duration": 93,
    "start_time": "2023-09-19T08:20:18.075Z"
   },
   {
    "duration": 10,
    "start_time": "2023-09-19T08:20:18.483Z"
   },
   {
    "duration": 4,
    "start_time": "2023-09-19T08:24:06.014Z"
   },
   {
    "duration": 181,
    "start_time": "2023-09-19T08:24:06.190Z"
   },
   {
    "duration": 21,
    "start_time": "2023-09-19T08:24:06.373Z"
   },
   {
    "duration": 8,
    "start_time": "2023-09-19T08:24:06.508Z"
   },
   {
    "duration": 7,
    "start_time": "2023-09-19T08:24:08.220Z"
   },
   {
    "duration": 62,
    "start_time": "2023-09-19T08:24:10.434Z"
   },
   {
    "duration": 121,
    "start_time": "2023-09-19T08:24:10.660Z"
   },
   {
    "duration": 17,
    "start_time": "2023-09-19T08:24:11.096Z"
   },
   {
    "duration": 22,
    "start_time": "2023-09-19T08:24:16.892Z"
   },
   {
    "duration": 80,
    "start_time": "2023-09-19T08:24:17.392Z"
   },
   {
    "duration": 10,
    "start_time": "2023-09-19T08:24:17.795Z"
   },
   {
    "duration": 8,
    "start_time": "2023-09-19T08:24:30.270Z"
   },
   {
    "duration": 23,
    "start_time": "2023-09-19T08:25:59.090Z"
   },
   {
    "duration": 21,
    "start_time": "2023-09-19T08:26:07.156Z"
   },
   {
    "duration": 11,
    "start_time": "2023-09-19T08:26:19.232Z"
   },
   {
    "duration": 15,
    "start_time": "2023-09-19T08:26:25.317Z"
   },
   {
    "duration": 22,
    "start_time": "2023-09-19T08:26:28.692Z"
   },
   {
    "duration": 26,
    "start_time": "2023-09-19T08:26:55.079Z"
   },
   {
    "duration": 17,
    "start_time": "2023-09-19T08:27:42.074Z"
   },
   {
    "duration": 9045,
    "start_time": "2023-09-19T08:28:01.295Z"
   },
   {
    "duration": 40,
    "start_time": "2023-09-19T08:29:37.623Z"
   },
   {
    "duration": 40,
    "start_time": "2023-09-19T08:29:51.059Z"
   },
   {
    "duration": 12,
    "start_time": "2023-09-19T08:33:06.559Z"
   },
   {
    "duration": 11,
    "start_time": "2023-09-19T08:33:23.489Z"
   },
   {
    "duration": 766,
    "start_time": "2023-09-19T08:33:28.214Z"
   },
   {
    "duration": 707,
    "start_time": "2023-09-19T08:33:38.249Z"
   },
   {
    "duration": 41,
    "start_time": "2023-09-19T08:38:13.752Z"
   },
   {
    "duration": 107,
    "start_time": "2023-09-19T08:38:42.077Z"
   },
   {
    "duration": 123,
    "start_time": "2023-09-19T08:38:48.022Z"
   },
   {
    "duration": 47,
    "start_time": "2023-09-19T08:39:11.597Z"
   },
   {
    "duration": 32,
    "start_time": "2023-09-19T08:44:16.894Z"
   },
   {
    "duration": 20,
    "start_time": "2023-09-19T08:44:31.559Z"
   },
   {
    "duration": 54,
    "start_time": "2023-09-19T08:45:06.173Z"
   },
   {
    "duration": 37,
    "start_time": "2023-09-19T08:45:43.119Z"
   },
   {
    "duration": 31,
    "start_time": "2023-09-19T08:47:24.469Z"
   },
   {
    "duration": 749,
    "start_time": "2023-09-19T08:48:10.136Z"
   },
   {
    "duration": 20,
    "start_time": "2023-09-19T08:48:25.721Z"
   },
   {
    "duration": 217,
    "start_time": "2023-09-19T08:49:45.354Z"
   },
   {
    "duration": 266,
    "start_time": "2023-09-19T08:51:03.729Z"
   },
   {
    "duration": 13,
    "start_time": "2023-09-19T08:51:10.957Z"
   },
   {
    "duration": 244,
    "start_time": "2023-09-19T08:51:30.557Z"
   },
   {
    "duration": 144,
    "start_time": "2023-09-19T08:52:07.479Z"
   },
   {
    "duration": 25,
    "start_time": "2023-09-19T08:52:15.040Z"
   },
   {
    "duration": 155,
    "start_time": "2023-09-19T08:52:24.086Z"
   },
   {
    "duration": 28,
    "start_time": "2023-09-19T08:52:30.038Z"
   },
   {
    "duration": 140,
    "start_time": "2023-09-19T08:52:49.224Z"
   },
   {
    "duration": 63,
    "start_time": "2023-09-19T08:52:55.488Z"
   },
   {
    "duration": 242,
    "start_time": "2023-09-19T08:53:03.261Z"
   },
   {
    "duration": 64,
    "start_time": "2023-09-19T08:53:11.087Z"
   },
   {
    "duration": 670,
    "start_time": "2023-09-19T08:54:25.507Z"
   },
   {
    "duration": 722,
    "start_time": "2023-09-19T08:57:23.733Z"
   },
   {
    "duration": 63,
    "start_time": "2023-09-19T08:57:37.692Z"
   },
   {
    "duration": 71,
    "start_time": "2023-09-19T08:57:42.263Z"
   },
   {
    "duration": 64,
    "start_time": "2023-09-19T08:58:14.435Z"
   },
   {
    "duration": 65,
    "start_time": "2023-09-19T08:58:52.062Z"
   },
   {
    "duration": 72,
    "start_time": "2023-09-19T08:58:57.254Z"
   },
   {
    "duration": 73,
    "start_time": "2023-09-19T08:59:38.789Z"
   },
   {
    "duration": 715,
    "start_time": "2023-09-19T08:59:44.993Z"
   },
   {
    "duration": 679,
    "start_time": "2023-09-19T09:00:19.479Z"
   },
   {
    "duration": 784,
    "start_time": "2023-09-19T09:00:46.474Z"
   },
   {
    "duration": 816,
    "start_time": "2023-09-19T09:04:23.960Z"
   },
   {
    "duration": 873,
    "start_time": "2023-09-19T09:04:42.429Z"
   },
   {
    "duration": 809,
    "start_time": "2023-09-19T09:06:09.096Z"
   },
   {
    "duration": 664,
    "start_time": "2023-09-19T09:06:20.664Z"
   },
   {
    "duration": 10,
    "start_time": "2023-09-19T09:08:27.997Z"
   },
   {
    "duration": 69,
    "start_time": "2023-09-19T09:09:04.327Z"
   },
   {
    "duration": 16,
    "start_time": "2023-09-19T09:09:05.425Z"
   },
   {
    "duration": 68,
    "start_time": "2023-09-19T09:09:54.962Z"
   },
   {
    "duration": 65,
    "start_time": "2023-09-19T09:10:04.041Z"
   },
   {
    "duration": 14,
    "start_time": "2023-09-19T09:10:12.990Z"
   },
   {
    "duration": 71,
    "start_time": "2023-09-19T09:10:28.526Z"
   },
   {
    "duration": 499,
    "start_time": "2023-09-19T09:10:29.695Z"
   },
   {
    "duration": 10,
    "start_time": "2023-09-19T09:10:33.530Z"
   },
   {
    "duration": 460,
    "start_time": "2023-09-19T09:10:43.733Z"
   },
   {
    "duration": 177,
    "start_time": "2023-09-19T09:11:14.362Z"
   },
   {
    "duration": 357,
    "start_time": "2023-09-19T09:11:21.650Z"
   },
   {
    "duration": 391,
    "start_time": "2023-09-19T09:12:28.300Z"
   },
   {
    "duration": 443,
    "start_time": "2023-09-19T09:12:32.400Z"
   },
   {
    "duration": 355,
    "start_time": "2023-09-19T09:12:38.078Z"
   },
   {
    "duration": 476,
    "start_time": "2023-09-19T09:13:00.947Z"
   },
   {
    "duration": 359,
    "start_time": "2023-09-19T09:13:07.316Z"
   },
   {
    "duration": 366,
    "start_time": "2023-09-19T09:13:15.639Z"
   },
   {
    "duration": 377,
    "start_time": "2023-09-19T09:13:40.492Z"
   },
   {
    "duration": 359,
    "start_time": "2023-09-19T09:14:11.432Z"
   },
   {
    "duration": 592,
    "start_time": "2023-09-19T09:14:20.101Z"
   },
   {
    "duration": 459,
    "start_time": "2023-09-19T09:14:27.446Z"
   },
   {
    "duration": 481,
    "start_time": "2023-09-19T09:14:37.250Z"
   },
   {
    "duration": 462,
    "start_time": "2023-09-19T09:14:49.162Z"
   },
   {
    "duration": 462,
    "start_time": "2023-09-19T09:14:55.576Z"
   },
   {
    "duration": 505,
    "start_time": "2023-09-19T09:15:04.904Z"
   },
   {
    "duration": 570,
    "start_time": "2023-09-19T09:15:12.813Z"
   },
   {
    "duration": 538,
    "start_time": "2023-09-19T09:15:19.496Z"
   },
   {
    "duration": 482,
    "start_time": "2023-09-19T09:15:29.171Z"
   },
   {
    "duration": 418,
    "start_time": "2023-09-19T09:15:34.527Z"
   },
   {
    "duration": 415,
    "start_time": "2023-09-19T09:15:41.650Z"
   },
   {
    "duration": 491,
    "start_time": "2023-09-19T09:15:51.285Z"
   },
   {
    "duration": 685,
    "start_time": "2023-09-19T09:16:15.613Z"
   },
   {
    "duration": 451,
    "start_time": "2023-09-19T09:16:21.464Z"
   },
   {
    "duration": 458,
    "start_time": "2023-09-19T09:16:29.763Z"
   },
   {
    "duration": 436,
    "start_time": "2023-09-19T09:16:36.519Z"
   },
   {
    "duration": 433,
    "start_time": "2023-09-19T09:17:24.630Z"
   },
   {
    "duration": 448,
    "start_time": "2023-09-19T09:17:30.207Z"
   },
   {
    "duration": 580,
    "start_time": "2023-09-19T09:17:39.810Z"
   },
   {
    "duration": 437,
    "start_time": "2023-09-19T09:17:59.943Z"
   },
   {
    "duration": 432,
    "start_time": "2023-09-19T09:18:09.751Z"
   },
   {
    "duration": 430,
    "start_time": "2023-09-19T09:18:18.380Z"
   },
   {
    "duration": 436,
    "start_time": "2023-09-19T09:18:30.406Z"
   },
   {
    "duration": 415,
    "start_time": "2023-09-19T09:18:37.236Z"
   },
   {
    "duration": 67,
    "start_time": "2023-09-19T09:21:31.011Z"
   },
   {
    "duration": 564,
    "start_time": "2023-09-19T09:21:31.495Z"
   },
   {
    "duration": 63,
    "start_time": "2023-09-19T09:22:50.268Z"
   },
   {
    "duration": 414,
    "start_time": "2023-09-19T09:22:51.283Z"
   },
   {
    "duration": 70,
    "start_time": "2023-09-19T09:23:54.749Z"
   },
   {
    "duration": 10,
    "start_time": "2023-09-19T09:23:57.885Z"
   },
   {
    "duration": 60,
    "start_time": "2023-09-19T09:27:36.780Z"
   },
   {
    "duration": 424,
    "start_time": "2023-09-19T09:27:38.802Z"
   },
   {
    "duration": 409,
    "start_time": "2023-09-19T09:27:48.230Z"
   },
   {
    "duration": 491,
    "start_time": "2023-09-19T09:27:52.320Z"
   },
   {
    "duration": 400,
    "start_time": "2023-09-19T09:27:56.479Z"
   },
   {
    "duration": 625,
    "start_time": "2023-09-19T09:28:02.470Z"
   },
   {
    "duration": 841,
    "start_time": "2023-09-19T09:29:30.050Z"
   },
   {
    "duration": 483,
    "start_time": "2023-09-19T09:29:32.017Z"
   },
   {
    "duration": 17,
    "start_time": "2023-09-19T09:29:42.930Z"
   },
   {
    "duration": 18,
    "start_time": "2023-09-19T09:29:56.278Z"
   },
   {
    "duration": 498,
    "start_time": "2023-09-19T09:29:57.213Z"
   },
   {
    "duration": 10,
    "start_time": "2023-09-19T09:30:02.217Z"
   },
   {
    "duration": 34,
    "start_time": "2023-09-19T09:30:22.898Z"
   },
   {
    "duration": 469,
    "start_time": "2023-09-19T09:33:22.783Z"
   },
   {
    "duration": 15,
    "start_time": "2023-09-19T09:33:30.348Z"
   },
   {
    "duration": 113,
    "start_time": "2023-09-19T09:33:37.219Z"
   },
   {
    "duration": 51,
    "start_time": "2023-09-19T09:36:49.688Z"
   },
   {
    "duration": 1400,
    "start_time": "2023-09-19T09:36:56.286Z"
   },
   {
    "duration": 202,
    "start_time": "2023-09-19T09:36:57.688Z"
   },
   {
    "duration": 28,
    "start_time": "2023-09-19T09:36:57.892Z"
   },
   {
    "duration": 12,
    "start_time": "2023-09-19T09:36:57.922Z"
   },
   {
    "duration": 8,
    "start_time": "2023-09-19T09:36:57.937Z"
   },
   {
    "duration": 110,
    "start_time": "2023-09-19T09:36:57.946Z"
   },
   {
    "duration": 170,
    "start_time": "2023-09-19T09:36:58.058Z"
   },
   {
    "duration": 32,
    "start_time": "2023-09-19T09:36:58.230Z"
   },
   {
    "duration": 25,
    "start_time": "2023-09-19T09:36:58.265Z"
   },
   {
    "duration": 77,
    "start_time": "2023-09-19T09:36:58.309Z"
   },
   {
    "duration": 23,
    "start_time": "2023-09-19T09:36:58.388Z"
   },
   {
    "duration": 33,
    "start_time": "2023-09-19T09:36:58.412Z"
   },
   {
    "duration": 8,
    "start_time": "2023-09-19T09:36:58.447Z"
   },
   {
    "duration": 24,
    "start_time": "2023-09-19T09:36:58.457Z"
   },
   {
    "duration": 20,
    "start_time": "2023-09-19T09:36:58.510Z"
   },
   {
    "duration": 33,
    "start_time": "2023-09-19T09:36:58.532Z"
   },
   {
    "duration": 184,
    "start_time": "2023-09-19T09:36:58.568Z"
   },
   {
    "duration": 139,
    "start_time": "2023-09-19T09:37:02.116Z"
   },
   {
    "duration": 0,
    "start_time": "2023-09-19T09:37:22.155Z"
   },
   {
    "duration": 14,
    "start_time": "2023-09-19T09:37:28.642Z"
   },
   {
    "duration": 67,
    "start_time": "2023-09-19T09:37:33.897Z"
   },
   {
    "duration": 397,
    "start_time": "2023-09-19T09:37:34.302Z"
   },
   {
    "duration": 462,
    "start_time": "2023-09-19T09:38:02.983Z"
   },
   {
    "duration": 502,
    "start_time": "2023-09-19T09:38:39.683Z"
   },
   {
    "duration": 368,
    "start_time": "2023-09-19T09:38:50.037Z"
   },
   {
    "duration": 378,
    "start_time": "2023-09-19T09:39:03.914Z"
   },
   {
    "duration": 386,
    "start_time": "2023-09-19T09:39:11.372Z"
   },
   {
    "duration": 374,
    "start_time": "2023-09-19T09:40:06.854Z"
   },
   {
    "duration": 376,
    "start_time": "2023-09-19T09:40:13.067Z"
   },
   {
    "duration": 401,
    "start_time": "2023-09-19T09:40:28.308Z"
   },
   {
    "duration": 383,
    "start_time": "2023-09-19T09:41:10.266Z"
   },
   {
    "duration": 392,
    "start_time": "2023-09-19T09:41:19.813Z"
   },
   {
    "duration": 398,
    "start_time": "2023-09-19T09:41:25.909Z"
   },
   {
    "duration": 519,
    "start_time": "2023-09-19T09:42:04.365Z"
   },
   {
    "duration": 387,
    "start_time": "2023-09-19T09:44:27.543Z"
   },
   {
    "duration": 407,
    "start_time": "2023-09-19T09:44:46.725Z"
   },
   {
    "duration": 401,
    "start_time": "2023-09-19T09:44:55.867Z"
   },
   {
    "duration": 375,
    "start_time": "2023-09-19T09:45:01.038Z"
   },
   {
    "duration": 391,
    "start_time": "2023-09-19T09:45:09.198Z"
   },
   {
    "duration": 397,
    "start_time": "2023-09-19T09:45:22.651Z"
   },
   {
    "duration": 169,
    "start_time": "2023-09-19T09:45:36.307Z"
   },
   {
    "duration": 168,
    "start_time": "2023-09-19T09:45:40.005Z"
   },
   {
    "duration": 368,
    "start_time": "2023-09-19T09:45:53.079Z"
   },
   {
    "duration": 473,
    "start_time": "2023-09-19T09:47:25.965Z"
   },
   {
    "duration": 122,
    "start_time": "2023-09-19T09:47:44.010Z"
   },
   {
    "duration": 92458,
    "start_time": "2023-09-19T09:47:44.404Z"
   },
   {
    "duration": 0,
    "start_time": "2023-09-19T09:49:16.864Z"
   },
   {
    "duration": 55341,
    "start_time": "2023-09-19T09:49:23.223Z"
   },
   {
    "duration": 0,
    "start_time": "2023-09-19T09:50:18.565Z"
   },
   {
    "duration": 56,
    "start_time": "2023-09-19T09:50:21.688Z"
   },
   {
    "duration": 405,
    "start_time": "2023-09-19T09:50:23.289Z"
   },
   {
    "duration": 19,
    "start_time": "2023-09-19T09:51:11.851Z"
   },
   {
    "duration": 20,
    "start_time": "2023-09-19T09:51:23.124Z"
   },
   {
    "duration": 2,
    "start_time": "2023-09-19T09:59:51.967Z"
   },
   {
    "duration": 51,
    "start_time": "2023-09-19T10:00:36.384Z"
   },
   {
    "duration": 17,
    "start_time": "2023-09-19T10:00:53.651Z"
   },
   {
    "duration": 18,
    "start_time": "2023-09-19T10:01:04.568Z"
   },
   {
    "duration": 493,
    "start_time": "2023-09-19T10:03:11.305Z"
   },
   {
    "duration": 20,
    "start_time": "2023-09-19T10:03:27.730Z"
   },
   {
    "duration": 17,
    "start_time": "2023-09-19T10:03:36.789Z"
   },
   {
    "duration": 4,
    "start_time": "2023-09-19T10:03:57.137Z"
   },
   {
    "duration": 187,
    "start_time": "2023-09-19T10:03:57.144Z"
   },
   {
    "duration": 26,
    "start_time": "2023-09-19T10:03:57.333Z"
   },
   {
    "duration": 9,
    "start_time": "2023-09-19T10:03:57.361Z"
   },
   {
    "duration": 7,
    "start_time": "2023-09-19T10:03:57.373Z"
   },
   {
    "duration": 82,
    "start_time": "2023-09-19T10:03:57.382Z"
   },
   {
    "duration": 124,
    "start_time": "2023-09-19T10:03:57.465Z"
   },
   {
    "duration": 25,
    "start_time": "2023-09-19T10:03:57.591Z"
   },
   {
    "duration": 24,
    "start_time": "2023-09-19T10:03:57.618Z"
   },
   {
    "duration": 85,
    "start_time": "2023-09-19T10:03:57.644Z"
   },
   {
    "duration": 11,
    "start_time": "2023-09-19T10:03:57.730Z"
   },
   {
    "duration": 34,
    "start_time": "2023-09-19T10:03:57.743Z"
   },
   {
    "duration": 32,
    "start_time": "2023-09-19T10:03:57.779Z"
   },
   {
    "duration": 22,
    "start_time": "2023-09-19T10:03:57.813Z"
   },
   {
    "duration": 21,
    "start_time": "2023-09-19T10:03:57.836Z"
   },
   {
    "duration": 48,
    "start_time": "2023-09-19T10:03:57.858Z"
   },
   {
    "duration": 67,
    "start_time": "2023-09-19T10:03:57.908Z"
   },
   {
    "duration": 425,
    "start_time": "2023-09-19T10:03:57.977Z"
   },
   {
    "duration": 3,
    "start_time": "2023-09-19T10:04:01.051Z"
   },
   {
    "duration": 14,
    "start_time": "2023-09-19T10:04:01.605Z"
   },
   {
    "duration": 34,
    "start_time": "2023-09-19T10:05:40.906Z"
   },
   {
    "duration": 333,
    "start_time": "2023-09-19T10:06:57.570Z"
   },
   {
    "duration": 10,
    "start_time": "2023-09-19T10:07:09.099Z"
   },
   {
    "duration": 13,
    "start_time": "2023-09-19T10:07:14.351Z"
   },
   {
    "duration": 34,
    "start_time": "2023-09-19T10:07:18.637Z"
   },
   {
    "duration": 19,
    "start_time": "2023-09-19T10:07:37.208Z"
   },
   {
    "duration": 35,
    "start_time": "2023-09-19T10:07:47.641Z"
   },
   {
    "duration": 5,
    "start_time": "2023-09-19T10:08:00.795Z"
   },
   {
    "duration": 4,
    "start_time": "2023-09-19T10:08:48.685Z"
   },
   {
    "duration": 7,
    "start_time": "2023-09-19T10:10:09.476Z"
   },
   {
    "duration": 21,
    "start_time": "2023-09-19T10:10:28.102Z"
   },
   {
    "duration": 9,
    "start_time": "2023-09-19T10:10:39.468Z"
   },
   {
    "duration": 140,
    "start_time": "2023-09-19T10:12:53.106Z"
   },
   {
    "duration": 95,
    "start_time": "2023-09-19T10:12:59.547Z"
   },
   {
    "duration": 132,
    "start_time": "2023-09-19T10:13:03.003Z"
   },
   {
    "duration": 87,
    "start_time": "2023-09-19T10:13:10.190Z"
   },
   {
    "duration": 110,
    "start_time": "2023-09-19T10:13:25.838Z"
   },
   {
    "duration": 108,
    "start_time": "2023-09-19T10:13:31.493Z"
   },
   {
    "duration": 173,
    "start_time": "2023-09-19T10:13:36.431Z"
   },
   {
    "duration": 21,
    "start_time": "2023-09-19T10:13:43.862Z"
   },
   {
    "duration": 81,
    "start_time": "2023-09-19T10:13:52.304Z"
   },
   {
    "duration": 571,
    "start_time": "2023-09-19T10:14:02.215Z"
   },
   {
    "duration": 21,
    "start_time": "2023-09-19T10:14:09.292Z"
   },
   {
    "duration": 55,
    "start_time": "2023-09-19T10:20:30.718Z"
   },
   {
    "duration": 24,
    "start_time": "2023-09-19T10:21:02.732Z"
   },
   {
    "duration": 28,
    "start_time": "2023-09-19T10:21:38.471Z"
   },
   {
    "duration": 33,
    "start_time": "2023-09-19T10:22:25.972Z"
   },
   {
    "duration": 29,
    "start_time": "2023-09-19T10:22:37.427Z"
   },
   {
    "duration": 59,
    "start_time": "2023-09-19T10:25:09.984Z"
   },
   {
    "duration": 54,
    "start_time": "2023-09-19T10:29:12.437Z"
   },
   {
    "duration": 46,
    "start_time": "2023-09-19T10:29:27.793Z"
   },
   {
    "duration": 14,
    "start_time": "2023-09-19T10:32:38.621Z"
   },
   {
    "duration": 99,
    "start_time": "2023-09-19T10:32:42.172Z"
   },
   {
    "duration": 202,
    "start_time": "2023-09-19T10:32:42.602Z"
   },
   {
    "duration": 38,
    "start_time": "2023-09-19T10:32:43.067Z"
   },
   {
    "duration": 22,
    "start_time": "2023-09-19T10:32:43.846Z"
   },
   {
    "duration": 77,
    "start_time": "2023-09-19T10:32:44.051Z"
   },
   {
    "duration": 10,
    "start_time": "2023-09-19T10:32:44.666Z"
   },
   {
    "duration": 42,
    "start_time": "2023-09-19T10:32:46.206Z"
   },
   {
    "duration": 9,
    "start_time": "2023-09-19T10:32:46.974Z"
   },
   {
    "duration": 22,
    "start_time": "2023-09-19T10:32:47.180Z"
   },
   {
    "duration": 20,
    "start_time": "2023-09-19T10:32:47.574Z"
   },
   {
    "duration": 19,
    "start_time": "2023-09-19T10:32:47.777Z"
   },
   {
    "duration": 65,
    "start_time": "2023-09-19T10:32:47.969Z"
   },
   {
    "duration": 267,
    "start_time": "2023-09-19T10:32:48.164Z"
   },
   {
    "duration": 38,
    "start_time": "2023-09-19T10:32:52.415Z"
   },
   {
    "duration": 59,
    "start_time": "2023-09-19T10:32:52.878Z"
   },
   {
    "duration": 54,
    "start_time": "2023-09-19T10:33:01.326Z"
   },
   {
    "duration": 19,
    "start_time": "2023-09-19T10:34:08.363Z"
   },
   {
    "duration": 16,
    "start_time": "2023-09-19T10:34:08.896Z"
   },
   {
    "duration": 4,
    "start_time": "2023-09-19T10:34:20.134Z"
   },
   {
    "duration": 184,
    "start_time": "2023-09-19T10:34:20.140Z"
   },
   {
    "duration": 22,
    "start_time": "2023-09-19T10:34:20.326Z"
   },
   {
    "duration": 8,
    "start_time": "2023-09-19T10:34:20.350Z"
   },
   {
    "duration": 9,
    "start_time": "2023-09-19T10:34:20.360Z"
   },
   {
    "duration": 47,
    "start_time": "2023-09-19T10:34:20.371Z"
   },
   {
    "duration": 68,
    "start_time": "2023-09-19T10:34:20.420Z"
   },
   {
    "duration": 158,
    "start_time": "2023-09-19T10:34:20.489Z"
   },
   {
    "duration": 29,
    "start_time": "2023-09-19T10:34:20.650Z"
   },
   {
    "duration": 45,
    "start_time": "2023-09-19T10:34:20.681Z"
   },
   {
    "duration": 41,
    "start_time": "2023-09-19T10:34:20.728Z"
   },
   {
    "duration": 19,
    "start_time": "2023-09-19T10:34:20.772Z"
   },
   {
    "duration": 49,
    "start_time": "2023-09-19T10:34:20.792Z"
   },
   {
    "duration": 13,
    "start_time": "2023-09-19T10:34:20.843Z"
   },
   {
    "duration": 26,
    "start_time": "2023-09-19T10:34:20.858Z"
   },
   {
    "duration": 6,
    "start_time": "2023-09-19T10:34:20.886Z"
   },
   {
    "duration": 18,
    "start_time": "2023-09-19T10:34:20.893Z"
   },
   {
    "duration": 61,
    "start_time": "2023-09-19T10:34:20.913Z"
   },
   {
    "duration": 473,
    "start_time": "2023-09-19T10:34:20.976Z"
   },
   {
    "duration": 14,
    "start_time": "2023-09-19T10:34:21.451Z"
   },
   {
    "duration": 77,
    "start_time": "2023-09-19T10:34:21.467Z"
   },
   {
    "duration": 67,
    "start_time": "2023-09-19T10:34:21.546Z"
   },
   {
    "duration": 56,
    "start_time": "2023-09-19T10:34:24.943Z"
   },
   {
    "duration": 15,
    "start_time": "2023-09-19T10:36:49.671Z"
   },
   {
    "duration": 15,
    "start_time": "2023-09-19T10:37:22.145Z"
   },
   {
    "duration": 8,
    "start_time": "2023-09-19T10:37:36.330Z"
   },
   {
    "duration": 109,
    "start_time": "2023-09-19T10:38:54.933Z"
   },
   {
    "duration": 192,
    "start_time": "2023-09-19T10:39:37.331Z"
   },
   {
    "duration": 11,
    "start_time": "2023-09-19T10:39:48.627Z"
   },
   {
    "duration": 8,
    "start_time": "2023-09-19T10:40:08.765Z"
   },
   {
    "duration": 14,
    "start_time": "2023-09-19T10:40:19.902Z"
   },
   {
    "duration": 85,
    "start_time": "2023-09-19T10:41:15.006Z"
   },
   {
    "duration": 84,
    "start_time": "2023-09-19T10:41:28.427Z"
   },
   {
    "duration": 11,
    "start_time": "2023-09-19T10:41:29.481Z"
   },
   {
    "duration": 51,
    "start_time": "2023-09-19T10:41:31.926Z"
   },
   {
    "duration": 11,
    "start_time": "2023-09-19T10:41:32.582Z"
   },
   {
    "duration": 23,
    "start_time": "2023-09-19T10:41:33.231Z"
   },
   {
    "duration": 94,
    "start_time": "2023-09-19T10:41:33.634Z"
   },
   {
    "duration": 100,
    "start_time": "2023-09-19T10:41:34.009Z"
   },
   {
    "duration": 292,
    "start_time": "2023-09-19T10:41:34.180Z"
   },
   {
    "duration": 64,
    "start_time": "2023-09-19T10:41:45.626Z"
   },
   {
    "duration": 297,
    "start_time": "2023-09-19T10:41:46.091Z"
   },
   {
    "duration": 35,
    "start_time": "2023-09-19T10:42:03.199Z"
   },
   {
    "duration": 58,
    "start_time": "2023-09-19T10:42:04.000Z"
   },
   {
    "duration": 33,
    "start_time": "2023-09-19T10:43:17.682Z"
   },
   {
    "duration": 4,
    "start_time": "2023-09-19T10:44:23.112Z"
   },
   {
    "duration": 10,
    "start_time": "2023-09-19T10:44:29.773Z"
   },
   {
    "duration": 45,
    "start_time": "2023-09-19T10:44:29.923Z"
   },
   {
    "duration": 107,
    "start_time": "2023-09-19T10:44:30.071Z"
   },
   {
    "duration": 207,
    "start_time": "2023-09-19T10:44:30.212Z"
   },
   {
    "duration": 36,
    "start_time": "2023-09-19T10:44:30.421Z"
   },
   {
    "duration": 22,
    "start_time": "2023-09-19T10:44:30.493Z"
   },
   {
    "duration": 83,
    "start_time": "2023-09-19T10:44:30.636Z"
   },
   {
    "duration": 10,
    "start_time": "2023-09-19T10:44:30.810Z"
   },
   {
    "duration": 41,
    "start_time": "2023-09-19T10:44:31.032Z"
   },
   {
    "duration": 9,
    "start_time": "2023-09-19T10:44:31.654Z"
   },
   {
    "duration": 21,
    "start_time": "2023-09-19T10:44:31.834Z"
   },
   {
    "duration": 69,
    "start_time": "2023-09-19T10:44:32.207Z"
   },
   {
    "duration": 650,
    "start_time": "2023-09-19T10:44:32.383Z"
   },
   {
    "duration": 0,
    "start_time": "2023-09-19T10:44:33.035Z"
   },
   {
    "duration": 0,
    "start_time": "2023-09-19T10:44:33.036Z"
   },
   {
    "duration": 44,
    "start_time": "2023-09-19T10:44:33.230Z"
   },
   {
    "duration": 57,
    "start_time": "2023-09-19T10:44:34.382Z"
   },
   {
    "duration": 5,
    "start_time": "2023-09-19T10:47:41.785Z"
   },
   {
    "duration": 182,
    "start_time": "2023-09-19T10:50:01.951Z"
   },
   {
    "duration": 17,
    "start_time": "2023-09-19T10:50:08.337Z"
   },
   {
    "duration": 17,
    "start_time": "2023-09-19T10:50:44.631Z"
   },
   {
    "duration": 18,
    "start_time": "2023-09-19T10:50:59.520Z"
   },
   {
    "duration": 140,
    "start_time": "2023-09-19T10:52:06.322Z"
   },
   {
    "duration": 84,
    "start_time": "2023-09-19T10:52:11.065Z"
   },
   {
    "duration": 24,
    "start_time": "2023-09-19T10:52:18.044Z"
   },
   {
    "duration": 292,
    "start_time": "2023-09-19T10:52:21.264Z"
   },
   {
    "duration": 73,
    "start_time": "2023-09-19T10:52:38.578Z"
   },
   {
    "duration": 23,
    "start_time": "2023-09-19T10:52:49.379Z"
   },
   {
    "duration": 17,
    "start_time": "2023-09-19T10:53:22.183Z"
   },
   {
    "duration": 757,
    "start_time": "2023-09-19T10:54:10.226Z"
   },
   {
    "duration": 541,
    "start_time": "2023-09-19T10:54:22.047Z"
   },
   {
    "duration": 5,
    "start_time": "2023-09-19T10:54:31.761Z"
   },
   {
    "duration": 183,
    "start_time": "2023-09-19T10:54:31.768Z"
   },
   {
    "duration": 24,
    "start_time": "2023-09-19T10:54:31.953Z"
   },
   {
    "duration": 19,
    "start_time": "2023-09-19T10:54:31.979Z"
   },
   {
    "duration": 33,
    "start_time": "2023-09-19T10:54:32.000Z"
   },
   {
    "duration": 43,
    "start_time": "2023-09-19T10:54:32.035Z"
   },
   {
    "duration": 84,
    "start_time": "2023-09-19T10:54:32.081Z"
   },
   {
    "duration": 144,
    "start_time": "2023-09-19T10:54:32.167Z"
   },
   {
    "duration": 30,
    "start_time": "2023-09-19T10:54:32.313Z"
   },
   {
    "duration": 22,
    "start_time": "2023-09-19T10:54:32.345Z"
   },
   {
    "duration": 142,
    "start_time": "2023-09-19T10:54:32.369Z"
   },
   {
    "duration": 14,
    "start_time": "2023-09-19T10:54:32.514Z"
   },
   {
    "duration": 84,
    "start_time": "2023-09-19T10:54:32.531Z"
   },
   {
    "duration": 11,
    "start_time": "2023-09-19T10:54:32.618Z"
   },
   {
    "duration": 27,
    "start_time": "2023-09-19T10:54:32.632Z"
   },
   {
    "duration": 113,
    "start_time": "2023-09-19T10:54:32.661Z"
   },
   {
    "duration": 68,
    "start_time": "2023-09-19T10:54:34.451Z"
   },
   {
    "duration": 169,
    "start_time": "2023-09-19T10:54:35.231Z"
   },
   {
    "duration": 184,
    "start_time": "2023-09-19T10:54:38.402Z"
   },
   {
    "duration": 0,
    "start_time": "2023-09-19T10:55:05.353Z"
   },
   {
    "duration": 0,
    "start_time": "2023-09-19T10:55:05.356Z"
   },
   {
    "duration": 68,
    "start_time": "2023-09-19T10:55:08.158Z"
   },
   {
    "duration": 438,
    "start_time": "2023-09-19T10:55:09.813Z"
   },
   {
    "duration": 50,
    "start_time": "2023-09-19T10:55:14.814Z"
   },
   {
    "duration": 71,
    "start_time": "2023-09-19T10:55:15.269Z"
   },
   {
    "duration": 17,
    "start_time": "2023-09-19T10:57:34.414Z"
   },
   {
    "duration": 39,
    "start_time": "2023-09-19T10:58:24.074Z"
   },
   {
    "duration": 59,
    "start_time": "2023-09-19T11:02:52.207Z"
   },
   {
    "duration": 64,
    "start_time": "2023-09-19T11:03:05.790Z"
   },
   {
    "duration": 81,
    "start_time": "2023-09-19T11:03:17.867Z"
   },
   {
    "duration": 78,
    "start_time": "2023-09-19T11:03:30.801Z"
   },
   {
    "duration": 102,
    "start_time": "2023-09-19T11:04:14.540Z"
   },
   {
    "duration": 91,
    "start_time": "2023-09-19T11:04:51.628Z"
   },
   {
    "duration": 80,
    "start_time": "2023-09-19T11:05:03.449Z"
   },
   {
    "duration": 54,
    "start_time": "2023-09-19T11:05:14.660Z"
   },
   {
    "duration": 16,
    "start_time": "2023-09-19T11:08:08.320Z"
   },
   {
    "duration": 69,
    "start_time": "2023-09-19T11:08:26.355Z"
   },
   {
    "duration": 56,
    "start_time": "2023-09-19T11:08:37.117Z"
   },
   {
    "duration": 86,
    "start_time": "2023-09-19T11:09:25.179Z"
   },
   {
    "duration": 84,
    "start_time": "2023-09-19T11:09:30.344Z"
   },
   {
    "duration": 79,
    "start_time": "2023-09-19T11:10:04.129Z"
   },
   {
    "duration": 88,
    "start_time": "2023-09-19T11:10:12.771Z"
   },
   {
    "duration": 60,
    "start_time": "2023-09-19T11:10:24.728Z"
   },
   {
    "duration": 93,
    "start_time": "2023-09-19T11:10:33.460Z"
   },
   {
    "duration": 79,
    "start_time": "2023-09-19T11:10:51.715Z"
   },
   {
    "duration": 60,
    "start_time": "2023-09-19T11:11:14.136Z"
   },
   {
    "duration": 60,
    "start_time": "2023-09-19T11:11:22.641Z"
   },
   {
    "duration": 82,
    "start_time": "2023-09-19T11:13:34.501Z"
   },
   {
    "duration": 56,
    "start_time": "2023-09-19T11:13:55.097Z"
   },
   {
    "duration": 73,
    "start_time": "2023-09-19T11:14:17.502Z"
   },
   {
    "duration": 87,
    "start_time": "2023-09-19T11:24:10.764Z"
   },
   {
    "duration": 58,
    "start_time": "2023-09-19T11:24:39.230Z"
   },
   {
    "duration": 87,
    "start_time": "2023-09-19T11:27:06.708Z"
   },
   {
    "duration": 70,
    "start_time": "2023-09-19T11:27:11.581Z"
   },
   {
    "duration": 110,
    "start_time": "2023-09-19T11:27:19.381Z"
   },
   {
    "duration": 79,
    "start_time": "2023-09-19T11:27:47.368Z"
   },
   {
    "duration": 192,
    "start_time": "2023-09-19T11:29:31.841Z"
   },
   {
    "duration": 83,
    "start_time": "2023-09-19T11:31:15.833Z"
   },
   {
    "duration": 148,
    "start_time": "2023-09-19T11:33:23.869Z"
   },
   {
    "duration": 17,
    "start_time": "2023-09-19T11:33:49.253Z"
   },
   {
    "duration": 31,
    "start_time": "2023-09-19T11:34:08.403Z"
   },
   {
    "duration": 23,
    "start_time": "2023-09-19T11:34:23.888Z"
   },
   {
    "duration": 15,
    "start_time": "2023-09-19T11:35:47.463Z"
   },
   {
    "duration": 81,
    "start_time": "2023-09-19T11:36:09.336Z"
   },
   {
    "duration": 89,
    "start_time": "2023-09-19T11:36:16.239Z"
   },
   {
    "duration": 15,
    "start_time": "2023-09-19T11:36:18.654Z"
   },
   {
    "duration": 16,
    "start_time": "2023-09-19T11:36:30.086Z"
   },
   {
    "duration": 13,
    "start_time": "2023-09-19T11:36:40.683Z"
   },
   {
    "duration": 21,
    "start_time": "2023-09-19T11:36:53.800Z"
   },
   {
    "duration": 3836,
    "start_time": "2023-09-19T11:37:09.905Z"
   },
   {
    "duration": 57,
    "start_time": "2023-09-19T11:37:30.929Z"
   },
   {
    "duration": 4482,
    "start_time": "2023-09-19T11:37:44.190Z"
   },
   {
    "duration": 2489,
    "start_time": "2023-09-19T11:37:59.148Z"
   },
   {
    "duration": 10,
    "start_time": "2023-09-19T11:38:06.746Z"
   },
   {
    "duration": 2757,
    "start_time": "2023-09-19T11:38:14.443Z"
   },
   {
    "duration": 18,
    "start_time": "2023-09-19T11:38:23.761Z"
   },
   {
    "duration": 13,
    "start_time": "2023-09-19T11:39:03.299Z"
   },
   {
    "duration": 2982,
    "start_time": "2023-09-19T11:39:13.330Z"
   },
   {
    "duration": 102,
    "start_time": "2023-09-19T11:41:32.442Z"
   },
   {
    "duration": 239,
    "start_time": "2023-09-19T11:42:21.441Z"
   },
   {
    "duration": 97,
    "start_time": "2023-09-19T11:43:44.751Z"
   },
   {
    "duration": 1923,
    "start_time": "2023-09-19T11:44:00.527Z"
   },
   {
    "duration": 53,
    "start_time": "2023-09-19T11:44:19.638Z"
   },
   {
    "duration": 78,
    "start_time": "2023-09-19T11:44:31.390Z"
   },
   {
    "duration": 66,
    "start_time": "2023-09-19T11:44:36.362Z"
   },
   {
    "duration": 73,
    "start_time": "2023-09-19T11:44:45.334Z"
   },
   {
    "duration": 1894,
    "start_time": "2023-09-19T11:44:47.967Z"
   },
   {
    "duration": 2008,
    "start_time": "2023-09-19T11:44:56.379Z"
   },
   {
    "duration": 72,
    "start_time": "2023-09-19T11:46:28.986Z"
   },
   {
    "duration": 1846,
    "start_time": "2023-09-19T11:46:31.285Z"
   },
   {
    "duration": 26,
    "start_time": "2023-09-19T11:46:47.336Z"
   },
   {
    "duration": 1899,
    "start_time": "2023-09-19T11:46:56.502Z"
   },
   {
    "duration": 75,
    "start_time": "2023-09-19T11:47:33.104Z"
   },
   {
    "duration": 719,
    "start_time": "2023-09-19T11:47:49.137Z"
   },
   {
    "duration": 56,
    "start_time": "2023-09-19T11:47:59.640Z"
   },
   {
    "duration": 51,
    "start_time": "2023-09-19T11:48:13.536Z"
   },
   {
    "duration": 85,
    "start_time": "2023-09-19T11:48:32.363Z"
   },
   {
    "duration": 9,
    "start_time": "2023-09-19T11:48:35.423Z"
   },
   {
    "duration": 51,
    "start_time": "2023-09-19T11:48:38.226Z"
   },
   {
    "duration": 83,
    "start_time": "2023-09-19T11:50:45.918Z"
   },
   {
    "duration": 98,
    "start_time": "2023-09-19T11:53:48.837Z"
   },
   {
    "duration": 6,
    "start_time": "2023-09-19T11:55:00.030Z"
   },
   {
    "duration": 34,
    "start_time": "2023-09-19T11:56:05.653Z"
   },
   {
    "duration": 10,
    "start_time": "2023-09-19T11:56:16.209Z"
   },
   {
    "duration": 15,
    "start_time": "2023-09-19T11:57:36.885Z"
   },
   {
    "duration": 5,
    "start_time": "2023-09-19T11:57:58.933Z"
   },
   {
    "duration": 12,
    "start_time": "2023-09-19T11:58:09.892Z"
   },
   {
    "duration": 55,
    "start_time": "2023-09-19T11:58:27.341Z"
   },
   {
    "duration": 13,
    "start_time": "2023-09-19T11:58:30.943Z"
   },
   {
    "duration": 58,
    "start_time": "2023-09-19T11:58:54.462Z"
   },
   {
    "duration": 15,
    "start_time": "2023-09-19T11:59:09.324Z"
   },
   {
    "duration": 17,
    "start_time": "2023-09-19T11:59:18.498Z"
   },
   {
    "duration": 87,
    "start_time": "2023-09-19T11:59:26.592Z"
   },
   {
    "duration": 1507,
    "start_time": "2023-09-19T11:59:29.370Z"
   },
   {
    "duration": 2113,
    "start_time": "2023-09-19T11:59:38.461Z"
   },
   {
    "duration": 1474,
    "start_time": "2023-09-19T11:59:57.211Z"
   },
   {
    "duration": 55,
    "start_time": "2023-09-19T12:00:06.928Z"
   },
   {
    "duration": 14,
    "start_time": "2023-09-19T12:00:07.736Z"
   },
   {
    "duration": 62,
    "start_time": "2023-09-19T12:00:31.048Z"
   },
   {
    "duration": 76,
    "start_time": "2023-09-19T12:01:48.171Z"
   },
   {
    "duration": 62,
    "start_time": "2023-09-19T12:02:00.231Z"
   },
   {
    "duration": 62,
    "start_time": "2023-09-19T12:03:09.696Z"
   },
   {
    "duration": 66,
    "start_time": "2023-09-19T12:03:14.647Z"
   },
   {
    "duration": 69,
    "start_time": "2023-09-19T12:06:14.004Z"
   },
   {
    "duration": 45,
    "start_time": "2023-09-19T12:08:43.348Z"
   },
   {
    "duration": 79,
    "start_time": "2023-09-19T12:08:58.149Z"
   },
   {
    "duration": 1874,
    "start_time": "2023-09-19T12:09:58.615Z"
   },
   {
    "duration": 66,
    "start_time": "2023-09-19T12:10:06.331Z"
   },
   {
    "duration": 72,
    "start_time": "2023-09-19T12:10:24.606Z"
   },
   {
    "duration": 70,
    "start_time": "2023-09-19T12:10:37.216Z"
   },
   {
    "duration": 25,
    "start_time": "2023-09-19T12:10:44.496Z"
   },
   {
    "duration": 69,
    "start_time": "2023-09-19T12:10:48.981Z"
   },
   {
    "duration": 57,
    "start_time": "2023-09-19T12:11:02.799Z"
   },
   {
    "duration": 57,
    "start_time": "2023-09-19T12:11:09.623Z"
   },
   {
    "duration": 60,
    "start_time": "2023-09-19T12:11:33.173Z"
   },
   {
    "duration": 63,
    "start_time": "2023-09-19T12:11:43.008Z"
   },
   {
    "duration": 65,
    "start_time": "2023-09-19T12:11:50.114Z"
   },
   {
    "duration": 64,
    "start_time": "2023-09-19T12:12:04.677Z"
   },
   {
    "duration": 63,
    "start_time": "2023-09-19T12:12:11.444Z"
   },
   {
    "duration": 63,
    "start_time": "2023-09-19T12:12:39.468Z"
   },
   {
    "duration": 66,
    "start_time": "2023-09-19T12:12:54.766Z"
   },
   {
    "duration": 64,
    "start_time": "2023-09-19T12:13:18.882Z"
   },
   {
    "duration": 88,
    "start_time": "2023-09-19T12:13:30.861Z"
   },
   {
    "duration": 1481,
    "start_time": "2023-09-19T12:31:12.969Z"
   },
   {
    "duration": 519,
    "start_time": "2023-09-19T12:31:32.080Z"
   },
   {
    "duration": 465,
    "start_time": "2023-09-19T12:32:19.267Z"
   },
   {
    "duration": 426,
    "start_time": "2023-09-19T12:32:34.278Z"
   },
   {
    "duration": 35,
    "start_time": "2023-09-19T13:39:03.763Z"
   },
   {
    "duration": 69,
    "start_time": "2023-09-19T13:57:50.708Z"
   },
   {
    "duration": 60,
    "start_time": "2023-09-19T13:57:57.915Z"
   },
   {
    "duration": 51,
    "start_time": "2023-09-19T13:58:07.950Z"
   },
   {
    "duration": 54,
    "start_time": "2023-09-19T14:03:56.959Z"
   },
   {
    "duration": 143458,
    "start_time": "2023-09-19T14:04:09.495Z"
   },
   {
    "duration": 0,
    "start_time": "2023-09-19T14:06:32.954Z"
   },
   {
    "duration": 0,
    "start_time": "2023-09-19T14:07:19.623Z"
   },
   {
    "duration": 185485,
    "start_time": "2023-09-19T14:07:22.643Z"
   },
   {
    "duration": 362335,
    "start_time": "2023-09-19T14:12:39.991Z"
   },
   {
    "duration": 27,
    "start_time": "2023-09-19T14:23:41.258Z"
   },
   {
    "duration": 17,
    "start_time": "2023-09-19T14:23:47.670Z"
   },
   {
    "duration": 86,
    "start_time": "2023-09-19T14:23:59.083Z"
   },
   {
    "duration": 108,
    "start_time": "2023-09-19T14:25:17.832Z"
   },
   {
    "duration": 61,
    "start_time": "2023-09-19T14:25:28.808Z"
   },
   {
    "duration": 60,
    "start_time": "2023-09-19T14:25:39.656Z"
   },
   {
    "duration": 3,
    "start_time": "2023-09-19T14:25:43.330Z"
   },
   {
    "duration": 17,
    "start_time": "2023-09-19T14:25:43.612Z"
   },
   {
    "duration": 8793,
    "start_time": "2023-09-19T14:25:44.084Z"
   },
   {
    "duration": 117382,
    "start_time": "2023-09-19T14:26:08.996Z"
   },
   {
    "duration": 26,
    "start_time": "2023-09-19T14:28:16.496Z"
   },
   {
    "duration": 27,
    "start_time": "2023-09-19T14:28:17.105Z"
   },
   {
    "duration": 196929,
    "start_time": "2023-09-19T14:28:22.935Z"
   },
   {
    "duration": 181902,
    "start_time": "2023-09-19T14:32:49.963Z"
   },
   {
    "duration": 64,
    "start_time": "2023-09-19T14:44:43.390Z"
   },
   {
    "duration": 9,
    "start_time": "2023-09-19T14:44:50.408Z"
   },
   {
    "duration": 1603,
    "start_time": "2023-09-19T14:44:56.806Z"
   },
   {
    "duration": 571,
    "start_time": "2023-09-19T14:44:58.412Z"
   },
   {
    "duration": 24,
    "start_time": "2023-09-19T14:44:58.986Z"
   },
   {
    "duration": 15,
    "start_time": "2023-09-19T14:44:59.012Z"
   },
   {
    "duration": 13,
    "start_time": "2023-09-19T14:44:59.036Z"
   },
   {
    "duration": 18,
    "start_time": "2023-09-19T14:44:59.052Z"
   },
   {
    "duration": 112,
    "start_time": "2023-09-19T14:44:59.072Z"
   },
   {
    "duration": 186,
    "start_time": "2023-09-19T14:44:59.185Z"
   },
   {
    "duration": 40,
    "start_time": "2023-09-19T14:44:59.373Z"
   },
   {
    "duration": 27,
    "start_time": "2023-09-19T14:44:59.415Z"
   },
   {
    "duration": 94,
    "start_time": "2023-09-19T14:44:59.444Z"
   },
   {
    "duration": 10,
    "start_time": "2023-09-19T14:44:59.540Z"
   },
   {
    "duration": 57,
    "start_time": "2023-09-19T14:44:59.552Z"
   },
   {
    "duration": 8,
    "start_time": "2023-09-19T14:44:59.612Z"
   },
   {
    "duration": 28,
    "start_time": "2023-09-19T14:44:59.622Z"
   },
   {
    "duration": 104,
    "start_time": "2023-09-19T14:44:59.652Z"
   },
   {
    "duration": 89,
    "start_time": "2023-09-19T14:44:59.758Z"
   },
   {
    "duration": 510,
    "start_time": "2023-09-19T14:44:59.850Z"
   },
   {
    "duration": 40,
    "start_time": "2023-09-19T14:45:00.362Z"
   },
   {
    "duration": 178,
    "start_time": "2023-09-19T14:45:00.404Z"
   },
   {
    "duration": 0,
    "start_time": "2023-09-19T14:45:00.583Z"
   },
   {
    "duration": 0,
    "start_time": "2023-09-19T14:45:00.585Z"
   },
   {
    "duration": 0,
    "start_time": "2023-09-19T14:45:00.587Z"
   },
   {
    "duration": 0,
    "start_time": "2023-09-19T14:45:00.588Z"
   },
   {
    "duration": 0,
    "start_time": "2023-09-19T14:45:00.590Z"
   },
   {
    "duration": 0,
    "start_time": "2023-09-19T14:45:00.592Z"
   },
   {
    "duration": 0,
    "start_time": "2023-09-19T14:45:00.593Z"
   },
   {
    "duration": 1,
    "start_time": "2023-09-19T14:45:00.594Z"
   },
   {
    "duration": 4,
    "start_time": "2023-09-19T14:56:19.045Z"
   },
   {
    "duration": 217,
    "start_time": "2023-09-19T14:56:19.052Z"
   },
   {
    "duration": 22,
    "start_time": "2023-09-19T14:56:19.271Z"
   },
   {
    "duration": 16,
    "start_time": "2023-09-19T14:56:19.310Z"
   },
   {
    "duration": 7,
    "start_time": "2023-09-19T14:56:19.331Z"
   },
   {
    "duration": 24,
    "start_time": "2023-09-19T14:56:19.340Z"
   },
   {
    "duration": 99,
    "start_time": "2023-09-19T14:56:19.366Z"
   },
   {
    "duration": 182,
    "start_time": "2023-09-19T14:56:19.466Z"
   },
   {
    "duration": 28,
    "start_time": "2023-09-19T14:56:19.650Z"
   },
   {
    "duration": 38,
    "start_time": "2023-09-19T14:56:19.680Z"
   },
   {
    "duration": 95,
    "start_time": "2023-09-19T14:56:19.720Z"
   },
   {
    "duration": 12,
    "start_time": "2023-09-19T14:56:19.817Z"
   },
   {
    "duration": 45,
    "start_time": "2023-09-19T14:56:19.834Z"
   },
   {
    "duration": 39,
    "start_time": "2023-09-19T14:56:19.881Z"
   },
   {
    "duration": 34,
    "start_time": "2023-09-19T14:56:19.923Z"
   },
   {
    "duration": 106,
    "start_time": "2023-09-19T14:56:19.960Z"
   },
   {
    "duration": 100,
    "start_time": "2023-09-19T14:56:20.068Z"
   },
   {
    "duration": 452,
    "start_time": "2023-09-19T14:56:20.170Z"
   },
   {
    "duration": 36,
    "start_time": "2023-09-19T14:56:20.626Z"
   },
   {
    "duration": 135,
    "start_time": "2023-09-19T14:56:20.664Z"
   },
   {
    "duration": 0,
    "start_time": "2023-09-19T14:56:20.802Z"
   },
   {
    "duration": 0,
    "start_time": "2023-09-19T14:56:20.803Z"
   },
   {
    "duration": 0,
    "start_time": "2023-09-19T14:56:20.805Z"
   },
   {
    "duration": 0,
    "start_time": "2023-09-19T14:56:20.806Z"
   },
   {
    "duration": 0,
    "start_time": "2023-09-19T14:56:20.808Z"
   },
   {
    "duration": 0,
    "start_time": "2023-09-19T14:56:20.809Z"
   },
   {
    "duration": 0,
    "start_time": "2023-09-19T14:56:20.811Z"
   },
   {
    "duration": 95,
    "start_time": "2023-09-19T14:56:22.854Z"
   },
   {
    "duration": 15,
    "start_time": "2023-09-19T14:56:24.202Z"
   },
   {
    "duration": 92,
    "start_time": "2023-09-19T14:56:35.355Z"
   },
   {
    "duration": 87,
    "start_time": "2023-09-19T14:56:43.885Z"
   },
   {
    "duration": 17,
    "start_time": "2023-09-19T14:56:45.581Z"
   },
   {
    "duration": 36,
    "start_time": "2023-09-19T14:56:45.776Z"
   },
   {
    "duration": 70,
    "start_time": "2023-09-19T14:56:46.337Z"
   },
   {
    "duration": 98,
    "start_time": "2023-09-19T14:56:46.945Z"
   },
   {
    "duration": 57,
    "start_time": "2023-09-19T14:56:47.949Z"
   },
   {
    "duration": 4,
    "start_time": "2023-09-19T14:56:48.515Z"
   },
   {
    "duration": 64,
    "start_time": "2023-09-19T14:56:48.733Z"
   },
   {
    "duration": 222952,
    "start_time": "2023-09-19T14:56:52.271Z"
   },
   {
    "duration": 208821,
    "start_time": "2023-09-19T15:00:35.227Z"
   },
   {
    "duration": 2704,
    "start_time": "2023-09-19T15:04:41.344Z"
   },
   {
    "duration": 621,
    "start_time": "2023-09-19T15:04:44.051Z"
   },
   {
    "duration": 38,
    "start_time": "2023-09-19T15:04:44.674Z"
   },
   {
    "duration": 18,
    "start_time": "2023-09-19T15:04:44.716Z"
   },
   {
    "duration": 8,
    "start_time": "2023-09-19T15:04:44.737Z"
   },
   {
    "duration": 26,
    "start_time": "2023-09-19T15:04:44.748Z"
   },
   {
    "duration": 142,
    "start_time": "2023-09-19T15:04:44.777Z"
   },
   {
    "duration": 209,
    "start_time": "2023-09-19T15:04:44.922Z"
   },
   {
    "duration": 27,
    "start_time": "2023-09-19T15:04:45.134Z"
   },
   {
    "duration": 43,
    "start_time": "2023-09-19T15:04:45.163Z"
   },
   {
    "duration": 135,
    "start_time": "2023-09-19T15:04:45.207Z"
   },
   {
    "duration": 22,
    "start_time": "2023-09-19T15:04:45.345Z"
   },
   {
    "duration": 72,
    "start_time": "2023-09-19T15:04:45.370Z"
   },
   {
    "duration": 8,
    "start_time": "2023-09-19T15:04:45.446Z"
   },
   {
    "duration": 24,
    "start_time": "2023-09-19T15:04:45.456Z"
   },
   {
    "duration": 102,
    "start_time": "2023-09-19T15:04:45.482Z"
   },
   {
    "duration": 103,
    "start_time": "2023-09-19T15:04:45.585Z"
   },
   {
    "duration": 5,
    "start_time": "2023-09-19T15:05:04.407Z"
   },
   {
    "duration": 209,
    "start_time": "2023-09-19T15:05:04.416Z"
   },
   {
    "duration": 26,
    "start_time": "2023-09-19T15:05:04.628Z"
   },
   {
    "duration": 10,
    "start_time": "2023-09-19T15:05:04.656Z"
   },
   {
    "duration": 6,
    "start_time": "2023-09-19T15:05:04.669Z"
   },
   {
    "duration": 52,
    "start_time": "2023-09-19T15:05:04.676Z"
   },
   {
    "duration": 90,
    "start_time": "2023-09-19T15:05:04.731Z"
   },
   {
    "duration": 159,
    "start_time": "2023-09-19T15:05:04.824Z"
   },
   {
    "duration": 47,
    "start_time": "2023-09-19T15:05:04.985Z"
   },
   {
    "duration": 28,
    "start_time": "2023-09-19T15:05:05.035Z"
   },
   {
    "duration": 108,
    "start_time": "2023-09-19T15:05:05.066Z"
   },
   {
    "duration": 38,
    "start_time": "2023-09-19T15:05:05.175Z"
   },
   {
    "duration": 66,
    "start_time": "2023-09-19T15:05:05.219Z"
   },
   {
    "duration": 25,
    "start_time": "2023-09-19T15:05:05.287Z"
   },
   {
    "duration": 38,
    "start_time": "2023-09-19T15:05:05.315Z"
   },
   {
    "duration": 97,
    "start_time": "2023-09-19T15:05:05.355Z"
   },
   {
    "duration": 114,
    "start_time": "2023-09-19T15:05:05.454Z"
   },
   {
    "duration": 471,
    "start_time": "2023-09-19T15:05:05.571Z"
   },
   {
    "duration": 34,
    "start_time": "2023-09-19T15:05:06.044Z"
   },
   {
    "duration": 84,
    "start_time": "2023-09-19T15:05:06.080Z"
   },
   {
    "duration": 17,
    "start_time": "2023-09-19T15:05:06.166Z"
   },
   {
    "duration": 57,
    "start_time": "2023-09-19T15:05:06.185Z"
   },
   {
    "duration": 71,
    "start_time": "2023-09-19T15:05:06.244Z"
   },
   {
    "duration": 62,
    "start_time": "2023-09-19T15:05:06.316Z"
   },
   {
    "duration": 90,
    "start_time": "2023-09-19T15:05:06.379Z"
   },
   {
    "duration": 5,
    "start_time": "2023-09-19T15:05:39.783Z"
   },
   {
    "duration": 61,
    "start_time": "2023-09-19T15:05:53.373Z"
   },
   {
    "duration": 73,
    "start_time": "2023-09-19T15:05:56.872Z"
   },
   {
    "duration": 154,
    "start_time": "2023-09-19T15:14:19.022Z"
   },
   {
    "duration": 35,
    "start_time": "2023-09-19T15:14:35.213Z"
   },
   {
    "duration": 64,
    "start_time": "2023-09-19T15:14:41.707Z"
   },
   {
    "duration": 24,
    "start_time": "2023-09-19T15:14:59.852Z"
   },
   {
    "duration": 36,
    "start_time": "2023-09-19T15:15:15.499Z"
   },
   {
    "duration": 52,
    "start_time": "2023-09-19T15:15:32.539Z"
   },
   {
    "duration": 63,
    "start_time": "2023-09-19T15:17:57.514Z"
   },
   {
    "duration": 48,
    "start_time": "2023-09-19T15:18:24.236Z"
   },
   {
    "duration": 47,
    "start_time": "2023-09-19T15:20:32.234Z"
   },
   {
    "duration": 54,
    "start_time": "2023-09-19T15:20:55.335Z"
   },
   {
    "duration": 46,
    "start_time": "2023-09-19T15:21:16.493Z"
   },
   {
    "duration": 8,
    "start_time": "2023-09-19T15:21:23.599Z"
   },
   {
    "duration": 39,
    "start_time": "2023-09-19T15:21:34.639Z"
   },
   {
    "duration": 9,
    "start_time": "2023-09-19T15:21:36.221Z"
   },
   {
    "duration": 44,
    "start_time": "2023-09-19T15:21:48.310Z"
   },
   {
    "duration": 9,
    "start_time": "2023-09-19T15:21:50.168Z"
   },
   {
    "duration": 47,
    "start_time": "2023-09-19T15:21:55.672Z"
   },
   {
    "duration": 11,
    "start_time": "2023-09-19T15:21:57.103Z"
   },
   {
    "duration": 47,
    "start_time": "2023-09-19T15:22:34.438Z"
   },
   {
    "duration": 5,
    "start_time": "2023-09-19T15:25:26.361Z"
   },
   {
    "duration": 67,
    "start_time": "2023-09-19T15:25:32.853Z"
   },
   {
    "duration": 15,
    "start_time": "2023-09-19T15:25:52.139Z"
   },
   {
    "duration": 80,
    "start_time": "2023-09-19T15:26:05.343Z"
   },
   {
    "duration": 71,
    "start_time": "2023-09-19T15:26:12.630Z"
   },
   {
    "duration": 8,
    "start_time": "2023-09-19T15:26:17.428Z"
   },
   {
    "duration": 64,
    "start_time": "2023-09-19T15:26:30.342Z"
   },
   {
    "duration": 9,
    "start_time": "2023-09-19T15:26:32.826Z"
   },
   {
    "duration": 169,
    "start_time": "2023-09-19T15:26:44.855Z"
   },
   {
    "duration": 69,
    "start_time": "2023-09-19T15:27:11.552Z"
   },
   {
    "duration": 9,
    "start_time": "2023-09-19T15:27:14.743Z"
   },
   {
    "duration": 26,
    "start_time": "2023-09-19T15:27:35.827Z"
   },
   {
    "duration": 23,
    "start_time": "2023-09-19T15:27:46.278Z"
   },
   {
    "duration": 14,
    "start_time": "2023-09-19T15:27:47.086Z"
   },
   {
    "duration": 47,
    "start_time": "2023-09-19T15:28:35.683Z"
   },
   {
    "duration": 8,
    "start_time": "2023-09-19T15:28:40.417Z"
   },
   {
    "duration": 24,
    "start_time": "2023-09-19T15:29:00.239Z"
   },
   {
    "duration": 189,
    "start_time": "2023-09-19T15:29:03.524Z"
   },
   {
    "duration": 16,
    "start_time": "2023-09-19T15:29:06.946Z"
   },
   {
    "duration": 12,
    "start_time": "2023-09-19T15:30:09.607Z"
   },
   {
    "duration": 26,
    "start_time": "2023-09-19T15:31:21.730Z"
   },
   {
    "duration": 11,
    "start_time": "2023-09-19T15:31:23.841Z"
   },
   {
    "duration": 29,
    "start_time": "2023-09-19T15:31:34.905Z"
   },
   {
    "duration": 13,
    "start_time": "2023-09-19T15:31:40.125Z"
   },
   {
    "duration": 13,
    "start_time": "2023-09-19T15:32:40.409Z"
   },
   {
    "duration": 25,
    "start_time": "2023-09-19T15:32:49.043Z"
   },
   {
    "duration": 16,
    "start_time": "2023-09-19T15:32:55.236Z"
   },
   {
    "duration": 17,
    "start_time": "2023-09-19T15:33:04.943Z"
   },
   {
    "duration": 27,
    "start_time": "2023-09-19T15:33:29.336Z"
   },
   {
    "duration": 15,
    "start_time": "2023-09-19T15:33:30.022Z"
   },
   {
    "duration": 46,
    "start_time": "2023-09-19T15:35:21.142Z"
   },
   {
    "duration": 7,
    "start_time": "2023-09-19T15:35:22.781Z"
   },
   {
    "duration": 60,
    "start_time": "2023-09-19T15:36:58.120Z"
   },
   {
    "duration": 42,
    "start_time": "2023-09-19T15:37:17.552Z"
   },
   {
    "duration": 7,
    "start_time": "2023-09-19T15:37:18.050Z"
   },
   {
    "duration": 44,
    "start_time": "2023-09-19T15:37:26.129Z"
   },
   {
    "duration": 6,
    "start_time": "2023-09-19T15:37:27.744Z"
   },
   {
    "duration": 42,
    "start_time": "2023-09-19T15:37:57.334Z"
   },
   {
    "duration": 6,
    "start_time": "2023-09-19T15:37:57.821Z"
   },
   {
    "duration": 91,
    "start_time": "2023-09-19T15:38:07.811Z"
   },
   {
    "duration": 45,
    "start_time": "2023-09-19T15:38:11.837Z"
   },
   {
    "duration": 7,
    "start_time": "2023-09-19T15:38:13.590Z"
   },
   {
    "duration": 46,
    "start_time": "2023-09-19T15:39:08.445Z"
   },
   {
    "duration": 7,
    "start_time": "2023-09-19T15:39:09.330Z"
   },
   {
    "duration": 8,
    "start_time": "2023-09-19T15:39:15.184Z"
   },
   {
    "duration": 47,
    "start_time": "2023-09-19T15:39:27.640Z"
   },
   {
    "duration": 8,
    "start_time": "2023-09-19T15:39:30.264Z"
   },
   {
    "duration": 45,
    "start_time": "2023-09-19T15:39:42.204Z"
   },
   {
    "duration": 51,
    "start_time": "2023-09-19T15:40:03.503Z"
   },
   {
    "duration": 46,
    "start_time": "2023-09-19T15:40:12.247Z"
   },
   {
    "duration": 7,
    "start_time": "2023-09-19T15:40:13.697Z"
   },
   {
    "duration": 44,
    "start_time": "2023-09-19T15:40:26.960Z"
   },
   {
    "duration": 7,
    "start_time": "2023-09-19T15:40:28.274Z"
   },
   {
    "duration": 48,
    "start_time": "2023-09-19T15:41:01.171Z"
   },
   {
    "duration": 8,
    "start_time": "2023-09-19T15:41:01.603Z"
   },
   {
    "duration": 51,
    "start_time": "2023-09-19T15:41:38.046Z"
   },
   {
    "duration": 15,
    "start_time": "2023-09-19T15:43:44.850Z"
   },
   {
    "duration": 78,
    "start_time": "2023-09-19T15:44:05.254Z"
   },
   {
    "duration": 8,
    "start_time": "2023-09-19T15:44:15.978Z"
   },
   {
    "duration": 1466,
    "start_time": "2023-09-19T15:45:29.415Z"
   },
   {
    "duration": 0,
    "start_time": "2023-09-19T15:45:30.883Z"
   },
   {
    "duration": 72,
    "start_time": "2023-09-19T15:45:40.674Z"
   },
   {
    "duration": 69,
    "start_time": "2023-09-19T15:46:29.697Z"
   },
   {
    "duration": 8,
    "start_time": "2023-09-19T15:46:34.288Z"
   },
   {
    "duration": 68,
    "start_time": "2023-09-19T15:46:43.540Z"
   },
   {
    "duration": 8,
    "start_time": "2023-09-19T15:46:44.147Z"
   },
   {
    "duration": 72,
    "start_time": "2023-09-19T15:47:00.681Z"
   },
   {
    "duration": 10,
    "start_time": "2023-09-19T15:47:02.167Z"
   },
   {
    "duration": 1606,
    "start_time": "2023-09-19T15:54:14.311Z"
   },
   {
    "duration": 0,
    "start_time": "2023-09-19T15:54:15.919Z"
   },
   {
    "duration": 1576,
    "start_time": "2023-09-19T15:54:26.110Z"
   },
   {
    "duration": 91,
    "start_time": "2023-09-19T15:54:35.178Z"
   },
   {
    "duration": 9,
    "start_time": "2023-09-19T15:54:37.958Z"
   },
   {
    "duration": 1605,
    "start_time": "2023-09-19T16:02:04.893Z"
   },
   {
    "duration": 0,
    "start_time": "2023-09-19T16:02:06.500Z"
   },
   {
    "duration": 75,
    "start_time": "2023-09-19T16:02:22.014Z"
   },
   {
    "duration": 9,
    "start_time": "2023-09-19T16:02:23.892Z"
   },
   {
    "duration": 74,
    "start_time": "2023-09-19T16:06:27.826Z"
   },
   {
    "duration": 8,
    "start_time": "2023-09-19T16:06:29.580Z"
   },
   {
    "duration": 85,
    "start_time": "2023-09-19T16:06:36.398Z"
   },
   {
    "duration": 8,
    "start_time": "2023-09-19T16:06:36.948Z"
   },
   {
    "duration": 72,
    "start_time": "2023-09-19T16:06:46.023Z"
   },
   {
    "duration": 8,
    "start_time": "2023-09-19T16:06:48.318Z"
   },
   {
    "duration": 90,
    "start_time": "2023-09-19T16:07:31.222Z"
   },
   {
    "duration": 8,
    "start_time": "2023-09-19T16:07:31.730Z"
   },
   {
    "duration": 73,
    "start_time": "2023-09-19T16:07:49.394Z"
   },
   {
    "duration": 8,
    "start_time": "2023-09-19T16:07:50.090Z"
   },
   {
    "duration": 70,
    "start_time": "2023-09-19T16:08:02.757Z"
   },
   {
    "duration": 8,
    "start_time": "2023-09-19T16:08:04.439Z"
   },
   {
    "duration": 74,
    "start_time": "2023-09-19T16:08:08.756Z"
   },
   {
    "duration": 9,
    "start_time": "2023-09-19T16:08:09.324Z"
   },
   {
    "duration": 6,
    "start_time": "2023-09-19T16:08:31.501Z"
   },
   {
    "duration": 73,
    "start_time": "2023-09-19T16:08:41.925Z"
   },
   {
    "duration": 6,
    "start_time": "2023-09-19T16:08:43.640Z"
   },
   {
    "duration": 8,
    "start_time": "2023-09-19T16:08:44.919Z"
   },
   {
    "duration": 11,
    "start_time": "2023-09-19T16:11:01.364Z"
   },
   {
    "duration": 79,
    "start_time": "2023-09-19T16:11:04.852Z"
   },
   {
    "duration": 6,
    "start_time": "2023-09-19T16:11:05.128Z"
   },
   {
    "duration": 8,
    "start_time": "2023-09-19T16:11:06.260Z"
   },
   {
    "duration": 1908,
    "start_time": "2023-09-19T16:11:15.503Z"
   },
   {
    "duration": 0,
    "start_time": "2023-09-19T16:11:17.412Z"
   },
   {
    "duration": 1846,
    "start_time": "2023-09-19T16:12:11.051Z"
   },
   {
    "duration": 0,
    "start_time": "2023-09-19T16:12:12.899Z"
   },
   {
    "duration": 0,
    "start_time": "2023-09-19T16:12:12.900Z"
   },
   {
    "duration": 73,
    "start_time": "2023-09-19T16:12:43.366Z"
   },
   {
    "duration": 6,
    "start_time": "2023-09-19T16:12:45.850Z"
   },
   {
    "duration": 8,
    "start_time": "2023-09-19T16:12:46.709Z"
   },
   {
    "duration": 8,
    "start_time": "2023-09-19T16:12:55.918Z"
   },
   {
    "duration": 9,
    "start_time": "2023-09-19T16:13:08.791Z"
   },
   {
    "duration": 1562,
    "start_time": "2023-09-19T16:13:28.791Z"
   },
   {
    "duration": 1863,
    "start_time": "2023-09-19T16:14:20.269Z"
   },
   {
    "duration": 1424,
    "start_time": "2023-09-19T16:14:43.348Z"
   },
   {
    "duration": 77,
    "start_time": "2023-09-19T16:15:41.476Z"
   },
   {
    "duration": 1534,
    "start_time": "2023-09-19T16:15:52.232Z"
   },
   {
    "duration": 1611,
    "start_time": "2023-09-19T16:16:04.685Z"
   },
   {
    "duration": 1705,
    "start_time": "2023-09-19T16:16:13.049Z"
   },
   {
    "duration": 84,
    "start_time": "2023-09-19T16:17:35.110Z"
   },
   {
    "duration": 84,
    "start_time": "2023-09-19T16:17:46.495Z"
   },
   {
    "duration": 73,
    "start_time": "2023-09-19T16:17:53.498Z"
   },
   {
    "duration": 6,
    "start_time": "2023-09-19T16:17:55.820Z"
   },
   {
    "duration": 10,
    "start_time": "2023-09-19T16:17:56.278Z"
   },
   {
    "duration": 6,
    "start_time": "2023-09-19T16:18:10.986Z"
   },
   {
    "duration": 91,
    "start_time": "2023-09-19T16:18:31.891Z"
   },
   {
    "duration": 4,
    "start_time": "2023-09-19T16:25:55.714Z"
   },
   {
    "duration": 215,
    "start_time": "2023-09-19T16:25:55.720Z"
   },
   {
    "duration": 23,
    "start_time": "2023-09-19T16:25:55.937Z"
   },
   {
    "duration": 42,
    "start_time": "2023-09-19T16:25:55.962Z"
   },
   {
    "duration": 14,
    "start_time": "2023-09-19T16:25:56.006Z"
   },
   {
    "duration": 33,
    "start_time": "2023-09-19T16:25:56.022Z"
   },
   {
    "duration": 86,
    "start_time": "2023-09-19T16:25:56.056Z"
   },
   {
    "duration": 166,
    "start_time": "2023-09-19T16:25:56.144Z"
   },
   {
    "duration": 27,
    "start_time": "2023-09-19T16:25:56.312Z"
   },
   {
    "duration": 34,
    "start_time": "2023-09-19T16:25:56.341Z"
   },
   {
    "duration": 86,
    "start_time": "2023-09-19T16:25:56.376Z"
   },
   {
    "duration": 9,
    "start_time": "2023-09-19T16:25:56.464Z"
   },
   {
    "duration": 62,
    "start_time": "2023-09-19T16:25:56.475Z"
   },
   {
    "duration": 9,
    "start_time": "2023-09-19T16:25:56.539Z"
   },
   {
    "duration": 40,
    "start_time": "2023-09-19T16:25:56.549Z"
   },
   {
    "duration": 82,
    "start_time": "2023-09-19T16:25:56.591Z"
   },
   {
    "duration": 89,
    "start_time": "2023-09-19T16:25:56.675Z"
   },
   {
    "duration": 386,
    "start_time": "2023-09-19T16:25:56.767Z"
   },
   {
    "duration": 31,
    "start_time": "2023-09-19T16:25:57.156Z"
   },
   {
    "duration": 80,
    "start_time": "2023-09-19T16:25:57.190Z"
   },
   {
    "duration": 17,
    "start_time": "2023-09-19T16:25:57.272Z"
   },
   {
    "duration": 29,
    "start_time": "2023-09-19T16:25:57.310Z"
   },
   {
    "duration": 54,
    "start_time": "2023-09-19T16:25:57.341Z"
   },
   {
    "duration": 60,
    "start_time": "2023-09-19T16:25:57.411Z"
   },
   {
    "duration": 66,
    "start_time": "2023-09-19T16:25:57.473Z"
   },
   {
    "duration": 5,
    "start_time": "2023-09-19T16:40:31.209Z"
   },
   {
    "duration": 432,
    "start_time": "2023-09-19T16:40:31.217Z"
   },
   {
    "duration": 24,
    "start_time": "2023-09-19T16:40:31.651Z"
   },
   {
    "duration": 76,
    "start_time": "2023-09-19T16:40:31.678Z"
   },
   {
    "duration": 64,
    "start_time": "2023-09-19T16:40:31.757Z"
   },
   {
    "duration": 44,
    "start_time": "2023-09-19T16:40:31.823Z"
   },
   {
    "duration": 107,
    "start_time": "2023-09-19T16:40:31.869Z"
   },
   {
    "duration": 151,
    "start_time": "2023-09-19T16:40:31.977Z"
   },
   {
    "duration": 34,
    "start_time": "2023-09-19T16:40:32.130Z"
   },
   {
    "duration": 60,
    "start_time": "2023-09-19T16:40:32.167Z"
   },
   {
    "duration": 101,
    "start_time": "2023-09-19T16:40:32.229Z"
   },
   {
    "duration": 13,
    "start_time": "2023-09-19T16:40:32.332Z"
   },
   {
    "duration": 65,
    "start_time": "2023-09-19T16:40:32.348Z"
   },
   {
    "duration": 12,
    "start_time": "2023-09-19T16:40:32.416Z"
   },
   {
    "duration": 33,
    "start_time": "2023-09-19T16:40:32.432Z"
   },
   {
    "duration": 142,
    "start_time": "2023-09-19T16:40:32.468Z"
   },
   {
    "duration": 103,
    "start_time": "2023-09-19T16:40:32.613Z"
   },
   {
    "duration": 578,
    "start_time": "2023-09-19T16:40:32.720Z"
   },
   {
    "duration": 39,
    "start_time": "2023-09-19T16:40:33.300Z"
   },
   {
    "duration": 78,
    "start_time": "2023-09-19T16:40:33.341Z"
   },
   {
    "duration": 17,
    "start_time": "2023-09-19T16:40:33.421Z"
   },
   {
    "duration": 39,
    "start_time": "2023-09-19T16:40:33.440Z"
   },
   {
    "duration": 72,
    "start_time": "2023-09-19T16:40:33.509Z"
   },
   {
    "duration": 94,
    "start_time": "2023-09-19T16:40:33.583Z"
   },
   {
    "duration": 81,
    "start_time": "2023-09-19T16:40:33.680Z"
   },
   {
    "duration": 102,
    "start_time": "2023-09-19T16:40:33.763Z"
   },
   {
    "duration": 120,
    "start_time": "2023-09-19T16:40:36.028Z"
   },
   {
    "duration": 70,
    "start_time": "2023-09-19T16:40:40.559Z"
   },
   {
    "duration": 14,
    "start_time": "2023-09-19T16:40:40.930Z"
   },
   {
    "duration": 75,
    "start_time": "2023-09-19T16:50:12.359Z"
   },
   {
    "duration": 13,
    "start_time": "2023-09-19T16:50:13.513Z"
   },
   {
    "duration": 5,
    "start_time": "2023-09-19T16:50:45.616Z"
   },
   {
    "duration": 11,
    "start_time": "2023-09-19T16:50:48.827Z"
   },
   {
    "duration": 10,
    "start_time": "2023-09-19T16:51:17.756Z"
   },
   {
    "duration": 4,
    "start_time": "2023-09-19T16:51:24.870Z"
   },
   {
    "duration": 4,
    "start_time": "2023-09-19T16:51:27.859Z"
   },
   {
    "duration": 4,
    "start_time": "2023-09-19T17:06:27.069Z"
   },
   {
    "duration": 8,
    "start_time": "2023-09-19T17:06:47.582Z"
   },
   {
    "duration": 13,
    "start_time": "2023-09-19T17:12:46.698Z"
   },
   {
    "duration": 10,
    "start_time": "2023-09-19T17:13:02.923Z"
   },
   {
    "duration": 11,
    "start_time": "2023-09-19T17:13:10.119Z"
   },
   {
    "duration": 19,
    "start_time": "2023-09-19T17:13:14.787Z"
   },
   {
    "duration": 6,
    "start_time": "2023-09-19T17:13:24.990Z"
   },
   {
    "duration": 7,
    "start_time": "2023-09-19T17:35:52.243Z"
   },
   {
    "duration": 6,
    "start_time": "2023-09-19T17:35:58.786Z"
   },
   {
    "duration": 187,
    "start_time": "2023-09-19T17:36:10.622Z"
   },
   {
    "duration": 6,
    "start_time": "2023-09-19T17:36:25.686Z"
   },
   {
    "duration": 13,
    "start_time": "2023-09-19T17:37:04.418Z"
   },
   {
    "duration": 16,
    "start_time": "2023-09-19T17:37:49.757Z"
   },
   {
    "duration": 7,
    "start_time": "2023-09-19T17:38:28.704Z"
   },
   {
    "duration": 15,
    "start_time": "2023-09-19T17:38:29.177Z"
   },
   {
    "duration": 54,
    "start_time": "2023-09-19T17:39:45.082Z"
   },
   {
    "duration": 72,
    "start_time": "2023-09-19T17:39:55.204Z"
   },
   {
    "duration": 13,
    "start_time": "2023-09-19T17:39:59.078Z"
   },
   {
    "duration": 18,
    "start_time": "2023-09-19T17:40:42.557Z"
   },
   {
    "duration": 76,
    "start_time": "2023-09-19T17:41:00.861Z"
   },
   {
    "duration": 24,
    "start_time": "2023-09-19T17:41:12.495Z"
   },
   {
    "duration": 79,
    "start_time": "2023-09-19T17:41:26.849Z"
   },
   {
    "duration": 70,
    "start_time": "2023-09-19T17:41:39.375Z"
   },
   {
    "duration": 54,
    "start_time": "2023-09-19T17:41:43.191Z"
   },
   {
    "duration": 73,
    "start_time": "2023-09-19T17:41:52.380Z"
   },
   {
    "duration": 47,
    "start_time": "2023-09-19T17:42:06.912Z"
   },
   {
    "duration": 80,
    "start_time": "2023-09-19T17:42:38.560Z"
   },
   {
    "duration": 69,
    "start_time": "2023-09-19T17:42:41.174Z"
   },
   {
    "duration": 112,
    "start_time": "2023-09-19T17:42:44.946Z"
   },
   {
    "duration": 75,
    "start_time": "2023-09-19T17:42:50.818Z"
   },
   {
    "duration": 70,
    "start_time": "2023-09-19T17:43:16.745Z"
   },
   {
    "duration": 70,
    "start_time": "2023-09-19T17:43:20.845Z"
   },
   {
    "duration": 77,
    "start_time": "2023-09-19T17:43:25.378Z"
   },
   {
    "duration": 77,
    "start_time": "2023-09-19T17:43:36.736Z"
   },
   {
    "duration": 80,
    "start_time": "2023-09-19T17:43:41.399Z"
   },
   {
    "duration": 73,
    "start_time": "2023-09-19T17:43:48.760Z"
   },
   {
    "duration": 78,
    "start_time": "2023-09-19T17:43:51.470Z"
   },
   {
    "duration": 72,
    "start_time": "2023-09-19T17:44:03.272Z"
   },
   {
    "duration": 79,
    "start_time": "2023-09-19T17:44:07.685Z"
   },
   {
    "duration": 77,
    "start_time": "2023-09-19T17:44:21.503Z"
   },
   {
    "duration": 76,
    "start_time": "2023-09-19T17:44:27.086Z"
   },
   {
    "duration": 80,
    "start_time": "2023-09-19T17:44:49.013Z"
   },
   {
    "duration": 82,
    "start_time": "2023-09-19T17:44:52.630Z"
   },
   {
    "duration": 71,
    "start_time": "2023-09-19T17:45:19.301Z"
   },
   {
    "duration": 71,
    "start_time": "2023-09-19T17:45:26.058Z"
   },
   {
    "duration": 73,
    "start_time": "2023-09-19T17:45:33.013Z"
   },
   {
    "duration": 70,
    "start_time": "2023-09-19T17:45:39.149Z"
   },
   {
    "duration": 78,
    "start_time": "2023-09-19T17:45:45.430Z"
   },
   {
    "duration": 81,
    "start_time": "2023-09-19T17:45:50.876Z"
   },
   {
    "duration": 75,
    "start_time": "2023-09-19T17:46:01.421Z"
   },
   {
    "duration": 75,
    "start_time": "2023-09-19T17:46:04.906Z"
   },
   {
    "duration": 76,
    "start_time": "2023-09-19T17:46:08.882Z"
   },
   {
    "duration": 71,
    "start_time": "2023-09-19T17:46:13.166Z"
   },
   {
    "duration": 71,
    "start_time": "2023-09-19T17:46:26.370Z"
   },
   {
    "duration": 66,
    "start_time": "2023-09-19T17:46:32.883Z"
   },
   {
    "duration": 67,
    "start_time": "2023-09-19T17:47:04.249Z"
   },
   {
    "duration": 71,
    "start_time": "2023-09-19T17:47:08.128Z"
   },
   {
    "duration": 69,
    "start_time": "2023-09-19T17:47:16.116Z"
   },
   {
    "duration": 70,
    "start_time": "2023-09-19T17:47:30.753Z"
   },
   {
    "duration": 25,
    "start_time": "2023-09-19T17:47:55.457Z"
   },
   {
    "duration": 81,
    "start_time": "2023-09-19T17:48:06.095Z"
   },
   {
    "duration": 90,
    "start_time": "2023-09-19T17:49:33.280Z"
   },
   {
    "duration": 88,
    "start_time": "2023-09-19T17:49:41.080Z"
   },
   {
    "duration": 95,
    "start_time": "2023-09-19T17:50:00.740Z"
   },
   {
    "duration": 90,
    "start_time": "2023-09-19T17:50:06.742Z"
   },
   {
    "duration": 86,
    "start_time": "2023-09-19T17:50:20.363Z"
   },
   {
    "duration": 92,
    "start_time": "2023-09-19T17:50:24.542Z"
   },
   {
    "duration": 82,
    "start_time": "2023-09-19T17:50:33.603Z"
   },
   {
    "duration": 94,
    "start_time": "2023-09-19T17:50:39.053Z"
   },
   {
    "duration": 83,
    "start_time": "2023-09-19T17:50:49.625Z"
   },
   {
    "duration": 83,
    "start_time": "2023-09-19T17:50:55.016Z"
   },
   {
    "duration": 84,
    "start_time": "2023-09-19T17:51:01.603Z"
   },
   {
    "duration": 92,
    "start_time": "2023-09-19T17:51:05.958Z"
   },
   {
    "duration": 91,
    "start_time": "2023-09-19T17:51:12.144Z"
   },
   {
    "duration": 87,
    "start_time": "2023-09-19T17:51:16.012Z"
   },
   {
    "duration": 86,
    "start_time": "2023-09-19T17:51:20.502Z"
   },
   {
    "duration": 79,
    "start_time": "2023-09-19T17:51:29.521Z"
   },
   {
    "duration": 90,
    "start_time": "2023-09-19T17:51:33.539Z"
   },
   {
    "duration": 13,
    "start_time": "2023-09-19T17:51:53.312Z"
   },
   {
    "duration": 92,
    "start_time": "2023-09-19T17:52:29.373Z"
   },
   {
    "duration": 88,
    "start_time": "2023-09-19T17:52:37.664Z"
   },
   {
    "duration": 10,
    "start_time": "2023-09-19T17:53:21.192Z"
   },
   {
    "duration": 12,
    "start_time": "2023-09-19T17:53:28.807Z"
   },
   {
    "duration": 5,
    "start_time": "2023-09-19T17:53:37.884Z"
   },
   {
    "duration": 13,
    "start_time": "2023-09-19T17:53:41.216Z"
   },
   {
    "duration": 11,
    "start_time": "2023-09-19T17:53:44.199Z"
   },
   {
    "duration": 18,
    "start_time": "2023-09-19T17:53:45.924Z"
   },
   {
    "duration": 6,
    "start_time": "2023-09-19T17:56:15.473Z"
   },
   {
    "duration": 15,
    "start_time": "2023-09-19T17:56:17.283Z"
   },
   {
    "duration": 5,
    "start_time": "2023-09-19T17:56:29.080Z"
   },
   {
    "duration": 51,
    "start_time": "2023-09-19T17:56:29.987Z"
   },
   {
    "duration": 262,
    "start_time": "2023-09-19T18:00:04.667Z"
   },
   {
    "duration": 246,
    "start_time": "2023-09-19T18:03:51.904Z"
   },
   {
    "duration": 253,
    "start_time": "2023-09-19T18:04:38.903Z"
   },
   {
    "duration": 79,
    "start_time": "2023-09-19T18:04:59.349Z"
   },
   {
    "duration": 20,
    "start_time": "2023-09-19T18:07:26.486Z"
   },
   {
    "duration": 13,
    "start_time": "2023-09-19T18:07:45.250Z"
   },
   {
    "duration": 208,
    "start_time": "2023-09-19T18:08:09.233Z"
   },
   {
    "duration": 13,
    "start_time": "2023-09-19T18:12:35.928Z"
   },
   {
    "duration": 12,
    "start_time": "2023-09-19T18:12:41.819Z"
   },
   {
    "duration": 102,
    "start_time": "2023-09-19T18:12:48.226Z"
   },
   {
    "duration": 5,
    "start_time": "2023-09-19T18:12:50.663Z"
   },
   {
    "duration": 12,
    "start_time": "2023-09-19T18:12:51.656Z"
   },
   {
    "duration": 16,
    "start_time": "2023-09-19T18:12:58.952Z"
   },
   {
    "duration": 6,
    "start_time": "2023-09-19T18:13:01.673Z"
   },
   {
    "duration": 53,
    "start_time": "2023-09-19T18:13:02.471Z"
   },
   {
    "duration": 33,
    "start_time": "2023-09-19T18:13:03.823Z"
   },
   {
    "duration": 189,
    "start_time": "2023-09-19T18:13:23.437Z"
   },
   {
    "duration": 178,
    "start_time": "2023-09-19T18:13:29.626Z"
   },
   {
    "duration": 183,
    "start_time": "2023-09-19T18:13:34.321Z"
   },
   {
    "duration": 1650,
    "start_time": "2023-09-19T18:13:42.594Z"
   },
   {
    "duration": 1655,
    "start_time": "2023-09-19T18:13:56.031Z"
   },
   {
    "duration": 12,
    "start_time": "2023-09-19T18:14:10.612Z"
   },
   {
    "duration": 164,
    "start_time": "2023-09-19T18:14:11.902Z"
   },
   {
    "duration": 578,
    "start_time": "2023-09-19T18:21:24.792Z"
   },
   {
    "duration": 4,
    "start_time": "2023-09-19T18:33:07.209Z"
   },
   {
    "duration": 3,
    "start_time": "2023-09-19T18:33:24.933Z"
   },
   {
    "duration": 4,
    "start_time": "2023-09-19T18:33:47.876Z"
   },
   {
    "duration": 26,
    "start_time": "2023-09-19T18:37:55.407Z"
   },
   {
    "duration": 26,
    "start_time": "2023-09-19T18:38:20.976Z"
   },
   {
    "duration": 90,
    "start_time": "2023-09-19T18:39:08.345Z"
   },
   {
    "duration": 25,
    "start_time": "2023-09-19T18:39:17.173Z"
   },
   {
    "duration": 24,
    "start_time": "2023-09-19T18:39:28.200Z"
   },
   {
    "duration": 25,
    "start_time": "2023-09-19T18:40:45.391Z"
   },
   {
    "duration": 93,
    "start_time": "2023-09-19T18:40:57.701Z"
   },
   {
    "duration": 20,
    "start_time": "2023-09-19T18:41:00.628Z"
   },
   {
    "duration": 7,
    "start_time": "2023-09-19T18:41:23.300Z"
   },
   {
    "duration": 19,
    "start_time": "2023-09-19T18:42:29.893Z"
   },
   {
    "duration": 79,
    "start_time": "2023-09-19T18:43:08.249Z"
   },
   {
    "duration": 4,
    "start_time": "2023-09-19T18:43:14.324Z"
   },
   {
    "duration": 22,
    "start_time": "2023-09-19T18:43:17.601Z"
   },
   {
    "duration": 4,
    "start_time": "2023-09-19T18:43:38.348Z"
   },
   {
    "duration": 4,
    "start_time": "2023-09-19T18:44:06.505Z"
   },
   {
    "duration": 3,
    "start_time": "2023-09-19T18:44:28.456Z"
   },
   {
    "duration": 4,
    "start_time": "2023-09-19T18:44:31.445Z"
   },
   {
    "duration": 5,
    "start_time": "2023-09-19T18:44:52.536Z"
   },
   {
    "duration": 20,
    "start_time": "2023-09-19T18:45:21.760Z"
   },
   {
    "duration": 83,
    "start_time": "2023-09-19T18:45:43.016Z"
   },
   {
    "duration": 102,
    "start_time": "2023-09-19T18:45:47.637Z"
   },
   {
    "duration": 71,
    "start_time": "2023-09-19T18:45:52.951Z"
   },
   {
    "duration": 21,
    "start_time": "2023-09-19T18:45:56.196Z"
   },
   {
    "duration": 21,
    "start_time": "2023-09-19T18:46:38.975Z"
   },
   {
    "duration": 81,
    "start_time": "2023-09-19T18:46:52.854Z"
   },
   {
    "duration": 4,
    "start_time": "2023-09-19T18:46:59.034Z"
   },
   {
    "duration": 20,
    "start_time": "2023-09-19T18:47:03.067Z"
   },
   {
    "duration": 21,
    "start_time": "2023-09-19T18:47:11.152Z"
   },
   {
    "duration": 20,
    "start_time": "2023-09-19T18:47:23.168Z"
   },
   {
    "duration": 4,
    "start_time": "2023-09-19T18:48:53.263Z"
   },
   {
    "duration": 4,
    "start_time": "2023-09-19T18:48:55.224Z"
   },
   {
    "duration": 433,
    "start_time": "2023-09-19T18:48:55.231Z"
   },
   {
    "duration": 22,
    "start_time": "2023-09-19T18:48:55.666Z"
   },
   {
    "duration": 10,
    "start_time": "2023-09-19T18:48:55.689Z"
   },
   {
    "duration": 9,
    "start_time": "2023-09-19T18:48:55.701Z"
   },
   {
    "duration": 18,
    "start_time": "2023-09-19T18:48:55.711Z"
   },
   {
    "duration": 86,
    "start_time": "2023-09-19T18:48:55.731Z"
   },
   {
    "duration": 160,
    "start_time": "2023-09-19T18:48:55.819Z"
   },
   {
    "duration": 34,
    "start_time": "2023-09-19T18:48:55.981Z"
   },
   {
    "duration": 22,
    "start_time": "2023-09-19T18:48:56.017Z"
   },
   {
    "duration": 90,
    "start_time": "2023-09-19T18:48:56.040Z"
   },
   {
    "duration": 10,
    "start_time": "2023-09-19T18:48:56.132Z"
   },
   {
    "duration": 47,
    "start_time": "2023-09-19T18:48:56.144Z"
   },
   {
    "duration": 9,
    "start_time": "2023-09-19T18:48:56.208Z"
   },
   {
    "duration": 21,
    "start_time": "2023-09-19T18:48:56.219Z"
   },
   {
    "duration": 84,
    "start_time": "2023-09-19T18:48:56.242Z"
   },
   {
    "duration": 91,
    "start_time": "2023-09-19T18:48:56.328Z"
   },
   {
    "duration": 403,
    "start_time": "2023-09-19T18:48:56.421Z"
   },
   {
    "duration": 31,
    "start_time": "2023-09-19T18:48:56.825Z"
   },
   {
    "duration": 82,
    "start_time": "2023-09-19T18:48:56.857Z"
   },
   {
    "duration": 20,
    "start_time": "2023-09-19T18:48:56.941Z"
   },
   {
    "duration": 8,
    "start_time": "2023-09-19T18:48:56.963Z"
   },
   {
    "duration": 54,
    "start_time": "2023-09-19T18:48:56.973Z"
   },
   {
    "duration": 49,
    "start_time": "2023-09-19T18:48:57.030Z"
   },
   {
    "duration": 72,
    "start_time": "2023-09-19T18:48:57.081Z"
   },
   {
    "duration": 64,
    "start_time": "2023-09-19T18:48:57.155Z"
   },
   {
    "duration": 113,
    "start_time": "2023-09-19T18:48:57.222Z"
   },
   {
    "duration": 12,
    "start_time": "2023-09-19T18:48:57.337Z"
   },
   {
    "duration": 7,
    "start_time": "2023-09-19T18:48:57.352Z"
   },
   {
    "duration": 75,
    "start_time": "2023-09-19T18:48:57.360Z"
   },
   {
    "duration": 199,
    "start_time": "2023-09-19T18:48:57.437Z"
   },
   {
    "duration": 197,
    "start_time": "2023-09-19T18:48:57.638Z"
   },
   {
    "duration": 200,
    "start_time": "2023-09-19T18:48:57.837Z"
   },
   {
    "duration": 13,
    "start_time": "2023-09-19T18:48:58.039Z"
   },
   {
    "duration": 176,
    "start_time": "2023-09-19T18:48:58.054Z"
   },
   {
    "duration": 557,
    "start_time": "2023-09-19T18:48:58.232Z"
   },
   {
    "duration": 1569,
    "start_time": "2023-09-19T20:30:32.785Z"
   },
   {
    "duration": 700,
    "start_time": "2023-09-19T20:30:34.356Z"
   },
   {
    "duration": 37,
    "start_time": "2023-09-19T20:30:35.058Z"
   },
   {
    "duration": 14,
    "start_time": "2023-09-19T20:30:35.098Z"
   },
   {
    "duration": 7,
    "start_time": "2023-09-19T20:30:35.114Z"
   },
   {
    "duration": 18,
    "start_time": "2023-09-19T20:30:35.123Z"
   },
   {
    "duration": 122,
    "start_time": "2023-09-19T20:30:35.143Z"
   },
   {
    "duration": 175,
    "start_time": "2023-09-19T20:30:35.267Z"
   },
   {
    "duration": 27,
    "start_time": "2023-09-19T20:30:35.444Z"
   },
   {
    "duration": 26,
    "start_time": "2023-09-19T20:30:35.480Z"
   },
   {
    "duration": 89,
    "start_time": "2023-09-19T20:30:35.508Z"
   },
   {
    "duration": 17,
    "start_time": "2023-09-19T20:30:35.599Z"
   },
   {
    "duration": 47,
    "start_time": "2023-09-19T20:30:35.617Z"
   },
   {
    "duration": 16,
    "start_time": "2023-09-19T20:30:35.666Z"
   },
   {
    "duration": 28,
    "start_time": "2023-09-19T20:30:35.684Z"
   },
   {
    "duration": 97,
    "start_time": "2023-09-19T20:30:35.714Z"
   },
   {
    "duration": 102,
    "start_time": "2023-09-19T20:30:35.813Z"
   },
   {
    "duration": 419,
    "start_time": "2023-09-19T20:30:35.917Z"
   },
   {
    "duration": 52,
    "start_time": "2023-09-19T20:30:36.338Z"
   },
   {
    "duration": 64,
    "start_time": "2023-09-19T20:30:36.393Z"
   },
   {
    "duration": 51,
    "start_time": "2023-09-19T20:30:36.458Z"
   },
   {
    "duration": 43,
    "start_time": "2023-09-19T20:30:36.511Z"
   },
   {
    "duration": 48,
    "start_time": "2023-09-19T20:30:36.556Z"
   },
   {
    "duration": 63,
    "start_time": "2023-09-19T20:30:36.606Z"
   },
   {
    "duration": 87,
    "start_time": "2023-09-19T20:30:36.672Z"
   },
   {
    "duration": 88,
    "start_time": "2023-09-19T20:30:36.761Z"
   },
   {
    "duration": 138,
    "start_time": "2023-09-19T20:30:36.851Z"
   },
   {
    "duration": 15,
    "start_time": "2023-09-19T20:30:36.994Z"
   },
   {
    "duration": 8,
    "start_time": "2023-09-19T20:30:37.011Z"
   },
   {
    "duration": 199,
    "start_time": "2023-09-19T20:30:37.020Z"
   },
   {
    "duration": 0,
    "start_time": "2023-09-19T20:30:37.221Z"
   },
   {
    "duration": 0,
    "start_time": "2023-09-19T20:30:37.223Z"
   },
   {
    "duration": 0,
    "start_time": "2023-09-19T20:30:37.225Z"
   },
   {
    "duration": 0,
    "start_time": "2023-09-19T20:30:37.227Z"
   },
   {
    "duration": 0,
    "start_time": "2023-09-19T20:30:37.228Z"
   },
   {
    "duration": 0,
    "start_time": "2023-09-19T20:30:37.230Z"
   },
   {
    "duration": 67,
    "start_time": "2023-09-20T03:02:15.678Z"
   },
   {
    "duration": 8,
    "start_time": "2023-09-20T03:02:22.023Z"
   },
   {
    "duration": 1466,
    "start_time": "2023-09-20T03:02:26.561Z"
   },
   {
    "duration": 542,
    "start_time": "2023-09-20T03:02:28.029Z"
   },
   {
    "duration": 25,
    "start_time": "2023-09-20T03:02:28.573Z"
   },
   {
    "duration": 13,
    "start_time": "2023-09-20T03:02:28.600Z"
   },
   {
    "duration": 9,
    "start_time": "2023-09-20T03:02:28.615Z"
   },
   {
    "duration": 27,
    "start_time": "2023-09-20T03:02:28.625Z"
   },
   {
    "duration": 94,
    "start_time": "2023-09-20T03:02:28.654Z"
   },
   {
    "duration": 172,
    "start_time": "2023-09-20T03:02:28.749Z"
   },
   {
    "duration": 32,
    "start_time": "2023-09-20T03:02:28.923Z"
   },
   {
    "duration": 72,
    "start_time": "2023-09-20T03:02:28.957Z"
   },
   {
    "duration": 93,
    "start_time": "2023-09-20T03:02:29.032Z"
   },
   {
    "duration": 10,
    "start_time": "2023-09-20T03:02:29.127Z"
   },
   {
    "duration": 62,
    "start_time": "2023-09-20T03:02:29.139Z"
   },
   {
    "duration": 7,
    "start_time": "2023-09-20T03:02:29.204Z"
   },
   {
    "duration": 44,
    "start_time": "2023-09-20T03:02:29.213Z"
   },
   {
    "duration": 65,
    "start_time": "2023-09-20T03:02:29.259Z"
   },
   {
    "duration": 101,
    "start_time": "2023-09-20T03:02:29.326Z"
   },
   {
    "duration": 72,
    "start_time": "2023-09-20T03:02:31.777Z"
   },
   {
    "duration": 394,
    "start_time": "2023-09-20T03:02:32.110Z"
   },
   {
    "duration": 6,
    "start_time": "2023-09-20T03:05:06.955Z"
   },
   {
    "duration": 89,
    "start_time": "2023-09-20T03:05:09.039Z"
   },
   {
    "duration": 5,
    "start_time": "2023-09-20T03:05:15.215Z"
   },
   {
    "duration": 219,
    "start_time": "2023-09-20T03:05:15.223Z"
   },
   {
    "duration": 23,
    "start_time": "2023-09-20T03:05:15.444Z"
   },
   {
    "duration": 55,
    "start_time": "2023-09-20T03:05:15.469Z"
   },
   {
    "duration": 10,
    "start_time": "2023-09-20T03:05:15.525Z"
   },
   {
    "duration": 16,
    "start_time": "2023-09-20T03:05:15.537Z"
   },
   {
    "duration": 76,
    "start_time": "2023-09-20T03:05:15.554Z"
   },
   {
    "duration": 170,
    "start_time": "2023-09-20T03:05:15.631Z"
   },
   {
    "duration": 46,
    "start_time": "2023-09-20T03:05:15.803Z"
   },
   {
    "duration": 22,
    "start_time": "2023-09-20T03:05:15.852Z"
   },
   {
    "duration": 96,
    "start_time": "2023-09-20T03:05:15.875Z"
   },
   {
    "duration": 10,
    "start_time": "2023-09-20T03:05:15.973Z"
   },
   {
    "duration": 64,
    "start_time": "2023-09-20T03:05:15.984Z"
   },
   {
    "duration": 7,
    "start_time": "2023-09-20T03:05:16.050Z"
   },
   {
    "duration": 23,
    "start_time": "2023-09-20T03:05:16.059Z"
   },
   {
    "duration": 113,
    "start_time": "2023-09-20T03:05:16.084Z"
   },
   {
    "duration": 87,
    "start_time": "2023-09-20T03:05:16.199Z"
   },
   {
    "duration": 403,
    "start_time": "2023-09-20T03:05:16.288Z"
   },
   {
    "duration": 32,
    "start_time": "2023-09-20T03:05:16.692Z"
   },
   {
    "duration": 224,
    "start_time": "2023-09-20T03:05:16.725Z"
   },
   {
    "duration": 22,
    "start_time": "2023-09-20T03:05:16.951Z"
   },
   {
    "duration": 8,
    "start_time": "2023-09-20T03:05:16.974Z"
   },
   {
    "duration": 72,
    "start_time": "2023-09-20T03:05:16.984Z"
   },
   {
    "duration": 96,
    "start_time": "2023-09-20T03:05:17.058Z"
   },
   {
    "duration": 113,
    "start_time": "2023-09-20T03:05:17.155Z"
   },
   {
    "duration": 78,
    "start_time": "2023-09-20T03:05:17.270Z"
   },
   {
    "duration": 112,
    "start_time": "2023-09-20T03:05:17.350Z"
   },
   {
    "duration": 12,
    "start_time": "2023-09-20T03:05:17.465Z"
   },
   {
    "duration": 6,
    "start_time": "2023-09-20T03:05:22.963Z"
   },
   {
    "duration": 57,
    "start_time": "2023-09-20T03:05:23.368Z"
   },
   {
    "duration": 6,
    "start_time": "2023-09-20T03:06:24.727Z"
   },
   {
    "duration": 64,
    "start_time": "2023-09-20T03:06:25.306Z"
   },
   {
    "duration": 5,
    "start_time": "2023-09-20T03:06:43.392Z"
   },
   {
    "duration": 57,
    "start_time": "2023-09-20T03:06:43.937Z"
   },
   {
    "duration": 6,
    "start_time": "2023-09-20T03:07:00.110Z"
   },
   {
    "duration": 51,
    "start_time": "2023-09-20T03:07:01.609Z"
   },
   {
    "duration": 380,
    "start_time": "2023-09-20T03:10:11.730Z"
   },
   {
    "duration": 394,
    "start_time": "2023-09-20T03:10:45.637Z"
   },
   {
    "duration": 308,
    "start_time": "2023-09-20T03:11:19.027Z"
   },
   {
    "duration": 398,
    "start_time": "2023-09-20T03:12:03.003Z"
   },
   {
    "duration": 387,
    "start_time": "2023-09-20T03:12:28.363Z"
   },
   {
    "duration": 390,
    "start_time": "2023-09-20T03:12:42.418Z"
   },
   {
    "duration": 188,
    "start_time": "2023-09-20T03:14:25.421Z"
   },
   {
    "duration": 183,
    "start_time": "2023-09-20T03:14:28.290Z"
   },
   {
    "duration": 192,
    "start_time": "2023-09-20T03:14:28.649Z"
   },
   {
    "duration": 12,
    "start_time": "2023-09-20T03:14:30.850Z"
   },
   {
    "duration": 52,
    "start_time": "2023-09-20T03:14:31.043Z"
   },
   {
    "duration": 415,
    "start_time": "2023-09-20T03:14:33.498Z"
   },
   {
    "duration": 190,
    "start_time": "2023-09-20T03:14:55.361Z"
   },
   {
    "duration": 191,
    "start_time": "2023-09-20T03:15:00.604Z"
   },
   {
    "duration": 206,
    "start_time": "2023-09-20T03:15:05.094Z"
   },
   {
    "duration": 11,
    "start_time": "2023-09-20T03:15:07.332Z"
   },
   {
    "duration": 52,
    "start_time": "2023-09-20T03:15:08.890Z"
   },
   {
    "duration": 7,
    "start_time": "2023-09-20T03:16:03.830Z"
   },
   {
    "duration": 52,
    "start_time": "2023-09-20T03:16:04.568Z"
   },
   {
    "duration": 193,
    "start_time": "2023-09-20T03:16:07.168Z"
   },
   {
    "duration": 186,
    "start_time": "2023-09-20T03:16:10.513Z"
   },
   {
    "duration": 190,
    "start_time": "2023-09-20T03:16:11.656Z"
   },
   {
    "duration": 11,
    "start_time": "2023-09-20T03:16:13.034Z"
   },
   {
    "duration": 51,
    "start_time": "2023-09-20T03:16:14.169Z"
   },
   {
    "duration": 54,
    "start_time": "2023-09-20T03:18:10.370Z"
   },
   {
    "duration": 426,
    "start_time": "2023-09-20T03:18:16.462Z"
   },
   {
    "duration": 6,
    "start_time": "2023-09-20T03:18:39.933Z"
   },
   {
    "duration": 49,
    "start_time": "2023-09-20T03:18:40.167Z"
   },
   {
    "duration": 193,
    "start_time": "2023-09-20T03:18:41.321Z"
   },
   {
    "duration": 189,
    "start_time": "2023-09-20T03:18:43.261Z"
   },
   {
    "duration": 215,
    "start_time": "2023-09-20T03:18:44.417Z"
   },
   {
    "duration": 11,
    "start_time": "2023-09-20T03:18:45.743Z"
   },
   {
    "duration": 50,
    "start_time": "2023-09-20T03:18:47.051Z"
   },
   {
    "duration": 411,
    "start_time": "2023-09-20T03:19:02.494Z"
   },
   {
    "duration": 6,
    "start_time": "2023-09-20T03:20:49.044Z"
   },
   {
    "duration": 57,
    "start_time": "2023-09-20T03:20:49.290Z"
   },
   {
    "duration": 5,
    "start_time": "2023-09-20T03:20:56.577Z"
   },
   {
    "duration": 56,
    "start_time": "2023-09-20T03:20:56.890Z"
   },
   {
    "duration": 6,
    "start_time": "2023-09-20T03:21:10.523Z"
   },
   {
    "duration": 64,
    "start_time": "2023-09-20T03:21:10.959Z"
   },
   {
    "duration": 187,
    "start_time": "2023-09-20T03:21:13.499Z"
   },
   {
    "duration": 189,
    "start_time": "2023-09-20T03:21:14.665Z"
   },
   {
    "duration": 219,
    "start_time": "2023-09-20T03:21:15.149Z"
   },
   {
    "duration": 11,
    "start_time": "2023-09-20T03:21:15.854Z"
   },
   {
    "duration": 69,
    "start_time": "2023-09-20T03:21:16.142Z"
   },
   {
    "duration": 112,
    "start_time": "2023-09-20T03:24:34.941Z"
   },
   {
    "duration": 19,
    "start_time": "2023-09-20T03:24:40.785Z"
   },
   {
    "duration": 51,
    "start_time": "2023-09-20T03:24:53.807Z"
   },
   {
    "duration": 108,
    "start_time": "2023-09-20T03:32:44.058Z"
   },
   {
    "duration": 104,
    "start_time": "2023-09-20T03:32:56.303Z"
   },
   {
    "duration": 101,
    "start_time": "2023-09-20T03:33:00.870Z"
   },
   {
    "duration": 6,
    "start_time": "2023-09-20T03:36:20.579Z"
   },
   {
    "duration": 3917,
    "start_time": "2023-09-20T03:36:21.925Z"
   },
   {
    "duration": 6,
    "start_time": "2023-09-20T03:36:59.623Z"
   },
   {
    "duration": 32,
    "start_time": "2023-09-20T03:37:00.529Z"
   },
   {
    "duration": 113,
    "start_time": "2023-09-20T03:37:17.403Z"
   },
   {
    "duration": 13,
    "start_time": "2023-09-20T03:37:19.305Z"
   },
   {
    "duration": 6,
    "start_time": "2023-09-20T03:37:21.178Z"
   },
   {
    "duration": 36,
    "start_time": "2023-09-20T03:37:22.136Z"
   },
   {
    "duration": 6,
    "start_time": "2023-09-20T03:39:08.658Z"
   },
   {
    "duration": 50,
    "start_time": "2023-09-20T03:39:09.191Z"
   },
   {
    "duration": 188,
    "start_time": "2023-09-20T03:39:18.549Z"
   },
   {
    "duration": 179,
    "start_time": "2023-09-20T03:39:19.523Z"
   },
   {
    "duration": 197,
    "start_time": "2023-09-20T03:39:19.933Z"
   },
   {
    "duration": 95,
    "start_time": "2023-09-20T03:39:20.619Z"
   },
   {
    "duration": 1965,
    "start_time": "2023-09-20T03:39:20.729Z"
   },
   {
    "duration": 100,
    "start_time": "2023-09-20T03:42:17.370Z"
   },
   {
    "duration": 154,
    "start_time": "2023-09-20T03:42:56.643Z"
   },
   {
    "duration": 88,
    "start_time": "2023-09-20T03:43:09.781Z"
   },
   {
    "duration": 93,
    "start_time": "2023-09-20T03:43:12.271Z"
   },
   {
    "duration": 213,
    "start_time": "2023-09-20T03:43:43.767Z"
   },
   {
    "duration": 211,
    "start_time": "2023-09-20T03:43:50.384Z"
   },
   {
    "duration": 225,
    "start_time": "2023-09-20T03:43:54.458Z"
   },
   {
    "duration": 664,
    "start_time": "2023-09-20T03:44:05.530Z"
   },
   {
    "duration": 204,
    "start_time": "2023-09-20T03:44:16.322Z"
   },
   {
    "duration": 175,
    "start_time": "2023-09-20T03:45:33.830Z"
   },
   {
    "duration": 751,
    "start_time": "2023-09-20T03:45:41.775Z"
   },
   {
    "duration": 1563,
    "start_time": "2023-09-20T03:46:09.306Z"
   },
   {
    "duration": 97,
    "start_time": "2023-09-20T03:46:53.063Z"
   },
   {
    "duration": 86,
    "start_time": "2023-09-20T03:46:56.537Z"
   },
   {
    "duration": 442,
    "start_time": "2023-09-20T03:47:01.439Z"
   },
   {
    "duration": 249,
    "start_time": "2023-09-20T03:47:21.925Z"
   },
   {
    "duration": 2027,
    "start_time": "2023-09-20T03:47:30.448Z"
   },
   {
    "duration": 8,
    "start_time": "2023-09-20T03:47:49.220Z"
   },
   {
    "duration": 1608,
    "start_time": "2023-09-20T03:48:01.648Z"
   },
   {
    "duration": 2013,
    "start_time": "2023-09-20T03:48:13.286Z"
   },
   {
    "duration": 228,
    "start_time": "2023-09-20T03:48:24.793Z"
   },
   {
    "duration": 1869,
    "start_time": "2023-09-20T03:48:32.333Z"
   },
   {
    "duration": 194,
    "start_time": "2023-09-20T03:48:44.111Z"
   },
   {
    "duration": 6,
    "start_time": "2023-09-20T03:48:59.160Z"
   },
   {
    "duration": 180,
    "start_time": "2023-09-20T03:49:15.236Z"
   },
   {
    "duration": 3334,
    "start_time": "2023-09-20T03:49:27.755Z"
   },
   {
    "duration": 133,
    "start_time": "2023-09-20T03:52:01.060Z"
   },
   {
    "duration": 109,
    "start_time": "2023-09-20T03:52:20.300Z"
   },
   {
    "duration": 5,
    "start_time": "2023-09-20T03:52:21.305Z"
   },
   {
    "duration": 99,
    "start_time": "2023-09-20T03:52:39.771Z"
   },
   {
    "duration": 5,
    "start_time": "2023-09-20T03:52:40.336Z"
   },
   {
    "duration": 1702,
    "start_time": "2023-09-20T03:52:53.082Z"
   },
   {
    "duration": 9,
    "start_time": "2023-09-20T03:53:50.030Z"
   },
   {
    "duration": 7,
    "start_time": "2023-09-20T03:54:12.150Z"
   },
   {
    "duration": 8,
    "start_time": "2023-09-20T03:55:19.401Z"
   },
   {
    "duration": 6,
    "start_time": "2023-09-20T03:58:09.335Z"
   },
   {
    "duration": 19,
    "start_time": "2023-09-20T03:58:10.385Z"
   },
   {
    "duration": 101,
    "start_time": "2023-09-20T03:58:30.059Z"
   },
   {
    "duration": 19,
    "start_time": "2023-09-20T03:58:31.337Z"
   },
   {
    "duration": 83,
    "start_time": "2023-09-20T03:58:43.515Z"
   },
   {
    "duration": 8,
    "start_time": "2023-09-20T03:59:02.363Z"
   },
   {
    "duration": 15,
    "start_time": "2023-09-20T03:59:04.291Z"
   },
   {
    "duration": 12,
    "start_time": "2023-09-20T03:59:16.325Z"
   },
   {
    "duration": 6,
    "start_time": "2023-09-20T03:59:41.599Z"
   },
   {
    "duration": 17,
    "start_time": "2023-09-20T03:59:42.310Z"
   },
   {
    "duration": 6,
    "start_time": "2023-09-20T04:00:29.694Z"
   },
   {
    "duration": 15,
    "start_time": "2023-09-20T04:00:31.425Z"
   },
   {
    "duration": 13,
    "start_time": "2023-09-20T04:02:29.723Z"
   },
   {
    "duration": 8,
    "start_time": "2023-09-20T04:02:56.590Z"
   },
   {
    "duration": 164,
    "start_time": "2023-09-20T04:03:34.928Z"
   },
   {
    "duration": 13,
    "start_time": "2023-09-20T04:03:57.160Z"
   },
   {
    "duration": 13,
    "start_time": "2023-09-20T04:05:28.196Z"
   },
   {
    "duration": 12,
    "start_time": "2023-09-20T04:05:42.825Z"
   },
   {
    "duration": 12,
    "start_time": "2023-09-20T04:06:04.613Z"
   },
   {
    "duration": 1442,
    "start_time": "2023-09-20T04:06:31.018Z"
   },
   {
    "duration": 1664,
    "start_time": "2023-09-20T04:06:56.105Z"
   },
   {
    "duration": 84,
    "start_time": "2023-09-20T04:13:16.328Z"
   },
   {
    "duration": 79,
    "start_time": "2023-09-20T04:13:20.567Z"
   },
   {
    "duration": 109,
    "start_time": "2023-09-20T04:13:28.188Z"
   },
   {
    "duration": 130,
    "start_time": "2023-09-20T04:13:56.061Z"
   },
   {
    "duration": 10,
    "start_time": "2023-09-20T04:14:50.310Z"
   },
   {
    "duration": 6,
    "start_time": "2023-09-20T04:14:55.776Z"
   },
   {
    "duration": 16,
    "start_time": "2023-09-20T04:14:56.675Z"
   },
   {
    "duration": 6,
    "start_time": "2023-09-20T04:16:33.797Z"
   },
   {
    "duration": 55,
    "start_time": "2023-09-20T04:16:35.065Z"
   },
   {
    "duration": 4,
    "start_time": "2023-09-20T04:16:44.534Z"
   },
   {
    "duration": 258,
    "start_time": "2023-09-20T04:16:44.540Z"
   },
   {
    "duration": 23,
    "start_time": "2023-09-20T04:16:44.800Z"
   },
   {
    "duration": 27,
    "start_time": "2023-09-20T04:16:44.825Z"
   },
   {
    "duration": 27,
    "start_time": "2023-09-20T04:16:44.855Z"
   },
   {
    "duration": 32,
    "start_time": "2023-09-20T04:16:44.884Z"
   },
   {
    "duration": 97,
    "start_time": "2023-09-20T04:16:44.918Z"
   },
   {
    "duration": 172,
    "start_time": "2023-09-20T04:16:45.017Z"
   },
   {
    "duration": 34,
    "start_time": "2023-09-20T04:16:45.192Z"
   },
   {
    "duration": 51,
    "start_time": "2023-09-20T04:16:45.230Z"
   },
   {
    "duration": 118,
    "start_time": "2023-09-20T04:16:45.283Z"
   },
   {
    "duration": 35,
    "start_time": "2023-09-20T04:16:45.406Z"
   },
   {
    "duration": 77,
    "start_time": "2023-09-20T04:16:45.442Z"
   },
   {
    "duration": 15,
    "start_time": "2023-09-20T04:16:45.522Z"
   },
   {
    "duration": 42,
    "start_time": "2023-09-20T04:16:45.539Z"
   },
   {
    "duration": 79,
    "start_time": "2023-09-20T04:16:45.584Z"
   },
   {
    "duration": 103,
    "start_time": "2023-09-20T04:16:45.665Z"
   },
   {
    "duration": 457,
    "start_time": "2023-09-20T04:16:45.771Z"
   },
   {
    "duration": 54,
    "start_time": "2023-09-20T04:16:46.230Z"
   },
   {
    "duration": 98,
    "start_time": "2023-09-20T04:16:46.286Z"
   },
   {
    "duration": 22,
    "start_time": "2023-09-20T04:16:46.386Z"
   },
   {
    "duration": 11,
    "start_time": "2023-09-20T04:16:46.410Z"
   },
   {
    "duration": 64,
    "start_time": "2023-09-20T04:16:46.423Z"
   },
   {
    "duration": 51,
    "start_time": "2023-09-20T04:16:46.489Z"
   },
   {
    "duration": 77,
    "start_time": "2023-09-20T04:16:46.550Z"
   },
   {
    "duration": 87,
    "start_time": "2023-09-20T04:16:46.629Z"
   },
   {
    "duration": 130,
    "start_time": "2023-09-20T04:16:46.718Z"
   },
   {
    "duration": 112,
    "start_time": "2023-09-20T04:16:46.852Z"
   },
   {
    "duration": 18,
    "start_time": "2023-09-20T04:16:46.966Z"
   },
   {
    "duration": 7,
    "start_time": "2023-09-20T04:17:01.687Z"
   },
   {
    "duration": 25,
    "start_time": "2023-09-20T04:17:06.065Z"
   },
   {
    "duration": 10,
    "start_time": "2023-09-20T04:17:26.575Z"
   },
   {
    "duration": 18,
    "start_time": "2023-09-20T04:17:33.145Z"
   },
   {
    "duration": 95,
    "start_time": "2023-09-20T04:17:53.505Z"
   },
   {
    "duration": 128,
    "start_time": "2023-09-20T04:18:23.967Z"
   },
   {
    "duration": 90,
    "start_time": "2023-09-20T04:18:42.819Z"
   },
   {
    "duration": 70,
    "start_time": "2023-09-20T04:21:49.174Z"
   },
   {
    "duration": 98,
    "start_time": "2023-09-20T04:22:06.885Z"
   },
   {
    "duration": 88,
    "start_time": "2023-09-20T04:22:18.253Z"
   },
   {
    "duration": 34,
    "start_time": "2023-09-20T04:22:56.164Z"
   },
   {
    "duration": 84,
    "start_time": "2023-09-20T04:23:04.368Z"
   },
   {
    "duration": 84,
    "start_time": "2023-09-20T04:23:22.343Z"
   },
   {
    "duration": 26,
    "start_time": "2023-09-20T04:23:30.364Z"
   },
   {
    "duration": 52,
    "start_time": "2023-09-20T04:23:47.393Z"
   },
   {
    "duration": 96,
    "start_time": "2023-09-20T04:23:58.792Z"
   },
   {
    "duration": 100,
    "start_time": "2023-09-20T04:24:29.285Z"
   },
   {
    "duration": 18,
    "start_time": "2023-09-20T04:25:00.384Z"
   },
   {
    "duration": 71,
    "start_time": "2023-09-20T04:25:45.113Z"
   },
   {
    "duration": 10,
    "start_time": "2023-09-20T04:25:48.119Z"
   },
   {
    "duration": 222,
    "start_time": "2023-09-20T04:25:55.640Z"
   },
   {
    "duration": 210,
    "start_time": "2023-09-20T04:26:08.480Z"
   },
   {
    "duration": 223,
    "start_time": "2023-09-20T04:26:17.347Z"
   },
   {
    "duration": 50,
    "start_time": "2023-09-20T04:26:40.176Z"
   },
   {
    "duration": 2586,
    "start_time": "2023-09-20T04:30:02.780Z"
   },
   {
    "duration": 103,
    "start_time": "2023-09-20T04:31:32.172Z"
   },
   {
    "duration": 12,
    "start_time": "2023-09-20T04:31:33.490Z"
   },
   {
    "duration": 6,
    "start_time": "2023-09-20T04:31:37.908Z"
   },
   {
    "duration": 16,
    "start_time": "2023-09-20T04:31:51.257Z"
   },
   {
    "duration": 6,
    "start_time": "2023-09-20T04:32:18.265Z"
   },
   {
    "duration": 54,
    "start_time": "2023-09-20T04:32:18.663Z"
   },
   {
    "duration": 10,
    "start_time": "2023-09-20T04:32:24.630Z"
   },
   {
    "duration": 190,
    "start_time": "2023-09-20T04:32:34.106Z"
   },
   {
    "duration": 14,
    "start_time": "2023-09-20T04:32:36.059Z"
   },
   {
    "duration": 197,
    "start_time": "2023-09-20T04:32:43.348Z"
   },
   {
    "duration": 9,
    "start_time": "2023-09-20T04:32:44.973Z"
   },
   {
    "duration": 201,
    "start_time": "2023-09-20T04:32:54.512Z"
   },
   {
    "duration": 90,
    "start_time": "2023-09-20T04:32:57.426Z"
   },
   {
    "duration": 13,
    "start_time": "2023-09-20T04:33:34.769Z"
   },
   {
    "duration": 11,
    "start_time": "2023-09-20T04:33:48.812Z"
   },
   {
    "duration": 1784,
    "start_time": "2023-09-20T04:34:21.299Z"
   },
   {
    "duration": 53,
    "start_time": "2023-09-20T04:34:40.716Z"
   },
   {
    "duration": 219,
    "start_time": "2023-09-20T04:34:49.638Z"
   },
   {
    "duration": 416,
    "start_time": "2023-09-20T04:34:57.278Z"
   },
   {
    "duration": 428,
    "start_time": "2023-09-20T04:35:14.419Z"
   },
   {
    "duration": 153,
    "start_time": "2023-09-20T04:35:15.228Z"
   },
   {
    "duration": 1912,
    "start_time": "2023-09-20T04:35:21.270Z"
   },
   {
    "duration": 115,
    "start_time": "2023-09-20T04:36:21.615Z"
   },
   {
    "duration": 2079,
    "start_time": "2023-09-20T04:36:36.918Z"
   },
   {
    "duration": 115,
    "start_time": "2023-09-20T04:36:46.217Z"
   },
   {
    "duration": 109,
    "start_time": "2023-09-20T04:37:35.216Z"
   },
   {
    "duration": 1553,
    "start_time": "2023-09-20T04:38:00.923Z"
   },
   {
    "duration": 181,
    "start_time": "2023-09-20T04:38:55.768Z"
   },
   {
    "duration": 191,
    "start_time": "2023-09-20T04:39:11.803Z"
   },
   {
    "duration": 165,
    "start_time": "2023-09-20T04:39:16.923Z"
   },
   {
    "duration": 195,
    "start_time": "2023-09-20T04:39:38.949Z"
   },
   {
    "duration": 925,
    "start_time": "2023-09-20T04:39:54.761Z"
   },
   {
    "duration": 199,
    "start_time": "2023-09-20T04:40:26.418Z"
   },
   {
    "duration": 169,
    "start_time": "2023-09-20T04:40:33.669Z"
   },
   {
    "duration": 196,
    "start_time": "2023-09-20T04:40:56.543Z"
   },
   {
    "duration": 177,
    "start_time": "2023-09-20T04:42:44.594Z"
   },
   {
    "duration": 1513,
    "start_time": "2023-09-20T04:42:49.003Z"
   },
   {
    "duration": 11,
    "start_time": "2023-09-20T04:43:14.557Z"
   },
   {
    "duration": 1351,
    "start_time": "2023-09-20T04:43:15.417Z"
   },
   {
    "duration": 110,
    "start_time": "2023-09-20T04:43:35.767Z"
   },
   {
    "duration": 14,
    "start_time": "2023-09-20T04:43:36.391Z"
   },
   {
    "duration": 6,
    "start_time": "2023-09-20T04:43:37.624Z"
   },
   {
    "duration": 65,
    "start_time": "2023-09-20T04:43:38.021Z"
   },
   {
    "duration": 218,
    "start_time": "2023-09-20T04:43:40.095Z"
   },
   {
    "duration": 236,
    "start_time": "2023-09-20T04:43:42.064Z"
   },
   {
    "duration": 209,
    "start_time": "2023-09-20T04:43:42.885Z"
   },
   {
    "duration": 175,
    "start_time": "2023-09-20T04:43:43.970Z"
   },
   {
    "duration": 240,
    "start_time": "2023-09-20T04:43:45.617Z"
   },
   {
    "duration": 165,
    "start_time": "2023-09-20T04:43:55.672Z"
   },
   {
    "duration": 215,
    "start_time": "2023-09-20T04:43:56.016Z"
   },
   {
    "duration": 395,
    "start_time": "2023-09-20T04:43:58.273Z"
   },
   {
    "duration": 1463,
    "start_time": "2023-09-20T04:44:00.578Z"
   },
   {
    "duration": 226,
    "start_time": "2023-09-20T04:44:10.512Z"
   },
   {
    "duration": 15,
    "start_time": "2023-09-20T04:47:17.890Z"
   },
   {
    "duration": 30,
    "start_time": "2023-09-20T04:47:23.861Z"
   },
   {
    "duration": 8,
    "start_time": "2023-09-20T04:47:24.028Z"
   },
   {
    "duration": 7,
    "start_time": "2023-09-20T04:47:30.673Z"
   },
   {
    "duration": 218,
    "start_time": "2023-09-20T04:48:31.959Z"
   },
   {
    "duration": 24,
    "start_time": "2023-09-20T04:48:32.180Z"
   },
   {
    "duration": 9,
    "start_time": "2023-09-20T04:48:32.397Z"
   },
   {
    "duration": 6,
    "start_time": "2023-09-20T04:48:34.689Z"
   },
   {
    "duration": 15,
    "start_time": "2023-09-20T04:48:34.941Z"
   },
   {
    "duration": 79,
    "start_time": "2023-09-20T04:48:35.119Z"
   },
   {
    "duration": 207,
    "start_time": "2023-09-20T04:48:35.291Z"
   },
   {
    "duration": 37,
    "start_time": "2023-09-20T04:48:35.502Z"
   },
   {
    "duration": 24,
    "start_time": "2023-09-20T04:48:35.663Z"
   },
   {
    "duration": 130,
    "start_time": "2023-09-20T04:48:35.836Z"
   },
   {
    "duration": 10,
    "start_time": "2023-09-20T04:48:36.021Z"
   },
   {
    "duration": 44,
    "start_time": "2023-09-20T04:48:36.193Z"
   },
   {
    "duration": 9,
    "start_time": "2023-09-20T04:48:36.918Z"
   },
   {
    "duration": 30,
    "start_time": "2023-09-20T04:48:37.620Z"
   },
   {
    "duration": 92,
    "start_time": "2023-09-20T04:48:37.987Z"
   },
   {
    "duration": 84,
    "start_time": "2023-09-20T04:48:38.164Z"
   },
   {
    "duration": 12,
    "start_time": "2023-09-20T04:49:00.221Z"
   },
   {
    "duration": 81,
    "start_time": "2023-09-20T04:49:18.371Z"
   },
   {
    "duration": 11,
    "start_time": "2023-09-20T04:49:24.490Z"
   },
   {
    "duration": 22,
    "start_time": "2023-09-20T04:49:46.961Z"
   },
   {
    "duration": 12,
    "start_time": "2023-09-20T04:50:02.489Z"
   },
   {
    "duration": 10,
    "start_time": "2023-09-20T04:50:05.566Z"
   },
   {
    "duration": 26,
    "start_time": "2023-09-20T04:50:53.552Z"
   },
   {
    "duration": 235,
    "start_time": "2023-09-20T04:51:03.086Z"
   },
   {
    "duration": 139,
    "start_time": "2023-09-20T04:51:22.440Z"
   },
   {
    "duration": 4,
    "start_time": "2023-09-20T05:41:53.927Z"
   },
   {
    "duration": 45,
    "start_time": "2023-09-20T05:52:42.954Z"
   },
   {
    "duration": 239,
    "start_time": "2023-09-20T05:53:28.263Z"
   },
   {
    "duration": 43,
    "start_time": "2023-09-20T05:54:24.961Z"
   },
   {
    "duration": 1574,
    "start_time": "2023-09-20T05:57:20.153Z"
   },
   {
    "duration": 68,
    "start_time": "2023-09-20T05:57:26.773Z"
   },
   {
    "duration": 45,
    "start_time": "2023-09-20T05:57:28.122Z"
   },
   {
    "duration": 1502,
    "start_time": "2023-09-20T05:57:30.375Z"
   },
   {
    "duration": 1449,
    "start_time": "2023-09-20T05:57:48.951Z"
   },
   {
    "duration": 51,
    "start_time": "2023-09-20T05:58:19.650Z"
   },
   {
    "duration": 1285,
    "start_time": "2023-09-20T06:22:18.991Z"
   },
   {
    "duration": 209,
    "start_time": "2023-09-20T06:22:20.278Z"
   },
   {
    "duration": 23,
    "start_time": "2023-09-20T06:22:20.489Z"
   },
   {
    "duration": 16,
    "start_time": "2023-09-20T06:22:20.514Z"
   },
   {
    "duration": 18,
    "start_time": "2023-09-20T06:22:20.531Z"
   },
   {
    "duration": 30,
    "start_time": "2023-09-20T06:22:20.551Z"
   },
   {
    "duration": 85,
    "start_time": "2023-09-20T06:22:20.582Z"
   },
   {
    "duration": 177,
    "start_time": "2023-09-20T06:22:20.669Z"
   },
   {
    "duration": 27,
    "start_time": "2023-09-20T06:22:20.848Z"
   },
   {
    "duration": 43,
    "start_time": "2023-09-20T06:22:20.878Z"
   },
   {
    "duration": 103,
    "start_time": "2023-09-20T06:22:20.922Z"
   },
   {
    "duration": 9,
    "start_time": "2023-09-20T06:22:21.027Z"
   },
   {
    "duration": 75,
    "start_time": "2023-09-20T06:22:21.038Z"
   },
   {
    "duration": 24,
    "start_time": "2023-09-20T06:22:21.115Z"
   },
   {
    "duration": 37,
    "start_time": "2023-09-20T06:22:21.141Z"
   },
   {
    "duration": 68,
    "start_time": "2023-09-20T06:22:21.180Z"
   },
   {
    "duration": 79,
    "start_time": "2023-09-20T06:22:21.250Z"
   },
   {
    "duration": 435,
    "start_time": "2023-09-20T06:22:21.331Z"
   },
   {
    "duration": 36,
    "start_time": "2023-09-20T06:22:21.768Z"
   },
   {
    "duration": 79,
    "start_time": "2023-09-20T06:22:21.806Z"
   },
   {
    "duration": 70,
    "start_time": "2023-09-20T06:22:21.887Z"
   },
   {
    "duration": 519,
    "start_time": "2023-09-20T06:22:21.959Z"
   },
   {
    "duration": 21,
    "start_time": "2023-09-20T06:22:22.480Z"
   },
   {
    "duration": 45,
    "start_time": "2023-09-20T06:22:22.503Z"
   },
   {
    "duration": 32,
    "start_time": "2023-09-20T06:22:22.550Z"
   },
   {
    "duration": 69,
    "start_time": "2023-09-20T06:22:22.584Z"
   },
   {
    "duration": 52,
    "start_time": "2023-09-20T06:22:22.654Z"
   },
   {
    "duration": 67,
    "start_time": "2023-09-20T06:22:22.710Z"
   },
   {
    "duration": 132,
    "start_time": "2023-09-20T06:22:22.779Z"
   },
   {
    "duration": 11,
    "start_time": "2023-09-20T06:22:22.913Z"
   },
   {
    "duration": 27,
    "start_time": "2023-09-20T06:22:22.926Z"
   },
   {
    "duration": 83,
    "start_time": "2023-09-20T06:22:22.955Z"
   },
   {
    "duration": 193,
    "start_time": "2023-09-20T06:22:23.040Z"
   },
   {
    "duration": 198,
    "start_time": "2023-09-20T06:22:23.234Z"
   },
   {
    "duration": 198,
    "start_time": "2023-09-20T06:22:23.433Z"
   },
   {
    "duration": 179,
    "start_time": "2023-09-20T06:22:23.632Z"
   },
   {
    "duration": 191,
    "start_time": "2023-09-20T06:22:23.812Z"
   },
   {
    "duration": 379,
    "start_time": "2023-09-20T06:22:24.005Z"
   },
   {
    "duration": 211,
    "start_time": "2023-09-20T06:22:24.386Z"
   },
   {
    "duration": 82,
    "start_time": "2023-09-20T06:25:38.914Z"
   },
   {
    "duration": 17,
    "start_time": "2023-09-20T06:26:32.298Z"
   },
   {
    "duration": 104,
    "start_time": "2023-09-20T06:27:21.195Z"
   },
   {
    "duration": 82,
    "start_time": "2023-09-20T06:27:30.923Z"
   },
   {
    "duration": 49,
    "start_time": "2023-09-20T06:27:32.126Z"
   },
   {
    "duration": 13,
    "start_time": "2023-09-20T06:27:33.286Z"
   },
   {
    "duration": 12,
    "start_time": "2023-09-20T06:28:29.914Z"
   },
   {
    "duration": 84,
    "start_time": "2023-09-20T06:29:23.755Z"
   },
   {
    "duration": 167,
    "start_time": "2023-09-20T06:29:54.702Z"
   },
   {
    "duration": 12,
    "start_time": "2023-09-20T06:30:29.722Z"
   },
   {
    "duration": 14,
    "start_time": "2023-09-20T06:30:40.656Z"
   },
   {
    "duration": 14,
    "start_time": "2023-09-20T06:30:48.072Z"
   },
   {
    "duration": 16,
    "start_time": "2023-09-20T06:31:47.389Z"
   },
   {
    "duration": 16,
    "start_time": "2023-09-20T06:31:59.744Z"
   },
   {
    "duration": 4,
    "start_time": "2023-09-20T06:32:34.074Z"
   },
   {
    "duration": 181,
    "start_time": "2023-09-20T06:32:34.667Z"
   },
   {
    "duration": 29,
    "start_time": "2023-09-20T06:32:34.853Z"
   },
   {
    "duration": 11,
    "start_time": "2023-09-20T06:32:35.057Z"
   },
   {
    "duration": 5,
    "start_time": "2023-09-20T06:32:36.435Z"
   },
   {
    "duration": 13,
    "start_time": "2023-09-20T06:32:36.696Z"
   },
   {
    "duration": 68,
    "start_time": "2023-09-20T06:32:36.888Z"
   },
   {
    "duration": 146,
    "start_time": "2023-09-20T06:32:37.088Z"
   },
   {
    "duration": 30,
    "start_time": "2023-09-20T06:32:37.310Z"
   },
   {
    "duration": 24,
    "start_time": "2023-09-20T06:32:37.481Z"
   },
   {
    "duration": 76,
    "start_time": "2023-09-20T06:32:37.757Z"
   },
   {
    "duration": 11,
    "start_time": "2023-09-20T06:32:38.069Z"
   },
   {
    "duration": 45,
    "start_time": "2023-09-20T06:32:38.418Z"
   },
   {
    "duration": 8,
    "start_time": "2023-09-20T06:32:39.775Z"
   },
   {
    "duration": 21,
    "start_time": "2023-09-20T06:32:40.636Z"
   },
   {
    "duration": 67,
    "start_time": "2023-09-20T06:32:42.300Z"
   },
   {
    "duration": 76,
    "start_time": "2023-09-20T06:32:42.492Z"
   },
   {
    "duration": 395,
    "start_time": "2023-09-20T06:32:42.694Z"
   },
   {
    "duration": 31,
    "start_time": "2023-09-20T06:32:44.386Z"
   },
   {
    "duration": 461,
    "start_time": "2023-09-20T06:33:15.154Z"
   },
   {
    "duration": 400,
    "start_time": "2023-09-20T06:33:40.614Z"
   },
   {
    "duration": 401,
    "start_time": "2023-09-20T06:33:44.124Z"
   },
   {
    "duration": 147,
    "start_time": "2023-09-20T06:34:36.485Z"
   },
   {
    "duration": 518,
    "start_time": "2023-09-20T06:35:22.910Z"
   },
   {
    "duration": 424,
    "start_time": "2023-09-20T06:35:35.887Z"
   },
   {
    "duration": 426,
    "start_time": "2023-09-20T06:35:48.955Z"
   },
   {
    "duration": 411,
    "start_time": "2023-09-20T06:35:58.692Z"
   },
   {
    "duration": 143,
    "start_time": "2023-09-20T06:36:24.307Z"
   },
   {
    "duration": 139,
    "start_time": "2023-09-20T06:36:34.566Z"
   },
   {
    "duration": 142,
    "start_time": "2023-09-20T06:36:41.567Z"
   },
   {
    "duration": 155,
    "start_time": "2023-09-20T06:36:44.735Z"
   },
   {
    "duration": 504,
    "start_time": "2023-09-20T06:36:53.118Z"
   },
   {
    "duration": 398,
    "start_time": "2023-09-20T06:37:42.484Z"
   },
   {
    "duration": 405,
    "start_time": "2023-09-20T06:37:51.429Z"
   },
   {
    "duration": 12,
    "start_time": "2023-09-20T06:38:21.883Z"
   },
   {
    "duration": 14,
    "start_time": "2023-09-20T06:38:24.679Z"
   },
   {
    "duration": 16,
    "start_time": "2023-09-20T06:39:01.944Z"
   },
   {
    "duration": 398,
    "start_time": "2023-09-20T06:43:55.497Z"
   },
   {
    "duration": 37,
    "start_time": "2023-09-20T06:44:16.937Z"
   },
   {
    "duration": 63,
    "start_time": "2023-09-20T06:44:17.887Z"
   },
   {
    "duration": 81,
    "start_time": "2023-09-20T06:44:18.217Z"
   },
   {
    "duration": 14,
    "start_time": "2023-09-20T06:44:18.380Z"
   },
   {
    "duration": 20,
    "start_time": "2023-09-20T06:44:18.557Z"
   },
   {
    "duration": 8,
    "start_time": "2023-09-20T06:44:18.711Z"
   },
   {
    "duration": 32,
    "start_time": "2023-09-20T06:44:18.869Z"
   },
   {
    "duration": 51,
    "start_time": "2023-09-20T06:44:19.191Z"
   },
   {
    "duration": 62,
    "start_time": "2023-09-20T06:44:20.571Z"
   },
   {
    "duration": 54,
    "start_time": "2023-09-20T06:44:21.346Z"
   },
   {
    "duration": 97,
    "start_time": "2023-09-20T06:44:21.971Z"
   },
   {
    "duration": 13,
    "start_time": "2023-09-20T06:44:22.403Z"
   },
   {
    "duration": 7,
    "start_time": "2023-09-20T06:44:23.183Z"
   },
   {
    "duration": 52,
    "start_time": "2023-09-20T06:44:23.346Z"
   },
   {
    "duration": 194,
    "start_time": "2023-09-20T06:44:23.957Z"
   },
   {
    "duration": 183,
    "start_time": "2023-09-20T06:44:24.421Z"
   },
   {
    "duration": 189,
    "start_time": "2023-09-20T06:44:24.746Z"
   },
   {
    "duration": 198,
    "start_time": "2023-09-20T06:44:25.228Z"
   },
   {
    "duration": 204,
    "start_time": "2023-09-20T06:44:25.429Z"
   },
   {
    "duration": 394,
    "start_time": "2023-09-20T06:44:25.889Z"
   },
   {
    "duration": 268,
    "start_time": "2023-09-20T06:44:26.285Z"
   },
   {
    "duration": 1340,
    "start_time": "2023-09-20T11:35:13.726Z"
   },
   {
    "duration": 546,
    "start_time": "2023-09-20T11:35:15.068Z"
   },
   {
    "duration": 25,
    "start_time": "2023-09-20T11:35:15.618Z"
   },
   {
    "duration": 11,
    "start_time": "2023-09-20T11:35:15.644Z"
   },
   {
    "duration": 11,
    "start_time": "2023-09-20T11:35:15.656Z"
   },
   {
    "duration": 21,
    "start_time": "2023-09-20T11:35:15.669Z"
   },
   {
    "duration": 78,
    "start_time": "2023-09-20T11:35:15.709Z"
   },
   {
    "duration": 182,
    "start_time": "2023-09-20T11:35:15.789Z"
   },
   {
    "duration": 37,
    "start_time": "2023-09-20T11:35:15.973Z"
   },
   {
    "duration": 26,
    "start_time": "2023-09-20T11:35:16.012Z"
   },
   {
    "duration": 91,
    "start_time": "2023-09-20T11:35:16.040Z"
   },
   {
    "duration": 23,
    "start_time": "2023-09-20T11:35:16.133Z"
   },
   {
    "duration": 67,
    "start_time": "2023-09-20T11:35:16.157Z"
   },
   {
    "duration": 9,
    "start_time": "2023-09-20T11:35:16.226Z"
   },
   {
    "duration": 34,
    "start_time": "2023-09-20T11:35:16.237Z"
   },
   {
    "duration": 72,
    "start_time": "2023-09-20T11:35:16.274Z"
   },
   {
    "duration": 95,
    "start_time": "2023-09-20T11:35:16.348Z"
   },
   {
    "duration": 431,
    "start_time": "2023-09-20T11:35:16.445Z"
   },
   {
    "duration": 42,
    "start_time": "2023-09-20T11:35:16.878Z"
   },
   {
    "duration": 65,
    "start_time": "2023-09-20T11:35:16.922Z"
   },
   {
    "duration": 97,
    "start_time": "2023-09-20T11:35:16.989Z"
   },
   {
    "duration": 1129,
    "start_time": "2023-09-20T11:35:17.088Z"
   },
   {
    "duration": 25,
    "start_time": "2023-09-20T11:35:18.219Z"
   },
   {
    "duration": 61,
    "start_time": "2023-09-20T11:35:18.248Z"
   },
   {
    "duration": 35,
    "start_time": "2023-09-20T11:35:18.311Z"
   },
   {
    "duration": 107,
    "start_time": "2023-09-20T11:35:18.348Z"
   },
   {
    "duration": 97,
    "start_time": "2023-09-20T11:35:18.458Z"
   },
   {
    "duration": 68,
    "start_time": "2023-09-20T11:35:18.556Z"
   },
   {
    "duration": 109,
    "start_time": "2023-09-20T11:35:18.625Z"
   },
   {
    "duration": 13,
    "start_time": "2023-09-20T11:35:18.736Z"
   },
   {
    "duration": 8,
    "start_time": "2023-09-20T11:35:18.751Z"
   },
   {
    "duration": 71,
    "start_time": "2023-09-20T11:35:18.761Z"
   },
   {
    "duration": 231,
    "start_time": "2023-09-20T11:35:18.834Z"
   },
   {
    "duration": 208,
    "start_time": "2023-09-20T11:35:19.067Z"
   },
   {
    "duration": 203,
    "start_time": "2023-09-20T11:35:19.276Z"
   },
   {
    "duration": 175,
    "start_time": "2023-09-20T11:35:19.481Z"
   },
   {
    "duration": 193,
    "start_time": "2023-09-20T11:35:19.658Z"
   },
   {
    "duration": 391,
    "start_time": "2023-09-20T11:35:19.853Z"
   },
   {
    "duration": 222,
    "start_time": "2023-09-20T11:35:20.246Z"
   },
   {
    "duration": 6,
    "start_time": "2023-09-20T11:41:33.985Z"
   },
   {
    "duration": 184,
    "start_time": "2023-09-20T11:41:41.379Z"
   },
   {
    "duration": 159,
    "start_time": "2023-09-20T11:41:44.895Z"
   },
   {
    "duration": 195,
    "start_time": "2023-09-20T11:41:45.083Z"
   },
   {
    "duration": 388,
    "start_time": "2023-09-20T11:41:45.733Z"
   },
   {
    "duration": 216,
    "start_time": "2023-09-20T11:41:46.123Z"
   },
   {
    "duration": 54,
    "start_time": "2023-09-20T11:50:57.047Z"
   },
   {
    "duration": 1650,
    "start_time": "2023-09-20T11:51:00.878Z"
   },
   {
    "duration": 799,
    "start_time": "2023-09-20T11:51:02.531Z"
   },
   {
    "duration": 29,
    "start_time": "2023-09-20T11:51:03.332Z"
   },
   {
    "duration": 19,
    "start_time": "2023-09-20T11:51:03.363Z"
   },
   {
    "duration": 20,
    "start_time": "2023-09-20T11:51:03.384Z"
   },
   {
    "duration": 24,
    "start_time": "2023-09-20T11:51:03.407Z"
   },
   {
    "duration": 92,
    "start_time": "2023-09-20T11:51:03.433Z"
   },
   {
    "duration": 353,
    "start_time": "2023-09-20T11:51:03.527Z"
   },
   {
    "duration": 30,
    "start_time": "2023-09-20T11:51:03.883Z"
   },
   {
    "duration": 56,
    "start_time": "2023-09-20T11:51:03.915Z"
   },
   {
    "duration": 95,
    "start_time": "2023-09-20T11:51:03.973Z"
   },
   {
    "duration": 41,
    "start_time": "2023-09-20T11:51:04.071Z"
   },
   {
    "duration": 321,
    "start_time": "2023-09-20T11:51:04.114Z"
   },
   {
    "duration": 26,
    "start_time": "2023-09-20T11:51:04.437Z"
   },
   {
    "duration": 43,
    "start_time": "2023-09-20T11:51:04.465Z"
   },
   {
    "duration": 101,
    "start_time": "2023-09-20T11:51:04.510Z"
   },
   {
    "duration": 87,
    "start_time": "2023-09-20T11:51:04.655Z"
   },
   {
    "duration": 489,
    "start_time": "2023-09-20T11:51:04.744Z"
   },
   {
    "duration": 47,
    "start_time": "2023-09-20T11:51:05.235Z"
   },
   {
    "duration": 5,
    "start_time": "2023-09-20T11:51:19.974Z"
   },
   {
    "duration": 189,
    "start_time": "2023-09-20T11:51:40.907Z"
   },
   {
    "duration": 23,
    "start_time": "2023-09-20T11:51:44.107Z"
   },
   {
    "duration": 10,
    "start_time": "2023-09-20T11:51:46.826Z"
   },
   {
    "duration": 9,
    "start_time": "2023-09-20T11:51:59.989Z"
   },
   {
    "duration": 16,
    "start_time": "2023-09-20T11:52:03.986Z"
   },
   {
    "duration": 78,
    "start_time": "2023-09-20T11:52:06.664Z"
   },
   {
    "duration": 166,
    "start_time": "2023-09-20T11:52:11.096Z"
   },
   {
    "duration": 30,
    "start_time": "2023-09-20T11:52:13.737Z"
   },
   {
    "duration": 41,
    "start_time": "2023-09-20T11:52:22.487Z"
   },
   {
    "duration": 22,
    "start_time": "2023-09-20T11:52:22.697Z"
   },
   {
    "duration": 82,
    "start_time": "2023-09-20T11:52:22.963Z"
   },
   {
    "duration": 11,
    "start_time": "2023-09-20T11:52:23.238Z"
   },
   {
    "duration": 61,
    "start_time": "2023-09-20T11:52:28.308Z"
   },
   {
    "duration": 11,
    "start_time": "2023-09-20T11:52:32.266Z"
   },
   {
    "duration": 11,
    "start_time": "2023-09-20T11:52:37.395Z"
   },
   {
    "duration": 23,
    "start_time": "2023-09-20T11:52:44.116Z"
   },
   {
    "duration": 210,
    "start_time": "2023-09-20T11:53:01.707Z"
   },
   {
    "duration": 9,
    "start_time": "2023-09-20T11:53:06.065Z"
   },
   {
    "duration": 22,
    "start_time": "2023-09-20T11:53:07.275Z"
   },
   {
    "duration": 78,
    "start_time": "2023-09-20T11:53:08.006Z"
   },
   {
    "duration": 95,
    "start_time": "2023-09-20T11:53:08.600Z"
   },
   {
    "duration": 135,
    "start_time": "2023-09-20T11:53:09.971Z"
   },
   {
    "duration": 72,
    "start_time": "2023-09-20T11:53:46.782Z"
   },
   {
    "duration": 138,
    "start_time": "2023-09-20T11:53:50.833Z"
   },
   {
    "duration": 5,
    "start_time": "2023-09-20T11:54:02.243Z"
   },
   {
    "duration": 231,
    "start_time": "2023-09-20T11:54:02.250Z"
   },
   {
    "duration": 33,
    "start_time": "2023-09-20T11:54:02.483Z"
   },
   {
    "duration": 9,
    "start_time": "2023-09-20T11:54:02.518Z"
   },
   {
    "duration": 32,
    "start_time": "2023-09-20T11:54:02.529Z"
   },
   {
    "duration": 26,
    "start_time": "2023-09-20T11:54:02.563Z"
   },
   {
    "duration": 100,
    "start_time": "2023-09-20T11:54:02.591Z"
   },
   {
    "duration": 183,
    "start_time": "2023-09-20T11:54:02.693Z"
   },
   {
    "duration": 42,
    "start_time": "2023-09-20T11:54:02.878Z"
   },
   {
    "duration": 44,
    "start_time": "2023-09-20T11:54:02.922Z"
   },
   {
    "duration": 82,
    "start_time": "2023-09-20T11:54:02.968Z"
   },
   {
    "duration": 21,
    "start_time": "2023-09-20T11:54:03.052Z"
   },
   {
    "duration": 70,
    "start_time": "2023-09-20T11:54:03.075Z"
   },
   {
    "duration": 11,
    "start_time": "2023-09-20T11:54:03.147Z"
   },
   {
    "duration": 25,
    "start_time": "2023-09-20T11:54:05.723Z"
   },
   {
    "duration": 96,
    "start_time": "2023-09-20T11:54:07.243Z"
   },
   {
    "duration": 82,
    "start_time": "2023-09-20T11:54:08.345Z"
   },
   {
    "duration": 200,
    "start_time": "2023-09-20T11:54:08.997Z"
   },
   {
    "duration": 407,
    "start_time": "2023-09-20T11:54:21.184Z"
   },
   {
    "duration": 525,
    "start_time": "2023-09-20T11:54:25.376Z"
   },
   {
    "duration": 47,
    "start_time": "2023-09-20T11:54:33.358Z"
   },
   {
    "duration": 52,
    "start_time": "2023-09-20T11:54:39.088Z"
   },
   {
    "duration": 6,
    "start_time": "2023-09-20T11:54:45.539Z"
   },
   {
    "duration": 120,
    "start_time": "2023-09-20T11:56:56.574Z"
   },
   {
    "duration": 47,
    "start_time": "2023-09-20T11:58:48.914Z"
   },
   {
    "duration": 38,
    "start_time": "2023-09-20T11:58:55.892Z"
   },
   {
    "duration": 1332,
    "start_time": "2023-09-20T12:47:49.658Z"
   },
   {
    "duration": 541,
    "start_time": "2023-09-20T12:47:50.992Z"
   },
   {
    "duration": 24,
    "start_time": "2023-09-20T12:47:51.535Z"
   },
   {
    "duration": 16,
    "start_time": "2023-09-20T12:47:51.561Z"
   },
   {
    "duration": 15,
    "start_time": "2023-09-20T12:47:51.580Z"
   },
   {
    "duration": 24,
    "start_time": "2023-09-20T12:47:51.596Z"
   },
   {
    "duration": 78,
    "start_time": "2023-09-20T12:47:51.622Z"
   },
   {
    "duration": 162,
    "start_time": "2023-09-20T12:47:51.709Z"
   },
   {
    "duration": 41,
    "start_time": "2023-09-20T12:47:51.872Z"
   },
   {
    "duration": 23,
    "start_time": "2023-09-20T12:47:51.915Z"
   },
   {
    "duration": 96,
    "start_time": "2023-09-20T12:47:51.939Z"
   },
   {
    "duration": 11,
    "start_time": "2023-09-20T12:47:52.037Z"
   },
   {
    "duration": 62,
    "start_time": "2023-09-20T12:47:52.050Z"
   },
   {
    "duration": 7,
    "start_time": "2023-09-20T12:47:52.115Z"
   },
   {
    "duration": 24,
    "start_time": "2023-09-20T12:47:52.124Z"
   },
   {
    "duration": 81,
    "start_time": "2023-09-20T12:47:52.149Z"
   },
   {
    "duration": 97,
    "start_time": "2023-09-20T12:47:52.232Z"
   },
   {
    "duration": 515,
    "start_time": "2023-09-20T12:47:52.331Z"
   },
   {
    "duration": 32,
    "start_time": "2023-09-20T12:47:52.848Z"
   },
   {
    "duration": 4,
    "start_time": "2023-09-20T12:47:52.881Z"
   },
   {
    "duration": 85,
    "start_time": "2023-09-20T12:47:52.887Z"
   },
   {
    "duration": 96,
    "start_time": "2023-09-20T12:47:52.973Z"
   },
   {
    "duration": 722,
    "start_time": "2023-09-20T12:47:53.071Z"
   },
   {
    "duration": 30,
    "start_time": "2023-09-20T12:47:53.795Z"
   },
   {
    "duration": 8,
    "start_time": "2023-09-20T12:47:53.827Z"
   },
   {
    "duration": 86,
    "start_time": "2023-09-20T12:47:53.836Z"
   },
   {
    "duration": 90,
    "start_time": "2023-09-20T12:47:53.924Z"
   },
   {
    "duration": 81,
    "start_time": "2023-09-20T12:47:54.017Z"
   },
   {
    "duration": 58,
    "start_time": "2023-09-20T12:47:54.099Z"
   },
   {
    "duration": 100,
    "start_time": "2023-09-20T12:47:54.158Z"
   },
   {
    "duration": 12,
    "start_time": "2023-09-20T12:47:54.260Z"
   },
   {
    "duration": 12,
    "start_time": "2023-09-20T12:47:54.274Z"
   },
   {
    "duration": 68,
    "start_time": "2023-09-20T12:47:54.287Z"
   },
   {
    "duration": 213,
    "start_time": "2023-09-20T12:47:54.357Z"
   },
   {
    "duration": 207,
    "start_time": "2023-09-20T12:47:54.572Z"
   },
   {
    "duration": 204,
    "start_time": "2023-09-20T12:47:54.781Z"
   },
   {
    "duration": 170,
    "start_time": "2023-09-20T12:47:54.987Z"
   },
   {
    "duration": 221,
    "start_time": "2023-09-20T12:47:55.159Z"
   },
   {
    "duration": 390,
    "start_time": "2023-09-20T12:47:55.382Z"
   },
   {
    "duration": 221,
    "start_time": "2023-09-20T12:47:55.774Z"
   },
   {
    "duration": 5,
    "start_time": "2023-09-20T13:00:25.444Z"
   },
   {
    "duration": 11,
    "start_time": "2023-09-20T13:00:51.253Z"
   },
   {
    "duration": 116,
    "start_time": "2023-09-20T13:01:52.855Z"
   },
   {
    "duration": 5,
    "start_time": "2023-09-20T13:01:59.096Z"
   },
   {
    "duration": 5,
    "start_time": "2023-09-20T13:02:12.753Z"
   },
   {
    "duration": 4,
    "start_time": "2023-09-20T13:02:24.281Z"
   },
   {
    "duration": 6,
    "start_time": "2023-09-20T13:03:09.571Z"
   },
   {
    "duration": 5,
    "start_time": "2023-09-20T13:04:02.631Z"
   },
   {
    "duration": 4,
    "start_time": "2023-09-20T13:04:07.826Z"
   },
   {
    "duration": 12,
    "start_time": "2023-09-20T13:05:20.538Z"
   },
   {
    "duration": 16,
    "start_time": "2023-09-20T13:05:56.109Z"
   },
   {
    "duration": 31,
    "start_time": "2023-09-20T13:06:11.654Z"
   },
   {
    "duration": 25,
    "start_time": "2023-09-20T13:06:18.647Z"
   },
   {
    "duration": 6,
    "start_time": "2023-09-20T13:06:31.498Z"
   },
   {
    "duration": 5,
    "start_time": "2023-09-20T13:06:38.907Z"
   },
   {
    "duration": 18,
    "start_time": "2023-09-20T13:06:45.123Z"
   },
   {
    "duration": 21,
    "start_time": "2023-09-20T13:07:06.141Z"
   },
   {
    "duration": 12,
    "start_time": "2023-09-20T13:07:33.680Z"
   },
   {
    "duration": 12,
    "start_time": "2023-09-20T13:07:42.435Z"
   },
   {
    "duration": 5,
    "start_time": "2023-09-20T13:07:46.982Z"
   },
   {
    "duration": 6,
    "start_time": "2023-09-20T13:07:47.378Z"
   },
   {
    "duration": 17,
    "start_time": "2023-09-20T13:07:47.802Z"
   },
   {
    "duration": 4,
    "start_time": "2023-09-20T13:23:35.509Z"
   },
   {
    "duration": 254,
    "start_time": "2023-09-20T13:23:35.516Z"
   },
   {
    "duration": 26,
    "start_time": "2023-09-20T13:23:35.772Z"
   },
   {
    "duration": 51,
    "start_time": "2023-09-20T13:23:35.801Z"
   },
   {
    "duration": 32,
    "start_time": "2023-09-20T13:23:35.854Z"
   },
   {
    "duration": 41,
    "start_time": "2023-09-20T13:23:35.888Z"
   },
   {
    "duration": 117,
    "start_time": "2023-09-20T13:23:35.932Z"
   },
   {
    "duration": 203,
    "start_time": "2023-09-20T13:23:36.056Z"
   },
   {
    "duration": 49,
    "start_time": "2023-09-20T13:23:36.261Z"
   },
   {
    "duration": 23,
    "start_time": "2023-09-20T13:23:36.314Z"
   },
   {
    "duration": 123,
    "start_time": "2023-09-20T13:23:36.339Z"
   },
   {
    "duration": 14,
    "start_time": "2023-09-20T13:23:36.464Z"
   },
   {
    "duration": 76,
    "start_time": "2023-09-20T13:23:36.481Z"
   },
   {
    "duration": 29,
    "start_time": "2023-09-20T13:23:36.563Z"
   },
   {
    "duration": 27,
    "start_time": "2023-09-20T13:23:36.595Z"
   },
   {
    "duration": 69,
    "start_time": "2023-09-20T13:23:36.624Z"
   },
   {
    "duration": 107,
    "start_time": "2023-09-20T13:23:36.696Z"
   },
   {
    "duration": 115,
    "start_time": "2023-09-20T13:23:36.805Z"
   },
   {
    "duration": 500,
    "start_time": "2023-09-20T13:23:36.922Z"
   },
   {
    "duration": 62,
    "start_time": "2023-09-20T13:23:37.424Z"
   },
   {
    "duration": 4,
    "start_time": "2023-09-20T13:23:37.488Z"
   },
   {
    "duration": 27,
    "start_time": "2023-09-20T13:23:37.493Z"
   },
   {
    "duration": 64,
    "start_time": "2023-09-20T13:23:37.522Z"
   },
   {
    "duration": 27,
    "start_time": "2023-09-20T13:23:37.588Z"
   },
   {
    "duration": 98,
    "start_time": "2023-09-20T13:23:37.618Z"
   },
   {
    "duration": 104,
    "start_time": "2023-09-20T13:23:37.718Z"
   },
   {
    "duration": 249,
    "start_time": "2023-09-20T13:23:37.824Z"
   },
   {
    "duration": 30,
    "start_time": "2023-09-20T13:23:38.082Z"
   },
   {
    "duration": 13,
    "start_time": "2023-09-20T13:23:38.162Z"
   },
   {
    "duration": 126,
    "start_time": "2023-09-20T13:23:38.177Z"
   },
   {
    "duration": 83,
    "start_time": "2023-09-20T13:23:38.306Z"
   },
   {
    "duration": 70,
    "start_time": "2023-09-20T13:23:38.391Z"
   },
   {
    "duration": 113,
    "start_time": "2023-09-20T13:23:38.463Z"
   },
   {
    "duration": 12,
    "start_time": "2023-09-20T13:23:38.578Z"
   },
   {
    "duration": 41,
    "start_time": "2023-09-20T13:23:38.593Z"
   },
   {
    "duration": 97,
    "start_time": "2023-09-20T13:23:38.635Z"
   },
   {
    "duration": 271,
    "start_time": "2023-09-20T13:23:38.735Z"
   },
   {
    "duration": 302,
    "start_time": "2023-09-20T13:23:39.008Z"
   },
   {
    "duration": 241,
    "start_time": "2023-09-20T13:23:39.311Z"
   },
   {
    "duration": 187,
    "start_time": "2023-09-20T13:23:39.555Z"
   },
   {
    "duration": 237,
    "start_time": "2023-09-20T13:23:39.744Z"
   },
   {
    "duration": 487,
    "start_time": "2023-09-20T13:23:39.983Z"
   },
   {
    "duration": 248,
    "start_time": "2023-09-20T13:23:40.472Z"
   },
   {
    "duration": 1397,
    "start_time": "2023-09-20T13:44:15.118Z"
   },
   {
    "duration": 194,
    "start_time": "2023-09-20T13:44:16.516Z"
   },
   {
    "duration": 25,
    "start_time": "2023-09-20T13:44:16.711Z"
   },
   {
    "duration": 14,
    "start_time": "2023-09-20T13:44:16.738Z"
   },
   {
    "duration": 8,
    "start_time": "2023-09-20T13:44:16.755Z"
   },
   {
    "duration": 53,
    "start_time": "2023-09-20T13:44:16.765Z"
   },
   {
    "duration": 93,
    "start_time": "2023-09-20T13:44:16.820Z"
   },
   {
    "duration": 173,
    "start_time": "2023-09-20T13:44:16.914Z"
   },
   {
    "duration": 35,
    "start_time": "2023-09-20T13:44:17.089Z"
   },
   {
    "duration": 27,
    "start_time": "2023-09-20T13:44:17.127Z"
   },
   {
    "duration": 91,
    "start_time": "2023-09-20T13:44:17.156Z"
   },
   {
    "duration": 46,
    "start_time": "2023-09-20T13:44:17.249Z"
   },
   {
    "duration": 56,
    "start_time": "2023-09-20T13:44:17.297Z"
   },
   {
    "duration": 4,
    "start_time": "2023-09-20T13:44:17.355Z"
   },
   {
    "duration": 14,
    "start_time": "2023-09-20T13:44:17.361Z"
   },
   {
    "duration": 37,
    "start_time": "2023-09-20T13:44:17.376Z"
   },
   {
    "duration": 75,
    "start_time": "2023-09-20T13:44:17.415Z"
   },
   {
    "duration": 95,
    "start_time": "2023-09-20T13:44:17.492Z"
   },
   {
    "duration": 446,
    "start_time": "2023-09-20T13:44:17.590Z"
   },
   {
    "duration": 34,
    "start_time": "2023-09-20T13:44:18.039Z"
   },
   {
    "duration": 4,
    "start_time": "2023-09-20T13:44:18.076Z"
   },
   {
    "duration": 29,
    "start_time": "2023-09-20T13:44:18.082Z"
   },
   {
    "duration": 16,
    "start_time": "2023-09-20T13:44:18.113Z"
   },
   {
    "duration": 7,
    "start_time": "2023-09-20T13:44:18.131Z"
   },
   {
    "duration": 104,
    "start_time": "2023-09-20T13:44:18.140Z"
   },
   {
    "duration": 97,
    "start_time": "2023-09-20T13:44:18.247Z"
   },
   {
    "duration": 768,
    "start_time": "2023-09-20T13:44:18.346Z"
   },
   {
    "duration": 24,
    "start_time": "2023-09-20T13:44:19.117Z"
   },
   {
    "duration": 8,
    "start_time": "2023-09-20T13:44:19.142Z"
   },
   {
    "duration": 104,
    "start_time": "2023-09-20T13:44:19.151Z"
   },
   {
    "duration": 67,
    "start_time": "2023-09-20T13:44:19.309Z"
   },
   {
    "duration": 73,
    "start_time": "2023-09-20T13:44:19.378Z"
   },
   {
    "duration": 106,
    "start_time": "2023-09-20T13:44:19.452Z"
   },
   {
    "duration": 12,
    "start_time": "2023-09-20T13:44:19.560Z"
   },
   {
    "duration": 35,
    "start_time": "2023-09-20T13:44:19.575Z"
   },
   {
    "duration": 83,
    "start_time": "2023-09-20T13:44:19.615Z"
   },
   {
    "duration": 209,
    "start_time": "2023-09-20T13:44:19.700Z"
   },
   {
    "duration": 199,
    "start_time": "2023-09-20T13:44:19.911Z"
   },
   {
    "duration": 242,
    "start_time": "2023-09-20T13:44:20.112Z"
   },
   {
    "duration": 182,
    "start_time": "2023-09-20T13:44:20.356Z"
   },
   {
    "duration": 209,
    "start_time": "2023-09-20T13:44:20.540Z"
   },
   {
    "duration": 401,
    "start_time": "2023-09-20T13:44:20.751Z"
   },
   {
    "duration": 221,
    "start_time": "2023-09-20T13:44:21.154Z"
   },
   {
    "duration": 61,
    "start_time": "2023-09-25T14:07:33.377Z"
   },
   {
    "duration": 1534,
    "start_time": "2023-09-25T14:07:37.483Z"
   },
   {
    "duration": 899,
    "start_time": "2023-09-25T14:07:39.019Z"
   },
   {
    "duration": 42,
    "start_time": "2023-09-25T14:07:39.919Z"
   },
   {
    "duration": 9,
    "start_time": "2023-09-25T14:07:39.968Z"
   },
   {
    "duration": 7,
    "start_time": "2023-09-25T14:07:39.979Z"
   },
   {
    "duration": 15,
    "start_time": "2023-09-25T14:07:39.987Z"
   },
   {
    "duration": 94,
    "start_time": "2023-09-25T14:07:40.004Z"
   },
   {
    "duration": 198,
    "start_time": "2023-09-25T14:07:40.100Z"
   },
   {
    "duration": 56,
    "start_time": "2023-09-25T14:07:40.301Z"
   },
   {
    "duration": 33,
    "start_time": "2023-09-25T14:07:40.360Z"
   },
   {
    "duration": 106,
    "start_time": "2023-09-25T14:07:40.395Z"
   },
   {
    "duration": 10,
    "start_time": "2023-09-25T14:07:40.503Z"
   },
   {
    "duration": 83,
    "start_time": "2023-09-25T14:07:40.515Z"
   },
   {
    "duration": 4,
    "start_time": "2023-09-25T14:07:40.599Z"
   },
   {
    "duration": 14,
    "start_time": "2023-09-25T14:07:40.605Z"
   },
   {
    "duration": 45,
    "start_time": "2023-09-25T14:07:40.620Z"
   },
   {
    "duration": 67,
    "start_time": "2023-09-25T14:07:40.666Z"
   },
   {
    "duration": 91,
    "start_time": "2023-09-25T14:07:40.734Z"
   },
   {
    "duration": 439,
    "start_time": "2023-09-25T14:07:40.827Z"
   },
   {
    "duration": 32,
    "start_time": "2023-09-25T14:07:41.268Z"
   },
   {
    "duration": 4,
    "start_time": "2023-09-25T14:07:41.301Z"
   },
   {
    "duration": 23,
    "start_time": "2023-09-25T14:07:41.307Z"
   },
   {
    "duration": 25,
    "start_time": "2023-09-25T14:07:41.332Z"
   },
   {
    "duration": 6,
    "start_time": "2023-09-25T14:07:41.363Z"
   },
   {
    "duration": 82,
    "start_time": "2023-09-25T14:07:41.371Z"
   },
   {
    "duration": 103,
    "start_time": "2023-09-25T14:07:41.457Z"
   },
   {
    "duration": 99,
    "start_time": "2023-09-25T14:07:45.210Z"
   },
   {
    "duration": 228,
    "start_time": "2023-09-25T14:07:48.183Z"
   },
   {
    "duration": 1166,
    "start_time": "2024-01-14T19:07:46.088Z"
   },
   {
    "duration": 487,
    "start_time": "2024-01-14T19:07:47.256Z"
   },
   {
    "duration": 24,
    "start_time": "2024-01-14T19:07:47.744Z"
   },
   {
    "duration": 12,
    "start_time": "2024-01-14T19:07:47.770Z"
   },
   {
    "duration": 8,
    "start_time": "2024-01-14T19:07:47.783Z"
   },
   {
    "duration": 16,
    "start_time": "2024-01-14T19:07:47.792Z"
   },
   {
    "duration": 100,
    "start_time": "2024-01-14T19:07:47.810Z"
   },
   {
    "duration": 157,
    "start_time": "2024-01-14T19:07:47.912Z"
   },
   {
    "duration": 25,
    "start_time": "2024-01-14T19:07:48.071Z"
   },
   {
    "duration": 18,
    "start_time": "2024-01-14T19:07:48.099Z"
   },
   {
    "duration": 93,
    "start_time": "2024-01-14T19:07:48.119Z"
   },
   {
    "duration": 10,
    "start_time": "2024-01-14T19:07:48.214Z"
   },
   {
    "duration": 52,
    "start_time": "2024-01-14T19:07:48.225Z"
   },
   {
    "duration": 3,
    "start_time": "2024-01-14T19:07:48.279Z"
   },
   {
    "duration": 8,
    "start_time": "2024-01-14T19:07:48.283Z"
   },
   {
    "duration": 18,
    "start_time": "2024-01-14T19:07:48.292Z"
   },
   {
    "duration": 98,
    "start_time": "2024-01-14T19:07:48.311Z"
   },
   {
    "duration": 85,
    "start_time": "2024-01-14T19:07:48.410Z"
   },
   {
    "duration": 381,
    "start_time": "2024-01-14T19:07:48.497Z"
   },
   {
    "duration": 33,
    "start_time": "2024-01-14T19:07:48.880Z"
   },
   {
    "duration": 4,
    "start_time": "2024-01-14T19:07:48.914Z"
   },
   {
    "duration": 24,
    "start_time": "2024-01-14T19:07:48.919Z"
   },
   {
    "duration": 14,
    "start_time": "2024-01-14T19:07:48.945Z"
   },
   {
    "duration": 6,
    "start_time": "2024-01-14T19:07:48.960Z"
   },
   {
    "duration": 55,
    "start_time": "2024-01-14T19:07:48.967Z"
   },
   {
    "duration": 82,
    "start_time": "2024-01-14T19:07:49.042Z"
   },
   {
    "duration": 159,
    "start_time": "2024-01-14T19:07:49.126Z"
   },
   {
    "duration": 19,
    "start_time": "2024-01-14T19:07:49.289Z"
   },
   {
    "duration": 35,
    "start_time": "2024-01-14T19:07:49.310Z"
   },
   {
    "duration": 101,
    "start_time": "2024-01-14T19:07:49.346Z"
   },
   {
    "duration": 60,
    "start_time": "2024-01-14T19:07:49.448Z"
   },
   {
    "duration": 58,
    "start_time": "2024-01-14T19:07:49.509Z"
   },
   {
    "duration": 96,
    "start_time": "2024-01-14T19:07:49.568Z"
   },
   {
    "duration": 10,
    "start_time": "2024-01-14T19:07:49.665Z"
   },
   {
    "duration": 6,
    "start_time": "2024-01-14T19:07:49.676Z"
   },
   {
    "duration": 65,
    "start_time": "2024-01-14T19:07:49.683Z"
   },
   {
    "duration": 187,
    "start_time": "2024-01-14T19:07:49.750Z"
   },
   {
    "duration": 183,
    "start_time": "2024-01-14T19:07:49.938Z"
   },
   {
    "duration": 183,
    "start_time": "2024-01-14T19:07:50.122Z"
   },
   {
    "duration": 154,
    "start_time": "2024-01-14T19:07:50.306Z"
   },
   {
    "duration": 184,
    "start_time": "2024-01-14T19:07:50.462Z"
   },
   {
    "duration": 364,
    "start_time": "2024-01-14T19:07:50.648Z"
   },
   {
    "duration": 218,
    "start_time": "2024-01-14T19:07:51.013Z"
   }
  ],
  "kernelspec": {
   "display_name": "Python 3 (ipykernel)",
   "language": "python",
   "name": "python3"
  },
  "language_info": {
   "codemirror_mode": {
    "name": "ipython",
    "version": 3
   },
   "file_extension": ".py",
   "mimetype": "text/x-python",
   "name": "python",
   "nbconvert_exporter": "python",
   "pygments_lexer": "ipython3",
   "version": "3.10.9"
  },
  "toc": {
   "base_numbering": 1,
   "nav_menu": {},
   "number_sections": true,
   "sideBar": true,
   "skip_h1_title": true,
   "title_cell": "Table of Contents",
   "title_sidebar": "Contents",
   "toc_cell": false,
   "toc_position": {
    "height": "calc(100% - 180px)",
    "left": "10px",
    "top": "150px",
    "width": "289.391px"
   },
   "toc_section_display": true,
   "toc_window_display": true
  }
 },
 "nbformat": 4,
 "nbformat_minor": 2
}
